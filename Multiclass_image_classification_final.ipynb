{
 "cells": [
  {
   "cell_type": "markdown",
   "metadata": {
    "_cell_guid": "b1076dfc-b9ad-4769-8c92-a6c4dae69d19",
    "_uuid": "8f2839f25d086af736a60e9eeb907d3b93b6e0e5",
    "execution": {
     "iopub.execute_input": "2022-09-18T17:57:26.864632Z",
     "iopub.status.busy": "2022-09-18T17:57:26.864205Z",
     "iopub.status.idle": "2022-09-18T17:57:26.870955Z",
     "shell.execute_reply": "2022-09-18T17:57:26.869711Z",
     "shell.execute_reply.started": "2022-09-18T17:57:26.864594Z"
    }
   },
   "source": [
    " # Importing libraries "
   ]
  },
  {
   "cell_type": "code",
   "execution_count": 4,
   "metadata": {},
   "outputs": [
    {
     "name": "stdout",
     "output_type": "stream",
     "text": [
      "Collecting tensorflow\n",
      "  Downloading tensorflow-2.10.0-cp39-cp39-win_amd64.whl (455.9 MB)\n",
      "Requirement already satisfied: wrapt>=1.11.0 in c:\\users\\sharo\\anaconda3\\lib\\site-packages (from tensorflow) (1.12.1)\n",
      "Collecting libclang>=13.0.0\n",
      "  Downloading libclang-14.0.6-py2.py3-none-win_amd64.whl (14.2 MB)\n",
      "Requirement already satisfied: h5py>=2.9.0 in c:\\users\\sharo\\anaconda3\\lib\\site-packages (from tensorflow) (3.6.0)\n",
      "Requirement already satisfied: numpy>=1.20 in c:\\users\\sharo\\anaconda3\\lib\\site-packages (from tensorflow) (1.21.5)\n",
      "Collecting astunparse>=1.6.0\n",
      "  Downloading astunparse-1.6.3-py2.py3-none-any.whl (12 kB)\n",
      "Collecting tensorflow-estimator<2.11,>=2.10.0\n",
      "  Downloading tensorflow_estimator-2.10.0-py2.py3-none-any.whl (438 kB)\n",
      "Collecting absl-py>=1.0.0\n",
      "  Downloading absl_py-1.2.0-py3-none-any.whl (123 kB)\n",
      "Collecting flatbuffers>=2.0\n",
      "  Downloading flatbuffers-22.9.24-py2.py3-none-any.whl (26 kB)\n",
      "Collecting tensorboard<2.11,>=2.10\n",
      "  Downloading tensorboard-2.10.1-py3-none-any.whl (5.9 MB)\n",
      "Requirement already satisfied: setuptools in c:\\users\\sharo\\anaconda3\\lib\\site-packages (from tensorflow) (61.2.0)\n",
      "Collecting tensorflow-io-gcs-filesystem>=0.23.1\n",
      "  Downloading tensorflow_io_gcs_filesystem-0.27.0-cp39-cp39-win_amd64.whl (1.5 MB)\n",
      "Collecting gast<=0.4.0,>=0.2.1\n",
      "  Downloading gast-0.4.0-py3-none-any.whl (9.8 kB)\n",
      "Requirement already satisfied: typing-extensions>=3.6.6 in c:\\users\\sharo\\anaconda3\\lib\\site-packages (from tensorflow) (4.1.1)\n",
      "Collecting opt-einsum>=2.3.2\n",
      "  Downloading opt_einsum-3.3.0-py3-none-any.whl (65 kB)\n",
      "Requirement already satisfied: packaging in c:\\users\\sharo\\anaconda3\\lib\\site-packages (from tensorflow) (21.3)\n",
      "Requirement already satisfied: protobuf<3.20,>=3.9.2 in c:\\users\\sharo\\anaconda3\\lib\\site-packages (from tensorflow) (3.19.1)\n",
      "Collecting termcolor>=1.1.0\n",
      "  Downloading termcolor-2.0.1-py3-none-any.whl (5.4 kB)\n",
      "Requirement already satisfied: six>=1.12.0 in c:\\users\\sharo\\anaconda3\\lib\\site-packages (from tensorflow) (1.16.0)\n",
      "Collecting google-pasta>=0.1.1\n",
      "  Downloading google_pasta-0.2.0-py3-none-any.whl (57 kB)\n",
      "Collecting keras-preprocessing>=1.1.1\n",
      "  Downloading Keras_Preprocessing-1.1.2-py2.py3-none-any.whl (42 kB)\n",
      "Requirement already satisfied: grpcio<2.0,>=1.24.3 in c:\\users\\sharo\\anaconda3\\lib\\site-packages (from tensorflow) (1.42.0)\n",
      "Collecting keras<2.11,>=2.10.0\n",
      "  Downloading keras-2.10.0-py2.py3-none-any.whl (1.7 MB)\n",
      "Requirement already satisfied: wheel<1.0,>=0.23.0 in c:\\users\\sharo\\anaconda3\\lib\\site-packages (from astunparse>=1.6.0->tensorflow) (0.37.1)\n",
      "Requirement already satisfied: google-auth<3,>=1.6.3 in c:\\users\\sharo\\anaconda3\\lib\\site-packages (from tensorboard<2.11,>=2.10->tensorflow) (1.33.0)\n",
      "Collecting google-auth-oauthlib<0.5,>=0.4.1\n",
      "  Downloading google_auth_oauthlib-0.4.6-py2.py3-none-any.whl (18 kB)\n",
      "Collecting tensorboard-plugin-wit>=1.6.0\n",
      "  Downloading tensorboard_plugin_wit-1.8.1-py3-none-any.whl (781 kB)\n",
      "Requirement already satisfied: werkzeug>=1.0.1 in c:\\users\\sharo\\anaconda3\\lib\\site-packages (from tensorboard<2.11,>=2.10->tensorflow) (2.0.3)\n",
      "Requirement already satisfied: requests<3,>=2.21.0 in c:\\users\\sharo\\anaconda3\\lib\\site-packages (from tensorboard<2.11,>=2.10->tensorflow) (2.27.1)\n",
      "Requirement already satisfied: markdown>=2.6.8 in c:\\users\\sharo\\anaconda3\\lib\\site-packages (from tensorboard<2.11,>=2.10->tensorflow) (3.3.4)\n",
      "Collecting tensorboard-data-server<0.7.0,>=0.6.0\n",
      "  Downloading tensorboard_data_server-0.6.1-py3-none-any.whl (2.4 kB)\n",
      "Requirement already satisfied: cachetools<5.0,>=2.0.0 in c:\\users\\sharo\\anaconda3\\lib\\site-packages (from google-auth<3,>=1.6.3->tensorboard<2.11,>=2.10->tensorflow) (4.2.2)\n",
      "Requirement already satisfied: rsa<5,>=3.1.4 in c:\\users\\sharo\\anaconda3\\lib\\site-packages (from google-auth<3,>=1.6.3->tensorboard<2.11,>=2.10->tensorflow) (4.7.2)\n",
      "Requirement already satisfied: pyasn1-modules>=0.2.1 in c:\\users\\sharo\\anaconda3\\lib\\site-packages (from google-auth<3,>=1.6.3->tensorboard<2.11,>=2.10->tensorflow) (0.2.8)\n",
      "Collecting requests-oauthlib>=0.7.0\n",
      "  Downloading requests_oauthlib-1.3.1-py2.py3-none-any.whl (23 kB)\n",
      "Requirement already satisfied: pyasn1<0.5.0,>=0.4.6 in c:\\users\\sharo\\anaconda3\\lib\\site-packages (from pyasn1-modules>=0.2.1->google-auth<3,>=1.6.3->tensorboard<2.11,>=2.10->tensorflow) (0.4.8)\n",
      "Requirement already satisfied: charset-normalizer~=2.0.0 in c:\\users\\sharo\\anaconda3\\lib\\site-packages (from requests<3,>=2.21.0->tensorboard<2.11,>=2.10->tensorflow) (2.0.4)\n",
      "Requirement already satisfied: idna<4,>=2.5 in c:\\users\\sharo\\anaconda3\\lib\\site-packages (from requests<3,>=2.21.0->tensorboard<2.11,>=2.10->tensorflow) (3.3)\n",
      "Requirement already satisfied: urllib3<1.27,>=1.21.1 in c:\\users\\sharo\\anaconda3\\lib\\site-packages (from requests<3,>=2.21.0->tensorboard<2.11,>=2.10->tensorflow) (1.26.9)\n",
      "Requirement already satisfied: certifi>=2017.4.17 in c:\\users\\sharo\\anaconda3\\lib\\site-packages (from requests<3,>=2.21.0->tensorboard<2.11,>=2.10->tensorflow) (2021.10.8)\n",
      "Collecting oauthlib>=3.0.0\n",
      "  Downloading oauthlib-3.2.1-py3-none-any.whl (151 kB)\n",
      "Requirement already satisfied: pyparsing!=3.0.5,>=2.0.2 in c:\\users\\sharo\\anaconda3\\lib\\site-packages (from packaging->tensorflow) (3.0.4)\n",
      "Installing collected packages: oauthlib, requests-oauthlib, tensorboard-plugin-wit, tensorboard-data-server, google-auth-oauthlib, absl-py, termcolor, tensorflow-io-gcs-filesystem, tensorflow-estimator, tensorboard, opt-einsum, libclang, keras-preprocessing, keras, google-pasta, gast, flatbuffers, astunparse, tensorflow\n",
      "Successfully installed absl-py-1.2.0 astunparse-1.6.3 flatbuffers-22.9.24 gast-0.4.0 google-auth-oauthlib-0.4.6 google-pasta-0.2.0 keras-2.10.0 keras-preprocessing-1.1.2 libclang-14.0.6 oauthlib-3.2.1 opt-einsum-3.3.0 requests-oauthlib-1.3.1 tensorboard-2.10.1 tensorboard-data-server-0.6.1 tensorboard-plugin-wit-1.8.1 tensorflow-2.10.0 tensorflow-estimator-2.10.0 tensorflow-io-gcs-filesystem-0.27.0 termcolor-2.0.1\n",
      "Collecting opencv-python\n",
      "  Downloading opencv_python-4.6.0.66-cp36-abi3-win_amd64.whl (35.6 MB)\n",
      "Requirement already satisfied: numpy>=1.19.3 in c:\\users\\sharo\\anaconda3\\lib\\site-packages (from opencv-python) (1.21.5)\n",
      "Installing collected packages: opencv-python\n",
      "Successfully installed opencv-python-4.6.0.66\n"
     ]
    },
    {
     "name": "stderr",
     "output_type": "stream",
     "text": [
      "ERROR: Could not find a version that satisfies the requirement PIL (from versions: none)\n",
      "ERROR: No matching distribution found for PIL\n"
     ]
    },
    {
     "name": "stdout",
     "output_type": "stream",
     "text": [
      "Collecting Augmentor\n",
      "  Downloading Augmentor-0.2.10-py2.py3-none-any.whl (38 kB)\n",
      "Requirement already satisfied: numpy>=1.11.0 in c:\\users\\sharo\\anaconda3\\lib\\site-packages (from Augmentor) (1.21.5)\n",
      "Requirement already satisfied: tqdm>=4.9.0 in c:\\users\\sharo\\anaconda3\\lib\\site-packages (from Augmentor) (4.64.0)\n",
      "Requirement already satisfied: future>=0.16.0 in c:\\users\\sharo\\anaconda3\\lib\\site-packages (from Augmentor) (0.18.2)\n",
      "Requirement already satisfied: Pillow>=5.2.0 in c:\\users\\sharo\\anaconda3\\lib\\site-packages (from Augmentor) (9.0.1)\n",
      "Requirement already satisfied: colorama in c:\\users\\sharo\\anaconda3\\lib\\site-packages (from tqdm>=4.9.0->Augmentor) (0.4.4)\n",
      "Installing collected packages: Augmentor\n",
      "Successfully installed Augmentor-0.2.10\n"
     ]
    }
   ],
   "source": [
    "!pip install tensorflow\n",
    "!pip install opencv-python\n",
    "!pip install PIL\n",
    "!pip install Augmentor"
   ]
  },
  {
   "cell_type": "code",
   "execution_count": 5,
   "metadata": {
    "execution": {
     "iopub.execute_input": "2022-09-18T16:30:03.261942Z",
     "iopub.status.busy": "2022-09-18T16:30:03.261120Z",
     "iopub.status.idle": "2022-09-18T16:30:10.226648Z",
     "shell.execute_reply": "2022-09-18T16:30:10.225371Z",
     "shell.execute_reply.started": "2022-09-18T16:30:03.261894Z"
    }
   },
   "outputs": [],
   "source": [
    "import numpy as np # linear algebra\n",
    "import pandas as pd # data processing, CSV file I/O (e.g. pd.read_csv)\n",
    "import seaborn as sns # For plotting graphs\n",
    "import matplotlib.pyplot as plt # For image visualization and plotting graphs\n",
    "import os\n",
    "os.environ[\"TF_CPP_MIN_LOG_LEVEL\"] = \"2\"\n",
    "import tensorflow as tf\n",
    "from tensorflow import keras\n",
    "from tensorflow.keras import layers\n",
    "from tensorflow.keras.models import Sequential, Model\n",
    "from tensorflow.keras.layers import BatchNormalization\n",
    "from keras.layers import Input, Lambda, Dense, Flatten, Activation, Dropout\n",
    "from tensorflow.keras.preprocessing.image import ImageDataGenerator\n",
    "import cv2 # For loading the dataset\n",
    "from tqdm import tqdm\n",
    "from PIL import Image\n",
    "from sklearn.utils import shuffle \n",
    "import Augmentor"
   ]
  },
  {
   "cell_type": "markdown",
   "metadata": {},
   "source": [
    "### Importing data in two segments for dataset exploration"
   ]
  },
  {
   "cell_type": "code",
   "execution_count": 6,
   "metadata": {},
   "outputs": [
    {
     "name": "stdout",
     "output_type": "stream",
     "text": [
      "Found 3762 images belonging to 50 classes.\n",
      "Found 1816 images belonging to 50 classes.\n"
     ]
    }
   ],
   "source": [
    "image_size = (150, 150) # Default image size\n",
    "batch_size = 32\n",
    "# required for data augmnetation and dataset exploration\n",
    "train_datagen = ImageDataGenerator(rescale = 1./255,\n",
    "                            shear_range = 0.4,\n",
    "                            zoom_range = 0.4,\n",
    "                            horizontal_flip = True,\n",
    "                            vertical_flip = True,\n",
    "                            validation_split = 0.33)\n",
    "\n",
    "train_ds = train_datagen.flow_from_directory('BarkVN-50/BarkVN-50_mendeley/',\n",
    "                                      target_size = image_size,\n",
    "                                      batch_size = batch_size,\n",
    "                                      class_mode = 'categorical',\n",
    "                                      subset = 'training',\n",
    "                                      color_mode=\"rgb\",)\n",
    "\n",
    "val_ds = train_datagen.flow_from_directory('BarkVN-50/BarkVN-50_mendeley/',\n",
    "                                      target_size = image_size,\n",
    "                                      batch_size = batch_size,\n",
    "                                      class_mode = 'categorical',\n",
    "                                      subset = 'validation',\n",
    "                                      color_mode=\"rgb\")"
   ]
  },
  {
   "cell_type": "code",
   "execution_count": 7,
   "metadata": {},
   "outputs": [
    {
     "name": "stdout",
     "output_type": "stream",
     "text": [
      "Found 5578 files belonging to 50 classes.\n",
      "Using 3905 files for training.\n",
      "Found 5578 files belonging to 50 classes.\n",
      "Using 1673 files for validation.\n"
     ]
    }
   ],
   "source": [
    "ds_train = tf.keras.preprocessing.image_dataset_from_directory(\n",
    "    \"BarkVN-50/BarkVN-50_mendeley/\",\n",
    "    labels=\"inferred\",\n",
    "    label_mode=\"categorical\",  # categorical, binary\n",
    "    # class_names=['0', '1', '2', '3', ...]\n",
    "    color_mode=\"rgb\",\n",
    "    batch_size=batch_size,\n",
    "    image_size=image_size,  # reshape if not in this size\n",
    "    shuffle=False,\n",
    "    seed=123,\n",
    "    validation_split=0.3,\n",
    "    subset=\"training\")\n",
    "\n",
    "ds_validation = tf.keras.preprocessing.image_dataset_from_directory(\n",
    "    \"BarkVN-50/BarkVN-50_mendeley/\",\n",
    "    labels=\"inferred\",\n",
    "    label_mode=\"categorical\",  # categorical, binary\n",
    "    # class_names=['0', '1', '2', '3', ...]\n",
    "    color_mode=\"rgb\",\n",
    "    batch_size=batch_size,\n",
    "    image_size=image_size,  # reshape if not in this size\n",
    "    shuffle=False,\n",
    "    seed=123,\n",
    "    validation_split=0.3,\n",
    "    subset=\"validation\")"
   ]
  },
  {
   "cell_type": "code",
   "execution_count": 8,
   "metadata": {},
   "outputs": [
    {
     "name": "stdout",
     "output_type": "stream",
     "text": [
      "(32, 50)\n"
     ]
    }
   ],
   "source": [
    "for _,label in ds_train.take(1):\n",
    "    print(label.shape)"
   ]
  },
  {
   "cell_type": "markdown",
   "metadata": {},
   "source": [
    "## Exploring and visualizing the dataset"
   ]
  },
  {
   "cell_type": "markdown",
   "metadata": {},
   "source": [
    "### Exploring Train data"
   ]
  },
  {
   "cell_type": "code",
   "execution_count": 9,
   "metadata": {},
   "outputs": [],
   "source": [
    "count = 0\n",
    "train_imgs_per_class = {}\n",
    "for cls in train_ds.class_indices.keys():\n",
    "    for i in range(len(train_ds.filenames)):\n",
    "        if cls in train_ds.filenames[i]:\n",
    "            count += 1\n",
    "    train_imgs_per_class[cls] = count\n",
    "    count = 0"
   ]
  },
  {
   "cell_type": "code",
   "execution_count": 10,
   "metadata": {},
   "outputs": [
    {
     "data": {
      "text/plain": [
       "{'Acacia': 69,\n",
       " 'Adenanthera microsperma': 54,\n",
       " 'Adenium species': 97,\n",
       " 'Anacardium occidentale': 161,\n",
       " 'Annona squamosa': 71,\n",
       " 'Artocarpus altilis': 70,\n",
       " 'Artocarpus heterophyllus': 93,\n",
       " 'Barringtonia acutangula': 69,\n",
       " 'Cananga odorata': 68,\n",
       " 'Carica papaya': 139,\n",
       " 'Casuarina equisetifolia': 65,\n",
       " 'Cedrus': 63,\n",
       " 'Chrysophyllum cainino': 75,\n",
       " 'Citrus aurantiifolia': 73,\n",
       " 'Citrus grandis': 57,\n",
       " 'Cocos nucifera': 74,\n",
       " 'Dalbergia oliveri': 60,\n",
       " 'Delonix regia': 70,\n",
       " 'Dipterocarpus alatus': 106,\n",
       " 'Erythrina fusca': 70,\n",
       " 'Eucalyptus': 86,\n",
       " 'Ficus microcarpa': 101,\n",
       " 'Ficus racemosa': 79,\n",
       " 'Gmelina arborea Roxb': 70,\n",
       " 'Hevea brasiliensis': 74,\n",
       " 'Hopea': 61,\n",
       " 'Khaya senegalensis': 131,\n",
       " 'Khaya senegalensis A.Juss': 67,\n",
       " 'Lagerstroemia speciosa': 65,\n",
       " 'Magnolia alba': 62,\n",
       " 'Mangifera': 62,\n",
       " 'Melaleuca': 72,\n",
       " 'Melia azedarach': 70,\n",
       " 'Musa': 89,\n",
       " 'Nephelium lappaceum': 70,\n",
       " 'Persea': 70,\n",
       " 'Polyalthia longifolia': 67,\n",
       " 'Prunnus': 54,\n",
       " 'Prunus salicina': 71,\n",
       " 'Psidium guajava': 82,\n",
       " 'Pterocarpus macrocarpus': 67,\n",
       " 'Senna siamea': 63,\n",
       " 'Spondias mombin L': 69,\n",
       " 'Syzygium nervosum': 74,\n",
       " 'Tamarindus indica': 70,\n",
       " 'Tectona grandis': 69,\n",
       " 'Terminalia catappa': 76,\n",
       " 'Veitchia merrilli': 102,\n",
       " 'Wrightia': 132,\n",
       " 'Wrightia religiosa': 67}"
      ]
     },
     "execution_count": 10,
     "metadata": {},
     "output_type": "execute_result"
    }
   ],
   "source": [
    "train_imgs_per_class"
   ]
  },
  {
   "cell_type": "code",
   "execution_count": 11,
   "metadata": {},
   "outputs": [
    {
     "data": {
      "text/plain": [
       "count     50.000000\n",
       "mean      77.920000\n",
       "std       22.203916\n",
       "min       54.000000\n",
       "25%       67.000000\n",
       "50%       70.000000\n",
       "75%       78.250000\n",
       "max      161.000000\n",
       "dtype: float64"
      ]
     },
     "execution_count": 11,
     "metadata": {},
     "output_type": "execute_result"
    }
   ],
   "source": [
    "train_df = pd.Series(train_imgs_per_class) \n",
    "train_df.describe()"
   ]
  },
  {
   "cell_type": "code",
   "execution_count": 12,
   "metadata": {},
   "outputs": [
    {
     "data": {
      "text/plain": [
       "Text(0.5, 1.0, 'Number of images per class')"
      ]
     },
     "execution_count": 12,
     "metadata": {},
     "output_type": "execute_result"
    },
    {
     "data": {
      "image/png": "[encoded data removed]",
      "text/plain": [
       "<Figure size 1008x576 with 1 Axes>"
      ]
     },
     "metadata": {
      "needs_background": "light"
     },
     "output_type": "display_data"
    }
   ],
   "source": [
    "plt.figure(figsize=(14, 8))\n",
    "train_df.sort_values().plot(kind='bar')\n",
    "plt.title('Number of images per class')"
   ]
  },
  {
   "cell_type": "markdown",
   "metadata": {},
   "source": [
    "### Exploring Validation data"
   ]
  },
  {
   "cell_type": "code",
   "execution_count": 13,
   "metadata": {},
   "outputs": [
    {
     "data": {
      "text/plain": [
       "{'Acacia': 33,\n",
       " 'Adenanthera microsperma': 26,\n",
       " 'Adenium species': 47,\n",
       " 'Anacardium occidentale': 78,\n",
       " 'Annona squamosa': 34,\n",
       " 'Artocarpus altilis': 34,\n",
       " 'Artocarpus heterophyllus': 45,\n",
       " 'Barringtonia acutangula': 33,\n",
       " 'Cananga odorata': 33,\n",
       " 'Carica papaya': 68,\n",
       " 'Casuarina equisetifolia': 32,\n",
       " 'Cedrus': 30,\n",
       " 'Chrysophyllum cainino': 36,\n",
       " 'Citrus aurantiifolia': 35,\n",
       " 'Citrus grandis': 27,\n",
       " 'Cocos nucifera': 36,\n",
       " 'Dalbergia oliveri': 29,\n",
       " 'Delonix regia': 33,\n",
       " 'Dipterocarpus alatus': 52,\n",
       " 'Erythrina fusca': 34,\n",
       " 'Eucalyptus': 41,\n",
       " 'Ficus microcarpa': 49,\n",
       " 'Ficus racemosa': 38,\n",
       " 'Gmelina arborea Roxb': 33,\n",
       " 'Hevea brasiliensis': 36,\n",
       " 'Hopea': 30,\n",
       " 'Khaya senegalensis': 63,\n",
       " 'Khaya senegalensis A.Juss': 32,\n",
       " 'Lagerstroemia speciosa': 31,\n",
       " 'Magnolia alba': 30,\n",
       " 'Mangifera': 30,\n",
       " 'Melaleuca': 35,\n",
       " 'Melia azedarach': 33,\n",
       " 'Musa': 43,\n",
       " 'Nephelium lappaceum': 34,\n",
       " 'Persea': 33,\n",
       " 'Polyalthia longifolia': 33,\n",
       " 'Prunnus': 26,\n",
       " 'Prunus salicina': 34,\n",
       " 'Psidium guajava': 40,\n",
       " 'Pterocarpus macrocarpus': 33,\n",
       " 'Senna siamea': 30,\n",
       " 'Spondias mombin L': 33,\n",
       " 'Syzygium nervosum': 35,\n",
       " 'Tamarindus indica': 33,\n",
       " 'Tectona grandis': 33,\n",
       " 'Terminalia catappa': 37,\n",
       " 'Veitchia merrilli': 50,\n",
       " 'Wrightia': 65,\n",
       " 'Wrightia religiosa': 33}"
      ]
     },
     "execution_count": 13,
     "metadata": {},
     "output_type": "execute_result"
    }
   ],
   "source": [
    "count = 0\n",
    "val_imgs_per_class = {}\n",
    "for cls in val_ds.class_indices.keys():\n",
    "    for i in range(len(val_ds.filenames)):\n",
    "        if cls in val_ds.filenames[i]:\n",
    "            count += 1\n",
    "    val_imgs_per_class[cls] = count\n",
    "    count = 0\n",
    "val_imgs_per_class"
   ]
  },
  {
   "cell_type": "code",
   "execution_count": 14,
   "metadata": {},
   "outputs": [
    {
     "data": {
      "text/plain": [
       "count    50.000000\n",
       "mean     37.620000\n",
       "std      10.928133\n",
       "min      26.000000\n",
       "25%      33.000000\n",
       "50%      33.500000\n",
       "75%      37.750000\n",
       "max      78.000000\n",
       "dtype: float64"
      ]
     },
     "execution_count": 14,
     "metadata": {},
     "output_type": "execute_result"
    }
   ],
   "source": [
    "val_df = pd.Series(val_imgs_per_class)\n",
    "val_df.describe()"
   ]
  },
  {
   "cell_type": "code",
   "execution_count": 15,
   "metadata": {},
   "outputs": [
    {
     "data": {
      "text/plain": [
       "Text(0.5, 1.0, 'Number of images per class')"
      ]
     },
     "execution_count": 15,
     "metadata": {},
     "output_type": "execute_result"
    },
    {
     "data": {
      "image/png": "[encoded data removed]",
      "text/plain": [
       "<Figure size 1008x576 with 1 Axes>"
      ]
     },
     "metadata": {
      "needs_background": "light"
     },
     "output_type": "display_data"
    }
   ],
   "source": [
    "plt.figure(figsize=(14, 8))\n",
    "(val_df.sort_values()).plot(kind='bar')\n",
    "plt.title('Number of images per class')"
   ]
  },
  {
   "cell_type": "code",
   "execution_count": 16,
   "metadata": {
    "execution": {
     "iopub.execute_input": "2022-09-18T17:34:26.134646Z",
     "iopub.status.busy": "2022-09-18T17:34:26.134240Z",
     "iopub.status.idle": "2022-09-18T17:34:26.141126Z",
     "shell.execute_reply": "2022-09-18T17:34:26.139520Z",
     "shell.execute_reply.started": "2022-09-18T17:34:26.134613Z"
    }
   },
   "outputs": [
    {
     "name": "stdout",
     "output_type": "stream",
     "text": [
      "dict_keys(['Acacia', 'Adenanthera microsperma', 'Adenium species', 'Anacardium occidentale', 'Annona squamosa', 'Artocarpus altilis', 'Artocarpus heterophyllus', 'Barringtonia acutangula', 'Cananga odorata', 'Carica papaya', 'Casuarina equisetifolia', 'Cedrus', 'Chrysophyllum cainino', 'Citrus aurantiifolia', 'Citrus grandis', 'Cocos nucifera', 'Dalbergia oliveri', 'Delonix regia', 'Dipterocarpus alatus', 'Erythrina fusca', 'Eucalyptus', 'Ficus microcarpa', 'Ficus racemosa', 'Gmelina arborea Roxb', 'Hevea brasiliensis', 'Hopea', 'Khaya senegalensis', 'Khaya senegalensis A.Juss', 'Lagerstroemia speciosa', 'Magnolia alba', 'Mangifera', 'Melaleuca', 'Melia azedarach', 'Musa', 'Nephelium lappaceum', 'Persea', 'Polyalthia longifolia', 'Prunnus', 'Prunus salicina', 'Psidium guajava', 'Pterocarpus macrocarpus', 'Senna siamea', 'Spondias mombin L', 'Syzygium nervosum', 'Tamarindus indica', 'Tectona grandis', 'Terminalia catappa', 'Veitchia merrilli', 'Wrightia', 'Wrightia religiosa'])\n"
     ]
    }
   ],
   "source": [
    "class_names = train_imgs_per_class.keys()\n",
    "print(class_names)"
   ]
  },
  {
   "cell_type": "code",
   "execution_count": 17,
   "metadata": {},
   "outputs": [
    {
     "data": {
      "text/plain": [
       "{'Acacia': 0,\n",
       " 'Adenanthera microsperma': 1,\n",
       " 'Adenium species': 2,\n",
       " 'Anacardium occidentale': 3,\n",
       " 'Annona squamosa': 4,\n",
       " 'Artocarpus altilis': 5,\n",
       " 'Artocarpus heterophyllus': 6,\n",
       " 'Barringtonia acutangula': 7,\n",
       " 'Cananga odorata': 8,\n",
       " 'Carica papaya': 9,\n",
       " 'Casuarina equisetifolia': 10,\n",
       " 'Cedrus': 11,\n",
       " 'Chrysophyllum cainino': 12,\n",
       " 'Citrus aurantiifolia': 13,\n",
       " 'Citrus grandis': 14,\n",
       " 'Cocos nucifera': 15,\n",
       " 'Dalbergia oliveri': 16,\n",
       " 'Delonix regia': 17,\n",
       " 'Dipterocarpus alatus': 18,\n",
       " 'Erythrina fusca': 19,\n",
       " 'Eucalyptus': 20,\n",
       " 'Ficus microcarpa': 21,\n",
       " 'Ficus racemosa': 22,\n",
       " 'Gmelina arborea Roxb': 23,\n",
       " 'Hevea brasiliensis': 24,\n",
       " 'Hopea': 25,\n",
       " 'Khaya senegalensis': 26,\n",
       " 'Khaya senegalensis A.Juss': 27,\n",
       " 'Lagerstroemia speciosa': 28,\n",
       " 'Magnolia alba': 29,\n",
       " 'Mangifera': 30,\n",
       " 'Melaleuca': 31,\n",
       " 'Melia azedarach': 32,\n",
       " 'Musa': 33,\n",
       " 'Nephelium lappaceum': 34,\n",
       " 'Persea': 35,\n",
       " 'Polyalthia longifolia': 36,\n",
       " 'Prunnus': 37,\n",
       " 'Prunus salicina': 38,\n",
       " 'Psidium guajava': 39,\n",
       " 'Pterocarpus macrocarpus': 40,\n",
       " 'Senna siamea': 41,\n",
       " 'Spondias mombin L': 42,\n",
       " 'Syzygium nervosum': 43,\n",
       " 'Tamarindus indica': 44,\n",
       " 'Tectona grandis': 45,\n",
       " 'Terminalia catappa': 46,\n",
       " 'Veitchia merrilli': 47,\n",
       " 'Wrightia': 48,\n",
       " 'Wrightia religiosa': 49}"
      ]
     },
     "execution_count": 17,
     "metadata": {},
     "output_type": "execute_result"
    }
   ],
   "source": [
    "dict_labels = dict(zip(class_names, list(range(len(class_names)))))\n",
    "dict_labels"
   ]
  },
  {
   "cell_type": "markdown",
   "metadata": {},
   "source": [
    "As the image sample per class is not uniformly distributed, we will create augmented images using **Augmentor pipeline** for those classes which have less image samples than the average so that our model performs well on validation data (as we will have more validation data)."
   ]
  },
  {
   "cell_type": "markdown",
   "metadata": {},
   "source": [
    "## Dealing with data imbalance"
   ]
  },
  {
   "cell_type": "markdown",
   "metadata": {},
   "source": [
    "### Creating more data using image augmentation"
   ]
  },
  {
   "cell_type": "code",
   "execution_count": 18,
   "metadata": {},
   "outputs": [],
   "source": [
    "avg_class = (sum(train_imgs_per_class.values()) + sum(val_imgs_per_class.values()))//50 # Average number of images per class"
   ]
  },
  {
   "cell_type": "code",
   "execution_count": 19,
   "metadata": {},
   "outputs": [
    {
     "data": {
      "text/plain": [
       "115"
      ]
     },
     "execution_count": 19,
     "metadata": {},
     "output_type": "execute_result"
    }
   ],
   "source": [
    "avg_class"
   ]
  },
  {
   "cell_type": "code",
   "execution_count": 20,
   "metadata": {},
   "outputs": [
    {
     "name": "stderr",
     "output_type": "stream",
     "text": [
      "\r",
      "  0%|                                                                                           | 0/50 [00:00<?, ?it/s]"
     ]
    },
    {
     "name": "stdout",
     "output_type": "stream",
     "text": [
      "Initialised with 102 image(s) found.\n",
      "Output directory set to BarkVN-50/BarkVN-50_mendeley/Acacia/output."
     ]
    },
    {
     "name": "stderr",
     "output_type": "stream",
     "text": [
      "\n",
      "Processing:   0%|                                                                         | 0/102 [00:00<?, ? Images/s]\u001b[A\n",
      "                                                                                                                       \u001b[A"
     ]
    },
    {
     "name": "stdout",
     "output_type": "stream",
     "text": [
      "102 ground truth image(s) found.\n"
     ]
    },
    {
     "name": "stderr",
     "output_type": "stream",
     "text": [
      "\n",
      "Executing Pipeline:   0%|                                                                 | 0/31 [00:00<?, ? Samples/s]\u001b[A\n",
      "Processing <PIL.Image.Image image mode=RGB size=303x404 at 0x215C66BDFA0>:   0%|          | 0/31 [00:00<?, ? Samples/s]\u001b[A\n",
      "Processing <PIL.Image.Image image mode=RGB size=303x404 at 0x215C66BDFA0>:   3%|  | 1/31 [00:00<00:06,  4.44 Samples/s]\u001b[A\n",
      "Processing <PIL.Image.Image image mode=RGB size=303x404 at 0x215C66BDF10>:   3%|  | 1/31 [00:00<00:06,  4.44 Samples/s]\u001b[A\n",
      "Processing <PIL.Image.Image image mode=RGB size=303x404 at 0x215C66C80A0>:   6%|▏ | 2/31 [00:00<00:06,  4.44 Samples/s]\u001b[A\n",
      "Processing <PIL.Image.Image image mode=RGB size=303x404 at 0x215C66C8DF0>:  10%|▏ | 3/31 [00:00<00:06,  4.44 Samples/s]\u001b[A\n",
      "Processing <PIL.Image.Image image mode=RGB size=303x404 at 0x215C66C8C10>:  13%|▎ | 4/31 [00:00<00:06,  4.44 Samples/s]\u001b[A\n",
      "Processing <PIL.Image.Image image mode=RGB size=303x404 at 0x215C66BD760>:  16%|▎ | 5/31 [00:00<00:05,  4.44 Samples/s]\u001b[A\n",
      "Processing <PIL.Image.Image image mode=RGB size=303x404 at 0x215C66C8520>:  19%|▍ | 6/31 [00:00<00:05,  4.44 Samples/s]\u001b[A\n",
      "Processing <PIL.Image.Image image mode=RGB size=303x404 at 0x215C66C86A0>:  23%|▍ | 7/31 [00:00<00:05,  4.44 Samples/s]\u001b[A\n",
      "Processing <PIL.Image.Image image mode=RGB size=303x404 at 0x215C66C84C0>:  26%|▌ | 8/31 [00:00<00:05,  4.44 Samples/s]\u001b[A\n",
      "Processing <PIL.Image.Image image mode=RGB size=303x404 at 0x215C66C8430>:  29%|▌ | 9/31 [00:00<00:04,  4.44 Samples/s]\u001b[A\n",
      "Processing <PIL.Image.Image image mode=RGB size=303x404 at 0x215C66D6490>:  32%|▎| 10/31 [00:00<00:04,  4.44 Samples/s]\u001b[A\n",
      "Processing <PIL.Image.Image image mode=RGB size=303x404 at 0x215C66D6490>:  35%|▎| 11/31 [00:00<00:00, 31.72 Samples/s]\u001b[A\n",
      "Processing <PIL.Image.Image image mode=RGB size=303x404 at 0x215C66BD1F0>:  35%|▎| 11/31 [00:00<00:00, 31.72 Samples/s]\u001b[A\n",
      "Processing <PIL.Image.Image image mode=RGB size=303x404 at 0x215C66C8D90>:  39%|▍| 12/31 [00:00<00:00, 31.72 Samples/s]\u001b[A\n",
      "Processing <PIL.Image.Image image mode=RGB size=303x404 at 0x215C66BDAF0>:  42%|▍| 13/31 [00:00<00:00, 31.72 Samples/s]\u001b[A\n",
      "Processing <PIL.Image.Image image mode=RGB size=303x404 at 0x215C66AD7C0>:  45%|▍| 14/31 [00:00<00:00, 31.72 Samples/s]\u001b[A\n",
      "Processing <PIL.Image.Image image mode=RGB size=303x404 at 0x215C66AD7C0>:  48%|▍| 15/31 [00:00<00:00, 29.94 Samples/s]\u001b[A\n",
      "Processing <PIL.Image.Image image mode=RGB size=303x404 at 0x215C66D6F40>:  48%|▍| 15/31 [00:00<00:00, 29.94 Samples/s]\u001b[A\n",
      "Processing <PIL.Image.Image image mode=RGB size=303x404 at 0x215C66D6370>:  52%|▌| 16/31 [00:00<00:00, 29.94 Samples/s]\u001b[A\n",
      "Processing <PIL.Image.Image image mode=RGB size=303x404 at 0x215C66C8D90>:  55%|▌| 17/31 [00:00<00:00, 29.94 Samples/s]\u001b[A\n",
      "Processing <PIL.Image.Image image mode=RGB size=303x404 at 0x215C66BDBE0>:  58%|▌| 18/31 [00:00<00:00, 29.94 Samples/s]\u001b[A\n",
      "Processing <PIL.Image.Image image mode=RGB size=303x404 at 0x215C66AD9D0>:  61%|▌| 19/31 [00:00<00:00, 29.94 Samples/s]\u001b[A\n",
      "Processing <PIL.Image.Image image mode=RGB size=303x404 at 0x215C66D65B0>:  65%|▋| 20/31 [00:00<00:00, 29.94 Samples/s]\u001b[A\n",
      "Processing <PIL.Image.Image image mode=RGB size=303x404 at 0x215C66AD6D0>:  68%|▋| 21/31 [00:00<00:00, 29.94 Samples/s]\u001b[A\n",
      "Processing <PIL.Image.Image image mode=RGB size=303x404 at 0x215C66D6C10>:  71%|▋| 22/31 [00:00<00:00, 29.94 Samples/s]\u001b[A\n",
      "Processing <PIL.Image.Image image mode=RGB size=303x404 at 0x215C66D68E0>:  74%|▋| 23/31 [00:00<00:00, 29.94 Samples/s]\u001b[A\n",
      "Processing <PIL.Image.Image image mode=RGB size=303x404 at 0x215C66C8D60>:  77%|▊| 24/31 [00:00<00:00, 29.94 Samples/s]\u001b[A\n",
      "Processing <PIL.Image.Image image mode=RGB size=303x404 at 0x215C66D6C70>:  81%|▊| 25/31 [00:00<00:00, 29.94 Samples/s]\u001b[A\n",
      "Processing <PIL.Image.Image image mode=RGB size=303x404 at 0x215C66D6C70>:  84%|▊| 26/31 [00:00<00:00, 46.53 Samples/s]\u001b[A\n",
      "Processing <PIL.Image.Image image mode=RGB size=303x404 at 0x215C66D69A0>:  84%|▊| 26/31 [00:00<00:00, 46.53 Samples/s]\u001b[A\n",
      "Processing <PIL.Image.Image image mode=RGB size=303x404 at 0x215C66D6400>:  87%|▊| 27/31 [00:00<00:00, 46.53 Samples/s]\u001b[A\n",
      "Processing <PIL.Image.Image image mode=RGB size=303x404 at 0x215C66D6820>:  90%|▉| 28/31 [00:00<00:00, 46.53 Samples/s]\u001b[A\n",
      "Processing <PIL.Image.Image image mode=RGB size=303x404 at 0x215C66D64F0>:  94%|▉| 29/31 [00:00<00:00, 46.53 Samples/s]\u001b[A\n",
      "Processing <PIL.Image.Image image mode=RGB size=303x404 at 0x215C66D69D0>: 100%|█| 31/31 [00:00<00:00, 40.90 Samples/s]\u001b[A\n",
      "  2%|█▋                                                                                 | 1/50 [00:01<01:03,  1.30s/it]"
     ]
    },
    {
     "name": "stdout",
     "output_type": "stream",
     "text": [
      "Initialised with 80 image(s) found.\n",
      "Output directory set to BarkVN-50/BarkVN-50_mendeley/Adenanthera microsperma/output."
     ]
    },
    {
     "name": "stderr",
     "output_type": "stream",
     "text": [
      "\n",
      "Processing:   0%|                                                                          | 0/80 [00:00<?, ? Images/s]\u001b[A\n",
      "                                                                                                                       \u001b[A"
     ]
    },
    {
     "name": "stdout",
     "output_type": "stream",
     "text": [
      "80 ground truth image(s) found.\n"
     ]
    },
    {
     "name": "stderr",
     "output_type": "stream",
     "text": [
      "\n",
      "Executing Pipeline:   0%|                                                                 | 0/46 [00:00<?, ? Samples/s]\u001b[A\n",
      "Processing <PIL.Image.Image image mode=RGB size=303x404 at 0x215C668AEE0>:   0%|          | 0/46 [00:00<?, ? Samples/s]\u001b[A\n",
      "Processing <PIL.Image.Image image mode=RGB size=303x404 at 0x215C668AEE0>:   2%|  | 1/46 [00:00<00:09,  4.77 Samples/s]\u001b[A\n",
      "Processing <PIL.Image.Image image mode=RGB size=303x404 at 0x215C66ADA60>:   2%|  | 1/46 [00:00<00:09,  4.77 Samples/s]\u001b[A\n",
      "Processing <PIL.Image.Image image mode=RGB size=303x404 at 0x215C66C8460>:   4%|  | 2/46 [00:00<00:09,  4.77 Samples/s]\u001b[A\n",
      "Processing <PIL.Image.Image image mode=RGB size=303x404 at 0x215C668AB80>:   7%|▏ | 3/46 [00:00<00:09,  4.77 Samples/s]\u001b[A\n",
      "Processing <PIL.Image.Image image mode=RGB size=303x404 at 0x215C66C8EB0>:   9%|▏ | 4/46 [00:00<00:08,  4.77 Samples/s]\u001b[A\n",
      "Processing <PIL.Image.Image image mode=RGB size=303x404 at 0x215C66EB3D0>:  11%|▏ | 5/46 [00:00<00:08,  4.77 Samples/s]\u001b[A\n",
      "Processing <PIL.Image.Image image mode=RGB size=303x404 at 0x215C6671DF0>:  13%|▎ | 6/46 [00:00<00:08,  4.77 Samples/s]\u001b[A\n",
      "Processing <PIL.Image.Image image mode=RGB size=303x404 at 0x215C66C8610>:  15%|▎ | 7/46 [00:00<00:08,  4.77 Samples/s]\u001b[A\n",
      "Processing <PIL.Image.Image image mode=RGB size=303x404 at 0x215C66BD760>:  17%|▎ | 8/46 [00:00<00:07,  4.77 Samples/s]\u001b[A\n",
      "Processing <PIL.Image.Image image mode=RGB size=303x404 at 0x215C66BD760>:  20%|▍ | 9/46 [00:00<00:01, 28.05 Samples/s]\u001b[A\n",
      "Processing <PIL.Image.Image image mode=RGB size=303x404 at 0x215C66EBA00>:  20%|▍ | 9/46 [00:00<00:01, 28.05 Samples/s]\u001b[A\n",
      "Processing <PIL.Image.Image image mode=RGB size=303x404 at 0x215C66EBC70>:  22%|▏| 10/46 [00:00<00:01, 28.05 Samples/s]\u001b[A\n",
      "Processing <PIL.Image.Image image mode=RGB size=303x404 at 0x215C66AD3A0>:  24%|▏| 11/46 [00:00<00:01, 28.05 Samples/s]\u001b[A\n",
      "Processing <PIL.Image.Image image mode=RGB size=303x404 at 0x215C668ABE0>:  26%|▎| 12/46 [00:00<00:01, 28.05 Samples/s]\u001b[A\n",
      "Processing <PIL.Image.Image image mode=RGB size=303x404 at 0x215C66BD3A0>:  28%|▎| 13/46 [00:00<00:01, 28.05 Samples/s]\u001b[A\n",
      "Processing <PIL.Image.Image image mode=RGB size=303x404 at 0x215C66C8F40>:  30%|▎| 14/46 [00:00<00:01, 28.05 Samples/s]\u001b[A\n",
      "Processing <PIL.Image.Image image mode=RGB size=303x404 at 0x215C66AD250>:  33%|▎| 15/46 [00:00<00:01, 28.05 Samples/s]\u001b[A\n",
      "Processing <PIL.Image.Image image mode=RGB size=303x404 at 0x215C66AD250>:  35%|▎| 16/46 [00:00<00:00, 35.41 Samples/s]\u001b[A\n",
      "Processing <PIL.Image.Image image mode=RGB size=303x404 at 0x215C66C8CD0>:  35%|▎| 16/46 [00:00<00:00, 35.41 Samples/s]\u001b[A\n",
      "Processing <PIL.Image.Image image mode=RGB size=303x404 at 0x215C6671B20>:  37%|▎| 17/46 [00:00<00:00, 35.41 Samples/s]\u001b[A\n",
      "Processing <PIL.Image.Image image mode=RGB size=303x404 at 0x215C6671850>:  39%|▍| 18/46 [00:00<00:00, 35.41 Samples/s]\u001b[A\n",
      "Processing <PIL.Image.Image image mode=RGB size=303x404 at 0x215C66BDCA0>:  41%|▍| 19/46 [00:00<00:00, 35.41 Samples/s]\u001b[A\n",
      "Processing <PIL.Image.Image image mode=RGB size=303x404 at 0x215C66AD430>:  43%|▍| 20/46 [00:00<00:00, 35.41 Samples/s]\u001b[A\n",
      "Processing <PIL.Image.Image image mode=RGB size=303x404 at 0x215C668ABB0>:  46%|▍| 21/46 [00:00<00:00, 35.41 Samples/s]\u001b[A\n",
      "Processing <PIL.Image.Image image mode=RGB size=303x404 at 0x215C668A130>:  48%|▍| 22/46 [00:00<00:00, 35.41 Samples/s]\u001b[A\n",
      "Processing <PIL.Image.Image image mode=RGB size=303x404 at 0x215C66BD8B0>:  50%|▌| 23/46 [00:00<00:00, 35.41 Samples/s]\u001b[A\n",
      "Processing <PIL.Image.Image image mode=RGB size=303x404 at 0x215C668AEE0>:  52%|▌| 24/46 [00:00<00:00, 35.41 Samples/s]\u001b[A\n",
      "Processing <PIL.Image.Image image mode=RGB size=303x404 at 0x215C66EBC70>:  54%|▌| 25/46 [00:00<00:00, 35.41 Samples/s]\u001b[A\n",
      "Processing <PIL.Image.Image image mode=RGB size=303x404 at 0x215C66EBC70>:  57%|▌| 26/46 [00:00<00:00, 40.16 Samples/s]\u001b[A\n",
      "Processing <PIL.Image.Image image mode=RGB size=303x404 at 0x215C66EB100>:  57%|▌| 26/46 [00:00<00:00, 40.16 Samples/s]\u001b[A\n",
      "Processing <PIL.Image.Image image mode=RGB size=303x404 at 0x215C668AB80>:  59%|▌| 27/46 [00:00<00:00, 40.16 Samples/s]\u001b[A\n",
      "Processing <PIL.Image.Image image mode=RGB size=303x404 at 0x215C66C8B20>:  61%|▌| 28/46 [00:00<00:00, 40.16 Samples/s]\u001b[A\n",
      "Processing <PIL.Image.Image image mode=RGB size=303x404 at 0x215C66E2610>:  63%|▋| 29/46 [00:00<00:00, 40.16 Samples/s]\u001b[A\n",
      "Processing <PIL.Image.Image image mode=RGB size=303x404 at 0x215C66E26A0>:  65%|▋| 30/46 [00:00<00:00, 40.16 Samples/s]\u001b[A\n",
      "Processing <PIL.Image.Image image mode=RGB size=303x404 at 0x215C66EB0A0>:  67%|▋| 31/46 [00:00<00:00, 40.16 Samples/s]\u001b[A\n",
      "Processing <PIL.Image.Image image mode=RGB size=303x404 at 0x215C66E24F0>:  70%|▋| 32/46 [00:00<00:00, 40.16 Samples/s]\u001b[A\n",
      "Processing <PIL.Image.Image image mode=RGB size=303x404 at 0x215C66E24F0>:  72%|▋| 33/46 [00:00<00:00, 44.02 Samples/s]\u001b[A\n",
      "Processing <PIL.Image.Image image mode=RGB size=303x404 at 0x215C66E2580>:  72%|▋| 33/46 [00:00<00:00, 44.02 Samples/s]\u001b[A\n",
      "Processing <PIL.Image.Image image mode=RGB size=303x404 at 0x215C668AC10>:  74%|▋| 34/46 [00:00<00:00, 44.02 Samples/s]\u001b[A\n",
      "Processing <PIL.Image.Image image mode=RGB size=303x404 at 0x215C66E2E80>:  76%|▊| 35/46 [00:00<00:00, 44.02 Samples/s]\u001b[A\n",
      "Processing <PIL.Image.Image image mode=RGB size=303x404 at 0x215C66E2280>:  78%|▊| 36/46 [00:00<00:00, 44.02 Samples/s]\u001b[A\n",
      "Processing <PIL.Image.Image image mode=RGB size=303x404 at 0x215C668AE80>:  80%|▊| 37/46 [00:00<00:00, 44.02 Samples/s]\u001b[A\n",
      "Processing <PIL.Image.Image image mode=RGB size=303x404 at 0x215C6671CA0>:  83%|▊| 38/46 [00:00<00:00, 44.02 Samples/s]\u001b[A\n",
      "Processing <PIL.Image.Image image mode=RGB size=303x404 at 0x215C66EBFA0>:  85%|▊| 39/46 [00:00<00:00, 44.02 Samples/s]\u001b[A\n",
      "Processing <PIL.Image.Image image mode=RGB size=303x404 at 0x215C6671B80>:  87%|▊| 40/46 [00:00<00:00, 44.02 Samples/s]\u001b[A\n",
      "Processing <PIL.Image.Image image mode=RGB size=303x404 at 0x215C6671790>:  89%|▉| 41/46 [00:00<00:00, 44.02 Samples/s]\u001b[A\n",
      "Processing <PIL.Image.Image image mode=RGB size=303x404 at 0x215C6671790>:  91%|▉| 42/46 [00:00<00:00, 53.26 Samples/s]\u001b[A\n",
      "Processing <PIL.Image.Image image mode=RGB size=303x404 at 0x215C66E2100>:  91%|▉| 42/46 [00:00<00:00, 53.26 Samples/s]\u001b[A\n",
      "Processing <PIL.Image.Image image mode=RGB size=303x404 at 0x215C668AEB0>:  93%|▉| 43/46 [00:00<00:00, 53.26 Samples/s]\u001b[A\n",
      "Processing <PIL.Image.Image image mode=RGB size=303x404 at 0x215C654DF70>:  96%|▉| 44/46 [00:01<00:00, 53.26 Samples/s]\u001b[A\n",
      "Processing <PIL.Image.Image image mode=RGB size=303x404 at 0x215C668AF70>: 100%|█| 46/46 [00:01<00:00, 45.31 Samples/s]\u001b[A\n",
      "  4%|███▎                                                                               | 2/50 [00:03<01:16,  1.59s/it]"
     ]
    },
    {
     "name": "stdout",
     "output_type": "stream",
     "text": [
      "Initialised with 144 image(s) found.\n",
      "Output directory set to BarkVN-50/BarkVN-50_mendeley/Adenium species/output."
     ]
    },
    {
     "name": "stderr",
     "output_type": "stream",
     "text": [
      "\n",
      "Processing:   0%|                                                                         | 0/144 [00:00<?, ? Images/s]\u001b[A\n",
      "                                                                                                                       \u001b[A"
     ]
    },
    {
     "name": "stdout",
     "output_type": "stream",
     "text": [
      "144 ground truth image(s) found.\n"
     ]
    },
    {
     "name": "stderr",
     "output_type": "stream",
     "text": [
      "\n",
      "Executing Pipeline:   0%|                                                                  | 0/3 [00:00<?, ? Samples/s]\u001b[A\n",
      "Processing <PIL.Image.Image image mode=RGB size=245x327 at 0x215C66D6A30>:   0%|           | 0/3 [00:00<?, ? Samples/s]\u001b[A\n",
      "Processing <PIL.Image.Image image mode=RGB size=245x327 at 0x215C66D67C0>:  33%|█  | 1/3 [00:00<00:00, 32.35 Samples/s]\u001b[A\n",
      "Processing <PIL.Image.Image image mode=RGB size=245x327 at 0x215C66E25E0>: 100%|███| 3/3 [00:00<00:00, 71.62 Samples/s]\u001b[A\n",
      "  6%|████▉                                                                              | 3/50 [00:04<01:00,  1.28s/it]"
     ]
    },
    {
     "name": "stdout",
     "output_type": "stream",
     "text": [
      "Initialised with 239 image(s) found.\n",
      "Output directory set to BarkVN-50/BarkVN-50_mendeley/Anacardium occidentale/output."
     ]
    },
    {
     "name": "stderr",
     "output_type": "stream",
     "text": [
      "\n",
      "Processing:   0%|                                                                         | 0/239 [00:00<?, ? Images/s]\u001b[A\n",
      "  8%|██████▋                                                                            | 4/50 [00:05<00:55,  1.22s/it]\u001b[A"
     ]
    },
    {
     "name": "stdout",
     "output_type": "stream",
     "text": [
      "239 ground truth image(s) found.\n",
      "Initialised with 105 image(s) found.\n",
      "Output directory set to BarkVN-50/BarkVN-50_mendeley/Annona squamosa/output."
     ]
    },
    {
     "name": "stderr",
     "output_type": "stream",
     "text": [
      "\n",
      "Processing:   0%|                                                                         | 0/105 [00:00<?, ? Images/s]\u001b[A\n",
      "                                                                                                                       \u001b[A"
     ]
    },
    {
     "name": "stdout",
     "output_type": "stream",
     "text": [
      "105 ground truth image(s) found.\n"
     ]
    },
    {
     "name": "stderr",
     "output_type": "stream",
     "text": [
      "\n",
      "Executing Pipeline:   0%|                                                                 | 0/29 [00:00<?, ? Samples/s]\u001b[A\n",
      "Processing <PIL.Image.Image image mode=RGB size=303x404 at 0x215C66E2D30>:   0%|          | 0/29 [00:00<?, ? Samples/s]\u001b[A\n",
      "Processing <PIL.Image.Image image mode=RGB size=303x404 at 0x215C66E2EB0>:   3%|  | 1/29 [00:00<00:03,  8.43 Samples/s]\u001b[A\n",
      "Processing <PIL.Image.Image image mode=RGB size=303x404 at 0x215C66E2EB0>:   7%|▏ | 2/29 [00:00<00:01, 16.31 Samples/s]\u001b[A\n",
      "Processing <PIL.Image.Image image mode=RGB size=303x404 at 0x215C66EBC70>:   7%|▏ | 2/29 [00:00<00:01, 16.31 Samples/s]\u001b[A\n",
      "Processing <PIL.Image.Image image mode=RGB size=303x404 at 0x215C66E2610>:  10%|▏ | 3/29 [00:00<00:01, 16.31 Samples/s]\u001b[A\n",
      "Processing <PIL.Image.Image image mode=RGB size=303x404 at 0x215C66BDBE0>:  14%|▎ | 4/29 [00:00<00:01, 16.31 Samples/s]\u001b[A\n",
      "Processing <PIL.Image.Image image mode=RGB size=303x404 at 0x215C66BD7C0>:  17%|▎ | 5/29 [00:00<00:01, 16.31 Samples/s]\u001b[A\n",
      "Processing <PIL.Image.Image image mode=RGB size=303x404 at 0x215C66E2F70>:  21%|▍ | 6/29 [00:00<00:01, 16.31 Samples/s]\u001b[A\n",
      "Processing <PIL.Image.Image image mode=RGB size=303x404 at 0x215C66E2A90>:  24%|▍ | 7/29 [00:00<00:01, 16.31 Samples/s]\u001b[A\n",
      "Processing <PIL.Image.Image image mode=RGB size=303x404 at 0x215C66AD880>:  28%|▌ | 8/29 [00:00<00:01, 16.31 Samples/s]\u001b[A\n",
      "Processing <PIL.Image.Image image mode=RGB size=303x404 at 0x215C66C8460>:  31%|▌ | 9/29 [00:00<00:01, 16.31 Samples/s]\u001b[A\n",
      "Processing <PIL.Image.Image image mode=RGB size=303x404 at 0x215C66D68E0>:  34%|▎| 10/29 [00:00<00:01, 16.31 Samples/s]\u001b[A\n",
      "Processing <PIL.Image.Image image mode=RGB size=303x404 at 0x215C66D6F10>:  38%|▍| 11/29 [00:00<00:01, 16.31 Samples/s]\u001b[A\n",
      "Processing <PIL.Image.Image image mode=RGB size=303x404 at 0x215C66D6F10>:  41%|▍| 12/29 [00:00<00:00, 49.25 Samples/s]\u001b[A\n",
      "Processing <PIL.Image.Image image mode=RGB size=303x404 at 0x215C66C80D0>:  41%|▍| 12/29 [00:00<00:00, 49.25 Samples/s]\u001b[A\n",
      "Processing <PIL.Image.Image image mode=RGB size=303x404 at 0x215C66D6220>:  45%|▍| 13/29 [00:00<00:00, 49.25 Samples/s]\u001b[A\n",
      "Processing <PIL.Image.Image image mode=RGB size=303x404 at 0x215C66EB430>:  48%|▍| 14/29 [00:00<00:00, 49.25 Samples/s]\u001b[A\n",
      "Processing <PIL.Image.Image image mode=RGB size=303x404 at 0x215C66C8B80>:  52%|▌| 15/29 [00:00<00:00, 49.25 Samples/s]\u001b[A\n",
      "Processing <PIL.Image.Image image mode=RGB size=303x404 at 0x215C66F06D0>:  55%|▌| 16/29 [00:00<00:00, 49.25 Samples/s]\u001b[A\n",
      "Processing <PIL.Image.Image image mode=RGB size=303x404 at 0x215C66AD6A0>:  59%|▌| 17/29 [00:00<00:00, 49.25 Samples/s]\u001b[A\n",
      "Processing <PIL.Image.Image image mode=RGB size=315x223 at 0x215C66F03A0>:  62%|▌| 18/29 [00:00<00:00, 49.25 Samples/s]\u001b[A\n",
      "Processing <PIL.Image.Image image mode=RGB size=303x404 at 0x215C66C8580>:  66%|▋| 19/29 [00:00<00:00, 49.25 Samples/s]\u001b[A\n",
      "Processing <PIL.Image.Image image mode=RGB size=303x404 at 0x215C66BDD90>:  69%|▋| 20/29 [00:00<00:00, 49.25 Samples/s]\u001b[A\n",
      "Processing <PIL.Image.Image image mode=RGB size=399x215 at 0x215C66EBE80>:  72%|▋| 21/29 [00:00<00:00, 49.25 Samples/s]\u001b[A\n",
      "Processing <PIL.Image.Image image mode=RGB size=303x404 at 0x215C66D68E0>:  76%|▊| 22/29 [00:00<00:00, 49.25 Samples/s]\u001b[A\n",
      "Processing <PIL.Image.Image image mode=RGB size=303x404 at 0x215C66D68E0>:  79%|▊| 23/29 [00:00<00:00, 72.24 Samples/s]\u001b[A\n",
      "Processing <PIL.Image.Image image mode=RGB size=303x404 at 0x215C66ADD00>:  79%|▊| 23/29 [00:00<00:00, 72.24 Samples/s]\u001b[A\n",
      "Processing <PIL.Image.Image image mode=RGB size=303x404 at 0x215C66D62E0>:  83%|▊| 24/29 [00:00<00:00, 72.24 Samples/s]\u001b[A\n",
      "Processing <PIL.Image.Image image mode=RGB size=303x404 at 0x215C66D61C0>:  86%|▊| 25/29 [00:00<00:00, 72.24 Samples/s]\u001b[A\n",
      "Processing <PIL.Image.Image image mode=RGB size=303x404 at 0x215C66D65E0>:  90%|▉| 26/29 [00:00<00:00, 72.24 Samples/s]\u001b[A\n",
      "Processing <PIL.Image.Image image mode=RGB size=303x404 at 0x215C66EBE80>:  93%|▉| 27/29 [00:00<00:00, 72.24 Samples/s]\u001b[A\n",
      "Processing <PIL.Image.Image image mode=RGB size=303x404 at 0x215C66E26A0>: 100%|█| 29/29 [00:00<00:00, 70.07 Samples/s]\u001b[A\n",
      " 10%|████████▎                                                                          | 5/50 [00:06<00:49,  1.10s/it]"
     ]
    },
    {
     "name": "stdout",
     "output_type": "stream",
     "text": [
      "Initialised with 104 image(s) found.\n",
      "Output directory set to BarkVN-50/BarkVN-50_mendeley/Artocarpus altilis/output."
     ]
    },
    {
     "name": "stderr",
     "output_type": "stream",
     "text": [
      "\n",
      "Processing:   0%|                                                                         | 0/104 [00:00<?, ? Images/s]\u001b[A\n",
      "                                                                                                                       \u001b[A"
     ]
    },
    {
     "name": "stdout",
     "output_type": "stream",
     "text": [
      "104 ground truth image(s) found.\n"
     ]
    },
    {
     "name": "stderr",
     "output_type": "stream",
     "text": [
      "\n",
      "Executing Pipeline:   0%|                                                                 | 0/30 [00:00<?, ? Samples/s]\u001b[A\n",
      "Processing <PIL.Image.Image image mode=RGB size=303x404 at 0x215C66BD3D0>:   0%|          | 0/30 [00:00<?, ? Samples/s]\u001b[A\n",
      "Processing <PIL.Image.Image image mode=RGB size=303x404 at 0x215C66BD3D0>:   3%|  | 1/30 [00:00<00:06,  4.27 Samples/s]\u001b[A\n",
      "Processing <PIL.Image.Image image mode=RGB size=303x404 at 0x215C66EB790>:   3%|  | 1/30 [00:00<00:06,  4.27 Samples/s]\u001b[A\n",
      "Processing <PIL.Image.Image image mode=RGB size=303x404 at 0x215C66EB1C0>:   7%|▏ | 2/30 [00:00<00:06,  4.27 Samples/s]\u001b[A\n",
      "Processing <PIL.Image.Image image mode=RGB size=303x404 at 0x215C66ADF70>:  10%|▏ | 3/30 [00:00<00:06,  4.27 Samples/s]\u001b[A\n",
      "Processing <PIL.Image.Image image mode=RGB size=303x404 at 0x215C66C8610>:  13%|▎ | 4/30 [00:00<00:06,  4.27 Samples/s]\u001b[A\n",
      "Processing <PIL.Image.Image image mode=RGB size=303x404 at 0x215C66C8A00>:  17%|▎ | 5/30 [00:00<00:05,  4.27 Samples/s]\u001b[A\n",
      "Processing <PIL.Image.Image image mode=RGB size=303x404 at 0x215C66AD5E0>:  20%|▍ | 6/30 [00:00<00:05,  4.27 Samples/s]\u001b[A\n",
      "Processing <PIL.Image.Image image mode=RGB size=303x404 at 0x215C66E2AF0>:  23%|▍ | 7/30 [00:00<00:05,  4.27 Samples/s]\u001b[A\n",
      "Processing <PIL.Image.Image image mode=RGB size=303x404 at 0x215C66ADB50>:  27%|▌ | 8/30 [00:00<00:05,  4.27 Samples/s]\u001b[A\n",
      "Processing <PIL.Image.Image image mode=RGB size=303x404 at 0x215C66BD370>:  30%|▌ | 9/30 [00:00<00:04,  4.27 Samples/s]\u001b[A\n",
      "Processing <PIL.Image.Image image mode=RGB size=303x404 at 0x215C66BD370>:  33%|▎| 10/30 [00:00<00:00, 32.15 Samples/s]\u001b[A\n",
      "Processing <PIL.Image.Image image mode=RGB size=303x404 at 0x215C66C8310>:  33%|▎| 10/30 [00:00<00:00, 32.15 Samples/s]\u001b[A\n",
      "Processing <PIL.Image.Image image mode=RGB size=303x404 at 0x215C668A0D0>:  37%|▎| 11/30 [00:00<00:00, 32.15 Samples/s]\u001b[A\n",
      "Processing <PIL.Image.Image image mode=RGB size=303x404 at 0x215C66AD6A0>:  40%|▍| 12/30 [00:00<00:00, 32.15 Samples/s]\u001b[A\n",
      "Processing <PIL.Image.Image image mode=RGB size=303x404 at 0x215C66AD520>:  43%|▍| 13/30 [00:00<00:00, 32.15 Samples/s]\u001b[A\n",
      "Processing <PIL.Image.Image image mode=RGB size=303x404 at 0x215C66C8940>:  47%|▍| 14/30 [00:00<00:00, 32.15 Samples/s]\u001b[A\n",
      "Processing <PIL.Image.Image image mode=RGB size=303x404 at 0x215C66BD1F0>:  50%|▌| 15/30 [00:00<00:00, 32.15 Samples/s]\u001b[A\n",
      "Processing <PIL.Image.Image image mode=RGB size=303x404 at 0x215C66BD1F0>:  53%|▌| 16/30 [00:00<00:00, 39.49 Samples/s]\u001b[A\n",
      "Processing <PIL.Image.Image image mode=RGB size=303x404 at 0x215C66C8040>:  53%|▌| 16/30 [00:00<00:00, 39.49 Samples/s]\u001b[A\n",
      "Processing <PIL.Image.Image image mode=RGB size=303x404 at 0x215C66C81F0>:  57%|▌| 17/30 [00:00<00:00, 39.49 Samples/s]\u001b[A\n",
      "Processing <PIL.Image.Image image mode=RGB size=303x404 at 0x215C668AAF0>:  60%|▌| 18/30 [00:00<00:00, 39.49 Samples/s]\u001b[A\n",
      "Processing <PIL.Image.Image image mode=RGB size=303x404 at 0x215C668AF40>:  63%|▋| 19/30 [00:00<00:00, 39.49 Samples/s]\u001b[A\n",
      "Processing <PIL.Image.Image image mode=RGB size=303x404 at 0x215C6671D60>:  67%|▋| 20/30 [00:00<00:00, 39.49 Samples/s]\u001b[A\n",
      "Processing <PIL.Image.Image image mode=RGB size=303x404 at 0x215C66EB340>:  70%|▋| 21/30 [00:00<00:00, 39.49 Samples/s]\u001b[A\n",
      "Processing <PIL.Image.Image image mode=RGB size=303x404 at 0x215C66C8940>:  73%|▋| 22/30 [00:00<00:00, 39.49 Samples/s]\u001b[A\n",
      "Processing <PIL.Image.Image image mode=RGB size=303x404 at 0x215C6671D90>:  77%|▊| 23/30 [00:00<00:00, 39.49 Samples/s]\u001b[A\n",
      "Processing <PIL.Image.Image image mode=RGB size=303x404 at 0x215C6671D90>:  80%|▊| 24/30 [00:00<00:00, 48.66 Samples/s]\u001b[A\n",
      "Processing <PIL.Image.Image image mode=RGB size=303x404 at 0x215C66BDA60>:  80%|▊| 24/30 [00:00<00:00, 48.66 Samples/s]\u001b[A\n",
      "Processing <PIL.Image.Image image mode=RGB size=303x404 at 0x215BA4F92B0>:  83%|▊| 25/30 [00:00<00:00, 48.66 Samples/s]\u001b[A\n",
      "Processing <PIL.Image.Image image mode=RGB size=303x404 at 0x215C66BD7C0>:  87%|▊| 26/30 [00:00<00:00, 48.66 Samples/s]\u001b[A\n",
      "Processing <PIL.Image.Image image mode=RGB size=303x404 at 0x215C6671610>:  90%|▉| 27/30 [00:00<00:00, 48.66 Samples/s]\u001b[A\n",
      "Processing <PIL.Image.Image image mode=RGB size=303x404 at 0x215C668AA00>:  93%|▉| 28/30 [00:00<00:00, 48.66 Samples/s]\u001b[A\n",
      "Processing <PIL.Image.Image image mode=RGB size=303x404 at 0x215C668AD30>: 100%|█| 30/30 [00:00<00:00, 45.99 Samples/s]\u001b[A\n",
      " 12%|█████████▉                                                                         | 6/50 [00:07<00:55,  1.26s/it]"
     ]
    },
    {
     "name": "stdout",
     "output_type": "stream",
     "text": [
      "Initialised with 138 image(s) found.\n",
      "Output directory set to BarkVN-50/BarkVN-50_mendeley/Artocarpus heterophyllus/output."
     ]
    },
    {
     "name": "stderr",
     "output_type": "stream",
     "text": [
      "\n",
      "Processing:   0%|                                                                         | 0/138 [00:00<?, ? Images/s]\u001b[A\n",
      "                                                                                                                       \u001b[A"
     ]
    },
    {
     "name": "stdout",
     "output_type": "stream",
     "text": [
      "138 ground truth image(s) found.\n"
     ]
    },
    {
     "name": "stderr",
     "output_type": "stream",
     "text": [
      "\n",
      "Executing Pipeline:   0%|                                                                  | 0/7 [00:00<?, ? Samples/s]\u001b[A\n",
      "Processing <PIL.Image.Image image mode=RGB size=245x327 at 0x215C66C8040>:   0%|           | 0/7 [00:00<?, ? Samples/s]\u001b[A\n",
      "Processing <PIL.Image.Image image mode=RGB size=245x327 at 0x215C66D6910>:  14%|▍  | 1/7 [00:00<00:00, 10.03 Samples/s]\u001b[A\n",
      "Processing <PIL.Image.Image image mode=RGB size=245x327 at 0x215C66D6910>:  29%|▊  | 2/7 [00:00<00:00, 19.66 Samples/s]\u001b[A\n",
      "Processing <PIL.Image.Image image mode=RGB size=245x327 at 0x215C66EB250>:  29%|▊  | 2/7 [00:00<00:00, 19.66 Samples/s]\u001b[A\n",
      "Processing <PIL.Image.Image image mode=RGB size=245x327 at 0x215C66C8A60>:  43%|█▎ | 3/7 [00:00<00:00, 19.66 Samples/s]\u001b[A\n",
      "Processing <PIL.Image.Image image mode=RGB size=245x327 at 0x215C66EBC40>:  57%|█▋ | 4/7 [00:00<00:00, 19.66 Samples/s]\u001b[A\n",
      "Processing <PIL.Image.Image image mode=RGB size=245x327 at 0x215C66C8D60>:  71%|██▏| 5/7 [00:00<00:00, 19.66 Samples/s]\u001b[A\n",
      "Processing <PIL.Image.Image image mode=RGB size=245x327 at 0x215C66C8340>: 100%|███| 7/7 [00:00<00:00, 55.26 Samples/s]\u001b[A\n",
      " 14%|███████████▌                                                                       | 7/50 [00:08<00:55,  1.28s/it]"
     ]
    },
    {
     "name": "stdout",
     "output_type": "stream",
     "text": [
      "Initialised with 102 image(s) found.\n",
      "Output directory set to BarkVN-50/BarkVN-50_mendeley/Barringtonia acutangula/output."
     ]
    },
    {
     "name": "stderr",
     "output_type": "stream",
     "text": [
      "\n",
      "Processing:   0%|                                                                         | 0/102 [00:00<?, ? Images/s]\u001b[A\n",
      "                                                                                                                       \u001b[A"
     ]
    },
    {
     "name": "stdout",
     "output_type": "stream",
     "text": [
      "102 ground truth image(s) found.\n"
     ]
    },
    {
     "name": "stderr",
     "output_type": "stream",
     "text": [
      "\n",
      "Executing Pipeline:   0%|                                                                 | 0/31 [00:00<?, ? Samples/s]\u001b[A\n",
      "Processing <PIL.Image.Image image mode=RGB size=303x404 at 0x215C6671460>:   0%|          | 0/31 [00:00<?, ? Samples/s]\u001b[A\n",
      "Processing <PIL.Image.Image image mode=RGB size=303x404 at 0x215C66BD100>:   3%|  | 1/31 [00:00<00:03,  9.03 Samples/s]\u001b[A\n",
      "Processing <PIL.Image.Image image mode=RGB size=303x404 at 0x215C66BD100>:   6%|▏ | 2/31 [00:00<00:01, 17.75 Samples/s]\u001b[A\n",
      "Processing <PIL.Image.Image image mode=RGB size=303x404 at 0x215C66EB400>:   6%|▏ | 2/31 [00:00<00:01, 17.75 Samples/s]\u001b[A\n",
      "Processing <PIL.Image.Image image mode=RGB size=303x404 at 0x215C66BD070>:  10%|▏ | 3/31 [00:00<00:01, 17.75 Samples/s]\u001b[A\n",
      "Processing <PIL.Image.Image image mode=RGB size=303x404 at 0x215C66AD0D0>:  13%|▎ | 4/31 [00:00<00:01, 17.75 Samples/s]\u001b[A\n",
      "Processing <PIL.Image.Image image mode=RGB size=303x404 at 0x215C66E2340>:  16%|▎ | 5/31 [00:00<00:01, 17.75 Samples/s]\u001b[A\n",
      "Processing <PIL.Image.Image image mode=RGB size=303x404 at 0x215C66ADB80>:  19%|▍ | 6/31 [00:00<00:01, 17.75 Samples/s]\u001b[A\n",
      "Processing <PIL.Image.Image image mode=RGB size=303x404 at 0x215C66BDF10>:  23%|▍ | 7/31 [00:00<00:01, 17.75 Samples/s]\u001b[A\n",
      "Processing <PIL.Image.Image image mode=RGB size=303x404 at 0x215C66EB580>:  26%|▌ | 8/31 [00:00<00:01, 17.75 Samples/s]\u001b[A\n",
      "Processing <PIL.Image.Image image mode=RGB size=303x404 at 0x215C66EBD60>:  29%|▌ | 9/31 [00:00<00:01, 17.75 Samples/s]\u001b[A\n",
      "Processing <PIL.Image.Image image mode=RGB size=303x404 at 0x215C66BDAF0>:  32%|▎| 10/31 [00:00<00:01, 17.75 Samples/s]\u001b[A\n",
      "Processing <PIL.Image.Image image mode=RGB size=303x404 at 0x215C67E7FA0>:  35%|▎| 11/31 [00:00<00:01, 17.75 Samples/s]\u001b[A\n",
      "Processing <PIL.Image.Image image mode=RGB size=303x404 at 0x215C67E72B0>:  39%|▍| 12/31 [00:00<00:01, 17.75 Samples/s]\u001b[A\n",
      "Processing <PIL.Image.Image image mode=RGB size=303x404 at 0x215C66BDA00>:  42%|▍| 13/31 [00:00<00:01, 17.75 Samples/s]\u001b[A\n",
      "Processing <PIL.Image.Image image mode=RGB size=303x404 at 0x215C66BDA00>:  45%|▍| 14/31 [00:00<00:00, 69.22 Samples/s]\u001b[A\n",
      "Processing <PIL.Image.Image image mode=RGB size=303x404 at 0x215C66ADF10>:  45%|▍| 14/31 [00:00<00:00, 69.22 Samples/s]\u001b[A\n",
      "Processing <PIL.Image.Image image mode=RGB size=303x404 at 0x215C66EBC70>:  48%|▍| 15/31 [00:00<00:00, 69.22 Samples/s]\u001b[A\n",
      "Processing <PIL.Image.Image image mode=RGB size=303x404 at 0x215C66BD3D0>:  52%|▌| 16/31 [00:00<00:00, 69.22 Samples/s]\u001b[A\n",
      "Processing <PIL.Image.Image image mode=RGB size=303x404 at 0x215C66E24C0>:  55%|▌| 17/31 [00:00<00:00, 69.22 Samples/s]\u001b[A\n",
      "Processing <PIL.Image.Image image mode=RGB size=303x404 at 0x215C668AFD0>:  58%|▌| 18/31 [00:00<00:00, 69.22 Samples/s]\u001b[A\n",
      "Processing <PIL.Image.Image image mode=RGB size=303x404 at 0x215C6671D90>:  61%|▌| 19/31 [00:00<00:00, 69.22 Samples/s]\u001b[A\n",
      "Processing <PIL.Image.Image image mode=RGB size=303x404 at 0x215C66C8CA0>:  65%|▋| 20/31 [00:00<00:00, 69.22 Samples/s]\u001b[A\n",
      "Processing <PIL.Image.Image image mode=RGB size=303x404 at 0x215C66EB220>:  68%|▋| 21/31 [00:00<00:00, 69.22 Samples/s]\u001b[A\n",
      "Processing <PIL.Image.Image image mode=RGB size=303x404 at 0x215C66BD280>:  71%|▋| 22/31 [00:00<00:00, 69.22 Samples/s]\u001b[A\n",
      "Processing <PIL.Image.Image image mode=RGB size=303x404 at 0x215C668AB20>:  74%|▋| 23/31 [00:00<00:00, 69.22 Samples/s]\u001b[A\n",
      "Processing <PIL.Image.Image image mode=RGB size=303x404 at 0x215C668ADC0>:  77%|▊| 24/31 [00:00<00:00, 69.22 Samples/s]\u001b[A\n",
      "Processing <PIL.Image.Image image mode=RGB size=303x404 at 0x215C66C8790>:  81%|▊| 25/31 [00:00<00:00, 69.22 Samples/s]\u001b[A\n",
      "Processing <PIL.Image.Image image mode=RGB size=303x404 at 0x215C66C8940>:  84%|▊| 26/31 [00:00<00:00, 69.22 Samples/s]\u001b[A\n",
      "Processing <PIL.Image.Image image mode=RGB size=303x404 at 0x215C66C8E50>:  87%|▊| 27/31 [00:00<00:00, 69.22 Samples/s]\u001b[A\n",
      "Processing <PIL.Image.Image image mode=RGB size=303x404 at 0x215C66C8220>:  90%|▉| 28/31 [00:00<00:00, 69.22 Samples/s]\u001b[A\n",
      "Processing <PIL.Image.Image image mode=RGB size=303x404 at 0x215C66E2B80>:  94%|▉| 29/31 [00:00<00:00, 69.22 Samples/s]\u001b[A\n",
      "Processing <PIL.Image.Image image mode=RGB size=303x404 at 0x215C66E2B80>:  97%|▉| 30/31 [00:00<00:00, 102.67 Samples/s\u001b[A\n",
      "Processing <PIL.Image.Image image mode=RGB size=303x404 at 0x215C668A0A0>: 100%|█| 31/31 [00:00<00:00, 89.58 Samples/s]\u001b[A\n",
      " 16%|█████████████▎                                                                     | 8/50 [00:09<00:50,  1.19s/it]"
     ]
    },
    {
     "name": "stdout",
     "output_type": "stream",
     "text": [
      "Initialised with 101 image(s) found.\n",
      "Output directory set to BarkVN-50/BarkVN-50_mendeley/Cananga odorata/output."
     ]
    },
    {
     "name": "stderr",
     "output_type": "stream",
     "text": [
      "\n",
      "Processing:   0%|                                                                         | 0/101 [00:00<?, ? Images/s]\u001b[A\n",
      "                                                                                                                       \u001b[A"
     ]
    },
    {
     "name": "stdout",
     "output_type": "stream",
     "text": [
      "101 ground truth image(s) found.\n"
     ]
    },
    {
     "name": "stderr",
     "output_type": "stream",
     "text": [
      "\n",
      "Executing Pipeline:   0%|                                                                 | 0/32 [00:00<?, ? Samples/s]\u001b[A\n",
      "Processing <PIL.Image.Image image mode=RGB size=303x404 at 0x215C66BD820>:   0%|          | 0/32 [00:00<?, ? Samples/s]\u001b[A\n",
      "Processing <PIL.Image.Image image mode=RGB size=303x404 at 0x215C66EBF10>:   3%|  | 1/32 [00:00<00:02, 11.27 Samples/s]\u001b[A\n",
      "Processing <PIL.Image.Image image mode=RGB size=303x404 at 0x215C66BD580>:   6%|▏ | 2/32 [00:00<00:01, 21.80 Samples/s]\u001b[A\n",
      "Processing <PIL.Image.Image image mode=RGB size=303x404 at 0x215C66ADFD0>:   9%|▏ | 3/32 [00:00<00:00, 31.33 Samples/s]\u001b[A\n",
      "Processing <PIL.Image.Image image mode=RGB size=303x404 at 0x215C66D6F10>:  12%|▎ | 4/32 [00:00<00:00, 32.09 Samples/s]\u001b[A\n",
      "Processing <PIL.Image.Image image mode=RGB size=303x404 at 0x215C66D6F10>:  16%|▎ | 5/32 [00:00<00:00, 39.17 Samples/s]\u001b[A\n",
      "Processing <PIL.Image.Image image mode=RGB size=303x404 at 0x215C66BD8E0>:  16%|▎ | 5/32 [00:00<00:00, 39.17 Samples/s]\u001b[A\n",
      "Processing <PIL.Image.Image image mode=RGB size=303x404 at 0x215C66BDA90>:  19%|▍ | 6/32 [00:00<00:00, 39.17 Samples/s]\u001b[A\n",
      "Processing <PIL.Image.Image image mode=RGB size=303x404 at 0x215C66BD370>:  22%|▍ | 7/32 [00:00<00:00, 39.17 Samples/s]\u001b[A\n",
      "Processing <PIL.Image.Image image mode=RGB size=303x404 at 0x215C66BD910>:  25%|▌ | 8/32 [00:00<00:00, 39.17 Samples/s]\u001b[A\n",
      "Processing <PIL.Image.Image image mode=RGB size=303x404 at 0x215C66BD280>:  28%|▌ | 9/32 [00:00<00:00, 39.17 Samples/s]\u001b[A\n",
      "Processing <PIL.Image.Image image mode=RGB size=303x404 at 0x215C66BDCD0>:  31%|▎| 10/32 [00:00<00:00, 39.17 Samples/s]\u001b[A\n",
      "Processing <PIL.Image.Image image mode=RGB size=303x404 at 0x215C66BDFA0>:  34%|▎| 11/32 [00:00<00:00, 39.17 Samples/s]\u001b[A\n",
      "Processing <PIL.Image.Image image mode=RGB size=303x404 at 0x215C66BD1C0>:  38%|▍| 12/32 [00:00<00:00, 39.17 Samples/s]\u001b[A\n",
      "Processing <PIL.Image.Image image mode=RGB size=303x404 at 0x215C66BD1C0>:  41%|▍| 13/32 [00:00<00:00, 60.18 Samples/s]\u001b[A\n",
      "Processing <PIL.Image.Image image mode=RGB size=303x404 at 0x215C66BD220>:  41%|▍| 13/32 [00:00<00:00, 60.18 Samples/s]\u001b[A\n",
      "Processing <PIL.Image.Image image mode=RGB size=303x404 at 0x215C66E2FD0>:  44%|▍| 14/32 [00:00<00:00, 60.18 Samples/s]\u001b[A\n",
      "Processing <PIL.Image.Image image mode=RGB size=303x404 at 0x215C66710A0>:  47%|▍| 15/32 [00:00<00:00, 60.18 Samples/s]\u001b[A\n",
      "Processing <PIL.Image.Image image mode=RGB size=303x404 at 0x215C66C8700>:  50%|▌| 16/32 [00:00<00:00, 60.18 Samples/s]\u001b[A\n",
      "Processing <PIL.Image.Image image mode=RGB size=303x404 at 0x215C66E2A30>:  53%|▌| 17/32 [00:00<00:00, 60.18 Samples/s]\u001b[A\n",
      "Processing <PIL.Image.Image image mode=RGB size=303x404 at 0x215C66BD430>:  56%|▌| 18/32 [00:00<00:00, 60.18 Samples/s]\u001b[A\n",
      "Processing <PIL.Image.Image image mode=RGB size=303x404 at 0x215C66D6F10>:  59%|▌| 19/32 [00:00<00:00, 60.18 Samples/s]\u001b[A\n",
      "Processing <PIL.Image.Image image mode=RGB size=303x404 at 0x215C66D6D60>:  62%|▋| 20/32 [00:00<00:00, 60.18 Samples/s]\u001b[A\n",
      "Processing <PIL.Image.Image image mode=RGB size=303x404 at 0x215C66EBBE0>:  66%|▋| 21/32 [00:00<00:00, 60.18 Samples/s]\u001b[A\n",
      "Processing <PIL.Image.Image image mode=RGB size=303x404 at 0x215C6671730>:  69%|▋| 22/32 [00:00<00:00, 60.18 Samples/s]\u001b[A\n",
      "Processing <PIL.Image.Image image mode=RGB size=303x404 at 0x215C6671CA0>:  72%|▋| 23/32 [00:00<00:00, 60.18 Samples/s]\u001b[A\n",
      "Processing <PIL.Image.Image image mode=RGB size=303x404 at 0x215C66BDD90>:  75%|▊| 24/32 [00:00<00:00, 60.18 Samples/s]\u001b[A\n",
      "Processing <PIL.Image.Image image mode=RGB size=303x404 at 0x215C66D6D90>:  78%|▊| 25/32 [00:00<00:00, 60.18 Samples/s]\u001b[A\n",
      "Processing <PIL.Image.Image image mode=RGB size=303x404 at 0x215C66D66D0>:  81%|▊| 26/32 [00:00<00:00, 60.18 Samples/s]\u001b[A\n",
      "Processing <PIL.Image.Image image mode=RGB size=303x404 at 0x215C66ADE20>:  84%|▊| 27/32 [00:00<00:00, 60.18 Samples/s]\u001b[A\n",
      "Processing <PIL.Image.Image image mode=RGB size=303x404 at 0x215C66710A0>:  88%|▉| 28/32 [00:00<00:00, 60.18 Samples/s]\u001b[A\n",
      "Processing <PIL.Image.Image image mode=RGB size=303x404 at 0x215C66AD130>:  91%|▉| 29/32 [00:00<00:00, 60.18 Samples/s]\u001b[A\n",
      "Processing <PIL.Image.Image image mode=RGB size=303x404 at 0x215C6671A90>:  94%|▉| 30/32 [00:00<00:00, 60.18 Samples/s]\u001b[A\n",
      "Processing <PIL.Image.Image image mode=RGB size=303x404 at 0x215C6671790>: 100%|█| 32/32 [00:00<00:00, 97.23 Samples/s]\u001b[A\n",
      " 18%|██████████████▉                                                                    | 9/50 [00:10<00:44,  1.07s/it]"
     ]
    },
    {
     "name": "stdout",
     "output_type": "stream",
     "text": [
      "Initialised with 207 image(s) found.\n",
      "Output directory set to BarkVN-50/BarkVN-50_mendeley/Carica papaya/output."
     ]
    },
    {
     "name": "stderr",
     "output_type": "stream",
     "text": [
      "\n",
      "Processing:   0%|                                                                         | 0/207 [00:00<?, ? Images/s]\u001b[A\n",
      " 20%|████████████████▍                                                                 | 10/50 [00:11<00:42,  1.07s/it]\u001b[A"
     ]
    },
    {
     "name": "stdout",
     "output_type": "stream",
     "text": [
      "207 ground truth image(s) found.\n",
      "Initialised with 97 image(s) found.\n",
      "Output directory set to BarkVN-50/BarkVN-50_mendeley/Casuarina equisetifolia/output."
     ]
    },
    {
     "name": "stderr",
     "output_type": "stream",
     "text": [
      "\n",
      "Processing:   0%|                                                                          | 0/97 [00:00<?, ? Images/s]\u001b[A\n",
      "                                                                                                                       \u001b[A"
     ]
    },
    {
     "name": "stdout",
     "output_type": "stream",
     "text": [
      "97 ground truth image(s) found.\n"
     ]
    },
    {
     "name": "stderr",
     "output_type": "stream",
     "text": [
      "\n",
      "Executing Pipeline:   0%|                                                                 | 0/35 [00:00<?, ? Samples/s]\u001b[A\n",
      "Processing <PIL.Image.Image image mode=RGB size=303x404 at 0x215C66ADE50>:   0%|          | 0/35 [00:00<?, ? Samples/s]\u001b[A\n",
      "Processing <PIL.Image.Image image mode=RGB size=303x404 at 0x215C66ADE50>:   3%|  | 1/35 [00:00<00:10,  3.38 Samples/s]\u001b[A\n",
      "Processing <PIL.Image.Image image mode=RGB size=303x404 at 0x215C66BD280>:   3%|  | 1/35 [00:00<00:10,  3.38 Samples/s]\u001b[A\n",
      "Processing <PIL.Image.Image image mode=RGB size=303x404 at 0x215C66E2580>:   6%|  | 2/35 [00:00<00:09,  3.38 Samples/s]\u001b[A\n",
      "Processing <PIL.Image.Image image mode=RGB size=303x404 at 0x215C66EBD00>:   9%|▏ | 3/35 [00:00<00:09,  3.38 Samples/s]\u001b[A\n",
      "Processing <PIL.Image.Image image mode=RGB size=303x404 at 0x215C66D6430>:  11%|▏ | 4/35 [00:00<00:09,  3.38 Samples/s]\u001b[A\n",
      "Processing <PIL.Image.Image image mode=RGB size=303x404 at 0x215C66C8D60>:  14%|▎ | 5/35 [00:00<00:08,  3.38 Samples/s]\u001b[A\n",
      "Processing <PIL.Image.Image image mode=RGB size=303x404 at 0x215C66BD490>:  17%|▎ | 6/35 [00:00<00:08,  3.38 Samples/s]\u001b[A\n",
      "Processing <PIL.Image.Image image mode=RGB size=303x404 at 0x215C66E20A0>:  20%|▍ | 7/35 [00:00<00:08,  3.38 Samples/s]\u001b[A\n",
      "Processing <PIL.Image.Image image mode=RGB size=303x404 at 0x215C66E2BE0>:  23%|▍ | 8/35 [00:00<00:07,  3.38 Samples/s]\u001b[A\n",
      "Processing <PIL.Image.Image image mode=RGB size=303x404 at 0x215C66E20D0>:  26%|▌ | 9/35 [00:00<00:07,  3.38 Samples/s]\u001b[A\n",
      "Processing <PIL.Image.Image image mode=RGB size=303x404 at 0x215C66D6430>:  29%|▎| 10/35 [00:00<00:07,  3.38 Samples/s]\u001b[A\n",
      "Processing <PIL.Image.Image image mode=RGB size=303x404 at 0x215C66D6430>:  31%|▎| 11/35 [00:00<00:00, 30.84 Samples/s]\u001b[A\n",
      "Processing <PIL.Image.Image image mode=RGB size=303x404 at 0x215C66D6610>:  31%|▎| 11/35 [00:00<00:00, 30.84 Samples/s]\u001b[A\n",
      "Processing <PIL.Image.Image image mode=RGB size=303x404 at 0x215C66EB190>:  34%|▎| 12/35 [00:00<00:00, 30.84 Samples/s]\u001b[A\n",
      "Processing <PIL.Image.Image image mode=RGB size=303x404 at 0x215C66EBCD0>:  37%|▎| 13/35 [00:00<00:00, 30.84 Samples/s]\u001b[A\n",
      "Processing <PIL.Image.Image image mode=RGB size=303x404 at 0x215C66BDF70>:  40%|▍| 14/35 [00:00<00:00, 30.84 Samples/s]\u001b[A\n",
      "Processing <PIL.Image.Image image mode=RGB size=303x404 at 0x215C66EBC70>:  43%|▍| 15/35 [00:00<00:00, 30.84 Samples/s]\u001b[A\n",
      "Processing <PIL.Image.Image image mode=RGB size=303x404 at 0x215C66EBC70>:  46%|▍| 16/35 [00:00<00:00, 30.07 Samples/s]\u001b[A\n",
      "Processing <PIL.Image.Image image mode=RGB size=303x404 at 0x215C66EB130>:  46%|▍| 16/35 [00:00<00:00, 30.07 Samples/s]\u001b[A\n",
      "Processing <PIL.Image.Image image mode=RGB size=303x404 at 0x215C66C8F10>:  49%|▍| 17/35 [00:00<00:00, 30.07 Samples/s]\u001b[A\n",
      "Processing <PIL.Image.Image image mode=RGB size=303x404 at 0x215C66EBB20>:  51%|▌| 18/35 [00:00<00:00, 30.07 Samples/s]\u001b[A\n",
      "Processing <PIL.Image.Image image mode=RGB size=303x404 at 0x215C66C8D60>:  54%|▌| 19/35 [00:00<00:00, 30.07 Samples/s]\u001b[A\n",
      "Processing <PIL.Image.Image image mode=RGB size=303x404 at 0x215C66C8640>:  57%|▌| 20/35 [00:00<00:00, 30.07 Samples/s]\u001b[A\n",
      "Processing <PIL.Image.Image image mode=RGB size=303x404 at 0x215C66EB610>:  60%|▌| 21/35 [00:00<00:00, 30.07 Samples/s]\u001b[A\n",
      "Processing <PIL.Image.Image image mode=RGB size=303x404 at 0x215C66C85E0>:  63%|▋| 22/35 [00:00<00:00, 30.07 Samples/s]\u001b[A\n",
      "Processing <PIL.Image.Image image mode=RGB size=303x404 at 0x215C66C8430>:  66%|▋| 23/35 [00:00<00:00, 30.07 Samples/s]\u001b[A\n",
      "Processing <PIL.Image.Image image mode=RGB size=303x404 at 0x215C66EBA90>:  69%|▋| 24/35 [00:00<00:00, 30.07 Samples/s]\u001b[A\n",
      "Processing <PIL.Image.Image image mode=RGB size=303x404 at 0x215C66EBA90>:  71%|▋| 25/35 [00:00<00:00, 44.97 Samples/s]\u001b[A\n",
      "Processing <PIL.Image.Image image mode=RGB size=303x404 at 0x215C66C8640>:  71%|▋| 25/35 [00:00<00:00, 44.97 Samples/s]\u001b[A\n",
      "Processing <PIL.Image.Image image mode=RGB size=303x404 at 0x215C66713A0>:  74%|▋| 26/35 [00:00<00:00, 44.97 Samples/s]\u001b[A\n",
      "Processing <PIL.Image.Image image mode=RGB size=303x404 at 0x215C66EB670>:  77%|▊| 27/35 [00:00<00:00, 44.97 Samples/s]\u001b[A\n",
      "Processing <PIL.Image.Image image mode=RGB size=303x404 at 0x215C66EB370>:  80%|▊| 28/35 [00:00<00:00, 44.97 Samples/s]\u001b[A\n",
      "Processing <PIL.Image.Image image mode=RGB size=303x404 at 0x215C66C8E50>:  83%|▊| 29/35 [00:00<00:00, 44.97 Samples/s]\u001b[A\n",
      "Processing <PIL.Image.Image image mode=RGB size=303x404 at 0x215C66C8310>:  86%|▊| 30/35 [00:00<00:00, 44.97 Samples/s]\u001b[A\n",
      "Processing <PIL.Image.Image image mode=RGB size=303x404 at 0x215C66C8310>:  89%|▉| 31/35 [00:00<00:00, 47.13 Samples/s]\u001b[A\n",
      "Processing <PIL.Image.Image image mode=RGB size=303x404 at 0x215C66C8D60>:  89%|▉| 31/35 [00:00<00:00, 47.13 Samples/s]\u001b[A\n",
      "Processing <PIL.Image.Image image mode=RGB size=303x404 at 0x215C66D6F40>:  91%|▉| 32/35 [00:00<00:00, 47.13 Samples/s]\u001b[A\n",
      "Processing <PIL.Image.Image image mode=RGB size=303x404 at 0x215C66C8220>:  94%|▉| 33/35 [00:00<00:00, 47.13 Samples/s]\u001b[A\n",
      "Processing <PIL.Image.Image image mode=RGB size=303x404 at 0x215C66C85E0>: 100%|█| 35/35 [00:00<00:00, 40.34 Samples/s]\u001b[A\n",
      " 22%|██████████████████                                                                | 11/50 [00:13<00:49,  1.28s/it]"
     ]
    },
    {
     "name": "stdout",
     "output_type": "stream",
     "text": [
      "Initialised with 93 image(s) found.\n",
      "Output directory set to BarkVN-50/BarkVN-50_mendeley/Cedrus/output."
     ]
    },
    {
     "name": "stderr",
     "output_type": "stream",
     "text": [
      "\n",
      "Processing:   0%|                                                                          | 0/93 [00:00<?, ? Images/s]\u001b[A\n",
      "                                                                                                                       \u001b[A"
     ]
    },
    {
     "name": "stdout",
     "output_type": "stream",
     "text": [
      "93 ground truth image(s) found.\n"
     ]
    },
    {
     "name": "stderr",
     "output_type": "stream",
     "text": [
      "\n",
      "Executing Pipeline:   0%|                                                                 | 0/37 [00:00<?, ? Samples/s]\u001b[A\n",
      "Processing <PIL.Image.Image image mode=RGB size=303x404 at 0x215C66EBAC0>:   0%|          | 0/37 [00:00<?, ? Samples/s]\u001b[A\n",
      "Processing <PIL.Image.Image image mode=RGB size=303x404 at 0x215C66EBAC0>:   3%|  | 1/37 [00:00<00:05,  6.43 Samples/s]\u001b[A\n",
      "Processing <PIL.Image.Image image mode=RGB size=303x404 at 0x215C66EB220>:   3%|  | 1/37 [00:00<00:05,  6.43 Samples/s]\u001b[A\n",
      "Processing <PIL.Image.Image image mode=RGB size=303x404 at 0x215C66D66A0>:   5%|  | 2/37 [00:00<00:05,  6.43 Samples/s]\u001b[A\n",
      "Processing <PIL.Image.Image image mode=RGB size=303x404 at 0x215C66D66D0>:   8%|▏ | 3/37 [00:00<00:05,  6.43 Samples/s]\u001b[A\n",
      "Processing <PIL.Image.Image image mode=RGB size=303x404 at 0x215C66D66D0>:  11%|▏ | 4/37 [00:00<00:02, 15.77 Samples/s]\u001b[A\n",
      "Processing <PIL.Image.Image image mode=RGB size=303x404 at 0x215C66D6820>:  11%|▏ | 4/37 [00:00<00:02, 15.77 Samples/s]\u001b[A\n",
      "Processing <PIL.Image.Image image mode=RGB size=303x404 at 0x215C66AD280>:  14%|▎ | 5/37 [00:00<00:02, 15.77 Samples/s]\u001b[A\n",
      "Processing <PIL.Image.Image image mode=RGB size=303x404 at 0x215C66ADEB0>:  16%|▎ | 6/37 [00:00<00:01, 15.77 Samples/s]\u001b[A\n",
      "Processing <PIL.Image.Image image mode=RGB size=303x404 at 0x215C66BD8B0>:  19%|▍ | 7/37 [00:00<00:01, 15.77 Samples/s]\u001b[A\n",
      "Processing <PIL.Image.Image image mode=RGB size=303x404 at 0x215C66D6B20>:  22%|▍ | 8/37 [00:00<00:01, 15.77 Samples/s]\u001b[A\n",
      "Processing <PIL.Image.Image image mode=RGB size=303x404 at 0x215C66BDBE0>:  24%|▍ | 9/37 [00:00<00:01, 15.77 Samples/s]\u001b[A\n",
      "Processing <PIL.Image.Image image mode=RGB size=303x404 at 0x215C66E2220>:  27%|▎| 10/37 [00:00<00:01, 15.77 Samples/s]\u001b[A\n",
      "Processing <PIL.Image.Image image mode=RGB size=303x404 at 0x215C66D6EE0>:  30%|▎| 11/37 [00:00<00:01, 15.77 Samples/s]\u001b[A\n",
      "Processing <PIL.Image.Image image mode=RGB size=303x404 at 0x215C66D6EE0>:  32%|▎| 12/37 [00:00<00:00, 31.83 Samples/s]\u001b[A\n",
      "Processing <PIL.Image.Image image mode=RGB size=303x404 at 0x215C66BD160>:  32%|▎| 12/37 [00:00<00:00, 31.83 Samples/s]\u001b[A\n",
      "Processing <PIL.Image.Image image mode=RGB size=303x404 at 0x215C66D6970>:  35%|▎| 13/37 [00:00<00:00, 31.83 Samples/s]\u001b[A\n",
      "Processing <PIL.Image.Image image mode=RGB size=303x404 at 0x215C66D6BE0>:  38%|▍| 14/37 [00:00<00:00, 31.83 Samples/s]\u001b[A\n",
      "Processing <PIL.Image.Image image mode=RGB size=303x404 at 0x215C6C24580>:  41%|▍| 15/37 [00:00<00:00, 31.83 Samples/s]\u001b[A\n",
      "Processing <PIL.Image.Image image mode=RGB size=303x404 at 0x215C6C24580>:  43%|▍| 16/37 [00:00<00:00, 33.21 Samples/s]\u001b[A\n",
      "Processing <PIL.Image.Image image mode=RGB size=303x404 at 0x215C66E2CD0>:  43%|▍| 16/37 [00:00<00:00, 33.21 Samples/s]\u001b[A\n",
      "Processing <PIL.Image.Image image mode=RGB size=303x404 at 0x215C66D62E0>:  46%|▍| 17/37 [00:00<00:00, 33.21 Samples/s]\u001b[A\n",
      "Processing <PIL.Image.Image image mode=RGB size=303x404 at 0x215C66E2DF0>:  49%|▍| 18/37 [00:00<00:00, 33.21 Samples/s]\u001b[A\n",
      "Processing <PIL.Image.Image image mode=RGB size=303x404 at 0x215C66E20D0>:  51%|▌| 19/37 [00:00<00:00, 33.21 Samples/s]\u001b[A\n",
      "Processing <PIL.Image.Image image mode=RGB size=303x404 at 0x215C66BD190>:  54%|▌| 20/37 [00:00<00:00, 33.21 Samples/s]\u001b[A\n",
      "Processing <PIL.Image.Image image mode=RGB size=303x404 at 0x215C66BDE80>:  57%|▌| 21/37 [00:00<00:00, 33.21 Samples/s]\u001b[A\n",
      "Processing <PIL.Image.Image image mode=RGB size=303x404 at 0x215C66BDE80>:  59%|▌| 22/37 [00:00<00:00, 40.75 Samples/s]\u001b[A\n",
      "Processing <PIL.Image.Image image mode=RGB size=303x404 at 0x215C66D6100>:  59%|▌| 22/37 [00:00<00:00, 40.75 Samples/s]\u001b[A\n",
      "Processing <PIL.Image.Image image mode=RGB size=303x404 at 0x215C66D69A0>:  62%|▌| 23/37 [00:00<00:00, 40.75 Samples/s]\u001b[A\n",
      "Processing <PIL.Image.Image image mode=RGB size=303x404 at 0x215C66BDCD0>:  65%|▋| 24/37 [00:00<00:00, 40.75 Samples/s]\u001b[A\n",
      "Processing <PIL.Image.Image image mode=RGB size=303x404 at 0x215C66D68E0>:  68%|▋| 25/37 [00:00<00:00, 40.75 Samples/s]\u001b[A\n",
      "Processing <PIL.Image.Image image mode=RGB size=303x404 at 0x215C66BD8E0>:  70%|▋| 26/37 [00:00<00:00, 40.75 Samples/s]\u001b[A\n",
      "Processing <PIL.Image.Image image mode=RGB size=303x404 at 0x215C66D6BE0>:  73%|▋| 27/37 [00:00<00:00, 40.75 Samples/s]\u001b[A\n",
      "Processing <PIL.Image.Image image mode=RGB size=303x404 at 0x215C66BDD30>:  76%|▊| 28/37 [00:00<00:00, 40.75 Samples/s]\u001b[A\n",
      "Processing <PIL.Image.Image image mode=RGB size=303x404 at 0x215C66E23A0>:  78%|▊| 29/37 [00:00<00:00, 40.75 Samples/s]\u001b[A\n",
      "Processing <PIL.Image.Image image mode=RGB size=303x404 at 0x215C66E2820>:  81%|▊| 30/37 [00:00<00:00, 40.75 Samples/s]\u001b[A\n",
      "Processing <PIL.Image.Image image mode=RGB size=303x404 at 0x215C66BD2E0>:  84%|▊| 31/37 [00:00<00:00, 40.75 Samples/s]\u001b[A\n",
      "Processing <PIL.Image.Image image mode=RGB size=303x404 at 0x215C66E2B80>:  86%|▊| 32/37 [00:00<00:00, 40.75 Samples/s]\u001b[A\n",
      "Processing <PIL.Image.Image image mode=RGB size=303x404 at 0x215C66E2370>:  89%|▉| 33/37 [00:00<00:00, 40.75 Samples/s]\u001b[A\n",
      "Processing <PIL.Image.Image image mode=RGB size=303x404 at 0x215C66E2DF0>:  92%|▉| 34/37 [00:00<00:00, 40.75 Samples/s]\u001b[A\n",
      "Processing <PIL.Image.Image image mode=RGB size=303x404 at 0x215C66BD9A0>:  95%|▉| 35/37 [00:00<00:00, 40.75 Samples/s]\u001b[A\n",
      "Processing <PIL.Image.Image image mode=RGB size=303x404 at 0x215C66E2460>: 100%|█| 37/37 [00:00<00:00, 48.81 Samples/s]\u001b[A\n",
      " 24%|███████████████████▋                                                              | 12/50 [00:15<00:52,  1.38s/it]"
     ]
    },
    {
     "name": "stdout",
     "output_type": "stream",
     "text": [
      "Initialised with 111 image(s) found.\n",
      "Output directory set to BarkVN-50/BarkVN-50_mendeley/Chrysophyllum cainino/output."
     ]
    },
    {
     "name": "stderr",
     "output_type": "stream",
     "text": [
      "\n",
      "Processing:   0%|                                                                         | 0/111 [00:00<?, ? Images/s]\u001b[A\n",
      "                                                                                                                       \u001b[A"
     ]
    },
    {
     "name": "stdout",
     "output_type": "stream",
     "text": [
      "111 ground truth image(s) found.\n"
     ]
    },
    {
     "name": "stderr",
     "output_type": "stream",
     "text": [
      "\n",
      "Executing Pipeline:   0%|                                                                 | 0/25 [00:00<?, ? Samples/s]\u001b[A\n",
      "Processing <PIL.Image.Image image mode=RGB size=245x327 at 0x215C66C8610>:   0%|          | 0/25 [00:00<?, ? Samples/s]\u001b[A\n",
      "Processing <PIL.Image.Image image mode=RGB size=245x327 at 0x215C66BD340>:   4%|  | 1/25 [00:00<00:02, 10.03 Samples/s]\u001b[A\n",
      "Processing <PIL.Image.Image image mode=RGB size=245x327 at 0x215C66BD340>:   8%|▏ | 2/25 [00:00<00:01, 19.47 Samples/s]\u001b[A\n",
      "Processing <PIL.Image.Image image mode=RGB size=245x327 at 0x215C66D6310>:   8%|▏ | 2/25 [00:00<00:01, 19.47 Samples/s]\u001b[A\n",
      "Processing <PIL.Image.Image image mode=RGB size=245x327 at 0x215C66EB730>:  12%|▏ | 3/25 [00:00<00:01, 19.47 Samples/s]\u001b[A\n",
      "Processing <PIL.Image.Image image mode=RGB size=245x327 at 0x215C66C8EB0>:  16%|▎ | 4/25 [00:00<00:01, 19.47 Samples/s]\u001b[A\n",
      "Processing <PIL.Image.Image image mode=RGB size=245x327 at 0x215C66D6C10>:  20%|▍ | 5/25 [00:00<00:01, 19.47 Samples/s]\u001b[A\n",
      "Processing <PIL.Image.Image image mode=RGB size=245x327 at 0x215C66AD940>:  24%|▍ | 6/25 [00:00<00:00, 19.47 Samples/s]\u001b[A\n",
      "Processing <PIL.Image.Image image mode=RGB size=245x327 at 0x215C66D6250>:  28%|▌ | 7/25 [00:00<00:00, 19.47 Samples/s]\u001b[A\n",
      "Processing <PIL.Image.Image image mode=RGB size=245x327 at 0x215C66AD850>:  32%|▋ | 8/25 [00:00<00:00, 19.47 Samples/s]\u001b[A\n",
      "Processing <PIL.Image.Image image mode=RGB size=245x327 at 0x215C66D6760>:  36%|▋ | 9/25 [00:00<00:00, 19.47 Samples/s]\u001b[A\n",
      "Processing <PIL.Image.Image image mode=RGB size=245x327 at 0x215C66C8C70>:  40%|▍| 10/25 [00:00<00:00, 19.47 Samples/s]\u001b[A\n",
      "Processing <PIL.Image.Image image mode=RGB size=245x327 at 0x215C66EB220>:  44%|▍| 11/25 [00:00<00:00, 19.47 Samples/s]\u001b[A\n",
      "Processing <PIL.Image.Image image mode=RGB size=245x327 at 0x215C66EBEB0>:  48%|▍| 12/25 [00:00<00:00, 19.47 Samples/s]\u001b[A\n",
      "Processing <PIL.Image.Image image mode=RGB size=245x327 at 0x215C66712B0>:  52%|▌| 13/25 [00:00<00:00, 19.47 Samples/s]\u001b[A\n",
      "Processing <PIL.Image.Image image mode=RGB size=245x327 at 0x215C66EB370>:  56%|▌| 14/25 [00:00<00:00, 19.47 Samples/s]\u001b[A\n",
      "Processing <PIL.Image.Image image mode=RGB size=245x327 at 0x215C66BDCA0>:  60%|▌| 15/25 [00:00<00:00, 19.47 Samples/s]\u001b[A\n",
      "Processing <PIL.Image.Image image mode=RGB size=245x327 at 0x215C66C8B20>:  64%|▋| 16/25 [00:00<00:00, 19.47 Samples/s]\u001b[A\n",
      "Processing <PIL.Image.Image image mode=RGB size=245x327 at 0x215C66ADB80>:  68%|▋| 17/25 [00:00<00:00, 19.47 Samples/s]\u001b[A\n",
      "Processing <PIL.Image.Image image mode=RGB size=245x327 at 0x215C668A910>:  72%|▋| 18/25 [00:00<00:00, 19.47 Samples/s]\u001b[A\n",
      "Processing <PIL.Image.Image image mode=RGB size=245x327 at 0x215C66ADC70>:  76%|▊| 19/25 [00:00<00:00, 19.47 Samples/s]\u001b[A\n",
      "Processing <PIL.Image.Image image mode=RGB size=245x327 at 0x215C66C8610>:  80%|▊| 20/25 [00:00<00:00, 19.47 Samples/s]\u001b[A\n",
      "Processing <PIL.Image.Image image mode=RGB size=245x327 at 0x215C66C8A90>:  84%|▊| 21/25 [00:00<00:00, 19.47 Samples/s]\u001b[A\n",
      "Processing <PIL.Image.Image image mode=RGB size=245x327 at 0x215C66AD550>:  88%|▉| 22/25 [00:00<00:00, 19.47 Samples/s]\u001b[A\n",
      "Processing <PIL.Image.Image image mode=RGB size=245x327 at 0x215C66EBAC0>:  92%|▉| 23/25 [00:00<00:00, 19.47 Samples/s]\u001b[A\n",
      "Processing <PIL.Image.Image image mode=RGB size=245x327 at 0x215C66C8DC0>:  96%|▉| 24/25 [00:00<00:00, 19.47 Samples/s]\u001b[A\n",
      "Processing <PIL.Image.Image image mode=RGB size=245x327 at 0x215C66C8DC0>: 100%|█| 25/25 [00:00<00:00, 117.68 Samples/s\u001b[A\n",
      " 26%|█████████████████████▎                                                            | 13/50 [00:15<00:43,  1.18s/it]"
     ]
    },
    {
     "name": "stdout",
     "output_type": "stream",
     "text": [
      "Initialised with 108 image(s) found.\n",
      "Output directory set to BarkVN-50/BarkVN-50_mendeley/Citrus aurantiifolia/output."
     ]
    },
    {
     "name": "stderr",
     "output_type": "stream",
     "text": [
      "\n",
      "Processing:   0%|                                                                         | 0/108 [00:00<?, ? Images/s]\u001b[A\n",
      "                                                                                                                       \u001b[A"
     ]
    },
    {
     "name": "stdout",
     "output_type": "stream",
     "text": [
      "108 ground truth image(s) found.\n"
     ]
    },
    {
     "name": "stderr",
     "output_type": "stream",
     "text": [
      "\n",
      "Executing Pipeline:   0%|                                                                 | 0/27 [00:00<?, ? Samples/s]\u001b[A\n",
      "Processing <PIL.Image.Image image mode=RGB size=245x327 at 0x215C66ADC40>:   0%|          | 0/27 [00:00<?, ? Samples/s]\u001b[A\n",
      "Processing <PIL.Image.Image image mode=RGB size=245x327 at 0x215C66D6EB0>:   4%|  | 1/27 [00:00<00:02, 11.14 Samples/s]\u001b[A\n",
      "Processing <PIL.Image.Image image mode=RGB size=245x327 at 0x215C6671BB0>:   7%|▏ | 2/27 [00:00<00:01, 21.56 Samples/s]\u001b[A\n",
      "Processing <PIL.Image.Image image mode=RGB size=245x327 at 0x215C66BD9D0>:  11%|▏ | 3/27 [00:00<00:00, 31.33 Samples/s]\u001b[A\n",
      "Processing <PIL.Image.Image image mode=RGB size=245x327 at 0x215C66EBBB0>:  15%|▎ | 4/27 [00:00<00:00, 40.51 Samples/s]\u001b[A\n",
      "Processing <PIL.Image.Image image mode=RGB size=245x327 at 0x215C66EBBB0>:  19%|▎ | 5/27 [00:00<00:00, 46.00 Samples/s]\u001b[A\n",
      "Processing <PIL.Image.Image image mode=RGB size=245x327 at 0x215C668AB80>:  19%|▎ | 5/27 [00:00<00:00, 46.00 Samples/s]\u001b[A\n",
      "Processing <PIL.Image.Image image mode=RGB size=245x327 at 0x215C66BD970>:  22%|▍ | 6/27 [00:00<00:00, 46.00 Samples/s]\u001b[A\n",
      "Processing <PIL.Image.Image image mode=RGB size=245x327 at 0x215C66EB130>:  26%|▌ | 7/27 [00:00<00:00, 46.00 Samples/s]\u001b[A\n",
      "Processing <PIL.Image.Image image mode=RGB size=245x327 at 0x215C66BDDC0>:  30%|▌ | 8/27 [00:00<00:00, 46.00 Samples/s]\u001b[A\n",
      "Processing <PIL.Image.Image image mode=RGB size=245x327 at 0x215C66EBC10>:  33%|▋ | 9/27 [00:00<00:00, 46.00 Samples/s]\u001b[A\n",
      "Processing <PIL.Image.Image image mode=RGB size=245x327 at 0x215C66EB1F0>:  37%|▎| 10/27 [00:00<00:00, 46.00 Samples/s]\u001b[A\n",
      "Processing <PIL.Image.Image image mode=RGB size=245x327 at 0x215C668AA90>:  41%|▍| 11/27 [00:00<00:00, 46.00 Samples/s]\u001b[A\n",
      "Processing <PIL.Image.Image image mode=RGB size=245x327 at 0x215C66EBA30>:  44%|▍| 12/27 [00:00<00:00, 46.00 Samples/s]\u001b[A\n",
      "Processing <PIL.Image.Image image mode=RGB size=245x327 at 0x215C66E22B0>:  48%|▍| 13/27 [00:00<00:00, 46.00 Samples/s]\u001b[A\n",
      "Processing <PIL.Image.Image image mode=RGB size=245x327 at 0x215C66EB460>:  52%|▌| 14/27 [00:00<00:00, 46.00 Samples/s]\u001b[A\n",
      "Processing <PIL.Image.Image image mode=RGB size=245x327 at 0x215C668AC10>:  56%|▌| 15/27 [00:00<00:00, 46.00 Samples/s]\u001b[A\n",
      "Processing <PIL.Image.Image image mode=RGB size=245x327 at 0x215C66E2B20>:  59%|▌| 16/27 [00:00<00:00, 46.00 Samples/s]\u001b[A\n",
      "Processing <PIL.Image.Image image mode=RGB size=245x327 at 0x215C66EBD60>:  63%|▋| 17/27 [00:00<00:00, 46.00 Samples/s]\u001b[A\n",
      "Processing <PIL.Image.Image image mode=RGB size=245x327 at 0x215C668A040>:  67%|▋| 18/27 [00:00<00:00, 46.00 Samples/s]\u001b[A\n",
      "Processing <PIL.Image.Image image mode=RGB size=245x327 at 0x215C66AD220>:  70%|▋| 19/27 [00:00<00:00, 46.00 Samples/s]\u001b[A\n",
      "Processing <PIL.Image.Image image mode=RGB size=245x327 at 0x215C668A160>:  74%|▋| 20/27 [00:00<00:00, 46.00 Samples/s]\u001b[A\n",
      "Processing <PIL.Image.Image image mode=RGB size=245x327 at 0x215C668A940>:  78%|▊| 21/27 [00:00<00:00, 46.00 Samples/s]\u001b[A\n",
      "Processing <PIL.Image.Image image mode=RGB size=245x327 at 0x215C66E2700>:  81%|▊| 22/27 [00:00<00:00, 46.00 Samples/s]\u001b[A\n",
      "Processing <PIL.Image.Image image mode=RGB size=245x327 at 0x215C66E2AC0>:  85%|▊| 23/27 [00:00<00:00, 46.00 Samples/s]\u001b[A\n",
      "Processing <PIL.Image.Image image mode=RGB size=245x327 at 0x215C668A100>:  89%|▉| 24/27 [00:00<00:00, 46.00 Samples/s]\u001b[A\n",
      "Processing <PIL.Image.Image image mode=RGB size=245x327 at 0x215C668A130>:  93%|▉| 25/27 [00:00<00:00, 46.00 Samples/s]\u001b[A\n",
      "Processing <PIL.Image.Image image mode=RGB size=245x327 at 0x215C668A130>:  96%|▉| 26/27 [00:00<00:00, 137.01 Samples/s\u001b[A\n",
      "Processing <PIL.Image.Image image mode=RGB size=245x327 at 0x215C668ADC0>: 100%|█| 27/27 [00:00<00:00, 124.18 Samples/s\u001b[A\n",
      " 28%|██████████████████████▉                                                           | 14/50 [00:16<00:37,  1.05s/it]"
     ]
    },
    {
     "name": "stdout",
     "output_type": "stream",
     "text": [
      "Initialised with 84 image(s) found.\n",
      "Output directory set to BarkVN-50/BarkVN-50_mendeley/Citrus grandis/output."
     ]
    },
    {
     "name": "stderr",
     "output_type": "stream",
     "text": [
      "\n",
      "Processing:   0%|                                                                          | 0/84 [00:00<?, ? Images/s]\u001b[A\n",
      "                                                                                                                       \u001b[A"
     ]
    },
    {
     "name": "stdout",
     "output_type": "stream",
     "text": [
      "84 ground truth image(s) found.\n"
     ]
    },
    {
     "name": "stderr",
     "output_type": "stream",
     "text": [
      "\n",
      "Executing Pipeline:   0%|                                                                 | 0/43 [00:00<?, ? Samples/s]\u001b[A\n",
      "Processing <PIL.Image.Image image mode=RGB size=303x404 at 0x215C66E20A0>:   0%|          | 0/43 [00:00<?, ? Samples/s]\u001b[A\n",
      "Processing <PIL.Image.Image image mode=RGB size=303x404 at 0x215C66ADF70>:   2%|  | 1/43 [00:00<00:03, 12.53 Samples/s]\u001b[A\n",
      "Processing <PIL.Image.Image image mode=RGB size=303x404 at 0x215C66E2340>:   5%|  | 2/43 [00:00<00:01, 24.46 Samples/s]\u001b[A\n",
      "Processing <PIL.Image.Image image mode=RGB size=303x404 at 0x215C66E2D00>:   7%|▏ | 3/43 [00:00<00:01, 36.24 Samples/s]\u001b[A\n",
      "Processing <PIL.Image.Image image mode=RGB size=303x404 at 0x215C66E2820>:   9%|▏ | 4/43 [00:00<00:01, 34.88 Samples/s]\u001b[A\n",
      "Processing <PIL.Image.Image image mode=RGB size=303x404 at 0x215C66E2820>:  12%|▏ | 5/43 [00:00<00:00, 42.49 Samples/s]\u001b[A\n",
      "Processing <PIL.Image.Image image mode=RGB size=303x404 at 0x215C66E2460>:  12%|▏ | 5/43 [00:00<00:00, 42.49 Samples/s]\u001b[A\n",
      "Processing <PIL.Image.Image image mode=RGB size=303x404 at 0x215C66BDBB0>:  14%|▎ | 6/43 [00:00<00:00, 42.49 Samples/s]\u001b[A\n",
      "Processing <PIL.Image.Image image mode=RGB size=303x404 at 0x215C6671610>:  16%|▎ | 7/43 [00:00<00:00, 42.49 Samples/s]\u001b[A\n",
      "Processing <PIL.Image.Image image mode=RGB size=303x404 at 0x215C66EB4F0>:  19%|▎ | 8/43 [00:00<00:00, 42.49 Samples/s]\u001b[A\n",
      "Processing <PIL.Image.Image image mode=RGB size=303x404 at 0x215C66EB040>:  21%|▍ | 9/43 [00:00<00:00, 42.49 Samples/s]\u001b[A\n",
      "Processing <PIL.Image.Image image mode=RGB size=303x404 at 0x215C66F0610>:  23%|▏| 10/43 [00:00<00:00, 42.49 Samples/s]\u001b[A\n",
      "Processing <PIL.Image.Image image mode=RGB size=303x404 at 0x215C66D6310>:  26%|▎| 11/43 [00:00<00:00, 42.49 Samples/s]\u001b[A\n",
      "Processing <PIL.Image.Image image mode=RGB size=303x404 at 0x215C66F0F40>:  28%|▎| 12/43 [00:00<00:00, 42.49 Samples/s]\u001b[A\n",
      "Processing <PIL.Image.Image image mode=RGB size=303x404 at 0x215C66BDD90>:  30%|▎| 13/43 [00:00<00:00, 42.49 Samples/s]\u001b[A\n",
      "Processing <PIL.Image.Image image mode=RGB size=303x404 at 0x215C66EB790>:  33%|▎| 14/43 [00:00<00:00, 42.49 Samples/s]\u001b[A\n",
      "Processing <PIL.Image.Image image mode=RGB size=303x404 at 0x215C66EB790>:  35%|▎| 15/43 [00:00<00:00, 73.73 Samples/s]\u001b[A\n",
      "Processing <PIL.Image.Image image mode=RGB size=303x404 at 0x215C66AD310>:  35%|▎| 15/43 [00:00<00:00, 73.73 Samples/s]\u001b[A\n",
      "Processing <PIL.Image.Image image mode=RGB size=303x404 at 0x215C66EB070>:  37%|▎| 16/43 [00:00<00:00, 73.73 Samples/s]\u001b[A\n",
      "Processing <PIL.Image.Image image mode=RGB size=303x404 at 0x215C66F0EE0>:  40%|▍| 17/43 [00:00<00:00, 73.73 Samples/s]\u001b[A\n",
      "Processing <PIL.Image.Image image mode=RGB size=303x404 at 0x215C66F0AF0>:  42%|▍| 18/43 [00:00<00:00, 73.73 Samples/s]\u001b[A\n",
      "Processing <PIL.Image.Image image mode=RGB size=303x404 at 0x215C6671790>:  44%|▍| 19/43 [00:00<00:00, 73.73 Samples/s]\u001b[A\n",
      "Processing <PIL.Image.Image image mode=RGB size=303x404 at 0x215C66D6160>:  47%|▍| 20/43 [00:00<00:00, 73.73 Samples/s]\u001b[A\n",
      "Processing <PIL.Image.Image image mode=RGB size=303x404 at 0x215C6671610>:  49%|▍| 21/43 [00:00<00:00, 73.73 Samples/s]\u001b[A\n",
      "Processing <PIL.Image.Image image mode=RGB size=303x404 at 0x215C66BD9D0>:  51%|▌| 22/43 [00:00<00:00, 73.73 Samples/s]\u001b[A\n",
      "Processing <PIL.Image.Image image mode=RGB size=303x404 at 0x215C66BD1F0>:  53%|▌| 23/43 [00:00<00:00, 73.73 Samples/s]\u001b[A\n",
      "Processing <PIL.Image.Image image mode=RGB size=303x404 at 0x215C66EB190>:  56%|▌| 24/43 [00:00<00:00, 73.73 Samples/s]\u001b[A\n",
      "Processing <PIL.Image.Image image mode=RGB size=303x404 at 0x215C66D6610>:  58%|▌| 25/43 [00:00<00:00, 73.73 Samples/s]\u001b[A\n",
      "Processing <PIL.Image.Image image mode=RGB size=303x404 at 0x215C66D6610>:  60%|▌| 26/43 [00:00<00:00, 88.18 Samples/s]\u001b[A\n",
      "Processing <PIL.Image.Image image mode=RGB size=303x404 at 0x215C66EB8E0>:  60%|▌| 26/43 [00:00<00:00, 88.18 Samples/s]\u001b[A\n",
      "Processing <PIL.Image.Image image mode=RGB size=303x404 at 0x215C66BD730>:  63%|▋| 27/43 [00:00<00:00, 88.18 Samples/s]\u001b[A\n",
      "Processing <PIL.Image.Image image mode=RGB size=303x404 at 0x215C6671B80>:  65%|▋| 28/43 [00:00<00:00, 88.18 Samples/s]\u001b[A\n",
      "Processing <PIL.Image.Image image mode=RGB size=303x404 at 0x215C66EBC70>:  67%|▋| 29/43 [00:00<00:00, 88.18 Samples/s]\u001b[A\n",
      "Processing <PIL.Image.Image image mode=RGB size=303x404 at 0x215C66EB910>:  70%|▋| 30/43 [00:00<00:00, 88.18 Samples/s]\u001b[A\n",
      "Processing <PIL.Image.Image image mode=RGB size=303x404 at 0x215C66F0DC0>:  72%|▋| 31/43 [00:00<00:00, 88.18 Samples/s]\u001b[A\n",
      "Processing <PIL.Image.Image image mode=RGB size=303x404 at 0x215C66EB580>:  74%|▋| 32/43 [00:00<00:00, 88.18 Samples/s]\u001b[A\n",
      "Processing <PIL.Image.Image image mode=RGB size=303x404 at 0x215C66EBD00>:  77%|▊| 33/43 [00:00<00:00, 88.18 Samples/s]\u001b[A\n",
      "Processing <PIL.Image.Image image mode=RGB size=303x404 at 0x215C66F0CD0>:  79%|▊| 34/43 [00:00<00:00, 88.18 Samples/s]\u001b[A\n",
      "Processing <PIL.Image.Image image mode=RGB size=303x404 at 0x215C66F0CD0>:  81%|▊| 35/43 [00:00<00:00, 78.25 Samples/s]\u001b[A\n",
      "Processing <PIL.Image.Image image mode=RGB size=303x404 at 0x215C66D6640>:  81%|▊| 35/43 [00:00<00:00, 78.25 Samples/s]\u001b[A\n",
      "Processing <PIL.Image.Image image mode=RGB size=303x404 at 0x215C66F04C0>:  84%|▊| 36/43 [00:00<00:00, 78.25 Samples/s]\u001b[A\n",
      "Processing <PIL.Image.Image image mode=RGB size=303x404 at 0x215C66D62E0>:  86%|▊| 37/43 [00:00<00:00, 78.25 Samples/s]\u001b[A\n",
      "Processing <PIL.Image.Image image mode=RGB size=303x404 at 0x215C66EB670>:  88%|▉| 38/43 [00:00<00:00, 78.25 Samples/s]\u001b[A\n",
      "Processing <PIL.Image.Image image mode=RGB size=303x404 at 0x215C66F00A0>:  91%|▉| 39/43 [00:00<00:00, 78.25 Samples/s]\u001b[A\n",
      "Processing <PIL.Image.Image image mode=RGB size=303x404 at 0x215C66F0AF0>:  93%|▉| 40/43 [00:00<00:00, 78.25 Samples/s]\u001b[A\n",
      "Processing <PIL.Image.Image image mode=RGB size=303x404 at 0x215C66F0FA0>:  95%|▉| 41/43 [00:00<00:00, 78.25 Samples/s]\u001b[A\n",
      "Processing <PIL.Image.Image image mode=RGB size=303x404 at 0x215C66F0BE0>: 100%|█| 43/43 [00:00<00:00, 78.96 Samples/s]\u001b[A\n",
      " 30%|████████████████████████▌                                                         | 15/50 [00:17<00:35,  1.02s/it]"
     ]
    },
    {
     "name": "stdout",
     "output_type": "stream",
     "text": [
      "Initialised with 110 image(s) found.\n",
      "Output directory set to BarkVN-50/BarkVN-50_mendeley/Cocos nucifera/output."
     ]
    },
    {
     "name": "stderr",
     "output_type": "stream",
     "text": [
      "\n",
      "Processing:   0%|                                                                         | 0/110 [00:00<?, ? Images/s]\u001b[A\n",
      "                                                                                                                       \u001b[A"
     ]
    },
    {
     "name": "stdout",
     "output_type": "stream",
     "text": [
      "110 ground truth image(s) found.\n"
     ]
    },
    {
     "name": "stderr",
     "output_type": "stream",
     "text": [
      "\n",
      "Executing Pipeline:   0%|                                                                 | 0/26 [00:00<?, ? Samples/s]\u001b[A\n",
      "Processing <PIL.Image.Image image mode=RGB size=303x404 at 0x215C66EBA90>:   0%|          | 0/26 [00:00<?, ? Samples/s]\u001b[A\n",
      "Processing <PIL.Image.Image image mode=RGB size=303x404 at 0x215C66EBA90>:   4%|  | 1/26 [00:00<00:04,  6.00 Samples/s]\u001b[A\n",
      "Processing <PIL.Image.Image image mode=RGB size=303x404 at 0x215C668AC70>:   4%|  | 1/26 [00:00<00:04,  6.00 Samples/s]\u001b[A\n",
      "Processing <PIL.Image.Image image mode=RGB size=303x404 at 0x215C66D6190>:   8%|▏ | 2/26 [00:00<00:03,  6.00 Samples/s]\u001b[A\n",
      "Processing <PIL.Image.Image image mode=RGB size=303x404 at 0x215C66E23D0>:  12%|▏ | 3/26 [00:00<00:03,  6.00 Samples/s]\u001b[A\n",
      "Processing <PIL.Image.Image image mode=RGB size=303x404 at 0x215C66D60A0>:  15%|▎ | 4/26 [00:00<00:03,  6.00 Samples/s]\u001b[A\n",
      "Processing <PIL.Image.Image image mode=RGB size=303x404 at 0x215C66D6C10>:  19%|▍ | 5/26 [00:00<00:03,  6.00 Samples/s]\u001b[A\n",
      "Processing <PIL.Image.Image image mode=RGB size=303x404 at 0x215C66E2A00>:  23%|▍ | 6/26 [00:00<00:03,  6.00 Samples/s]\u001b[A\n",
      "Processing <PIL.Image.Image image mode=RGB size=303x404 at 0x215C66BD2B0>:  27%|▌ | 7/26 [00:00<00:03,  6.00 Samples/s]\u001b[A\n",
      "Processing <PIL.Image.Image image mode=RGB size=303x404 at 0x215C66E2490>:  31%|▌ | 8/26 [00:00<00:02,  6.00 Samples/s]\u001b[A\n",
      "Processing <PIL.Image.Image image mode=RGB size=303x404 at 0x215C66E2490>:  35%|▋ | 9/26 [00:00<00:00, 39.67 Samples/s]\u001b[A\n",
      "Processing <PIL.Image.Image image mode=RGB size=303x404 at 0x215C66EBA00>:  35%|▋ | 9/26 [00:00<00:00, 39.67 Samples/s]\u001b[A\n",
      "Processing <PIL.Image.Image image mode=RGB size=303x404 at 0x215C66D6100>:  38%|▍| 10/26 [00:00<00:00, 39.67 Samples/s]\u001b[A\n",
      "Processing <PIL.Image.Image image mode=RGB size=303x404 at 0x215C66E2E50>:  42%|▍| 11/26 [00:00<00:00, 39.67 Samples/s]\u001b[A\n",
      "Processing <PIL.Image.Image image mode=RGB size=303x404 at 0x215C66D6640>:  46%|▍| 12/26 [00:00<00:00, 39.67 Samples/s]\u001b[A\n",
      "Processing <PIL.Image.Image image mode=RGB size=303x404 at 0x215C67E7BB0>:  50%|▌| 13/26 [00:00<00:00, 39.67 Samples/s]\u001b[A\n",
      "Processing <PIL.Image.Image image mode=RGB size=303x404 at 0x215C67E7BB0>:  54%|▌| 14/26 [00:00<00:00, 33.50 Samples/s]\u001b[A\n",
      "Processing <PIL.Image.Image image mode=RGB size=303x404 at 0x215C66D6400>:  54%|▌| 14/26 [00:00<00:00, 33.50 Samples/s]\u001b[A\n",
      "Processing <PIL.Image.Image image mode=RGB size=303x404 at 0x215C66D6D00>:  58%|▌| 15/26 [00:00<00:00, 33.50 Samples/s]\u001b[A\n",
      "Processing <PIL.Image.Image image mode=RGB size=303x404 at 0x215C66D62E0>:  62%|▌| 16/26 [00:00<00:00, 33.50 Samples/s]\u001b[A\n",
      "Processing <PIL.Image.Image image mode=RGB size=303x404 at 0x215C66BD6D0>:  65%|▋| 17/26 [00:00<00:00, 33.50 Samples/s]\u001b[A\n",
      "Processing <PIL.Image.Image image mode=RGB size=303x404 at 0x215C66EBA00>:  69%|▋| 18/26 [00:00<00:00, 33.50 Samples/s]\u001b[A\n",
      "Processing <PIL.Image.Image image mode=RGB size=303x404 at 0x215C668AAC0>:  73%|▋| 19/26 [00:00<00:00, 33.50 Samples/s]\u001b[A\n",
      "Processing <PIL.Image.Image image mode=RGB size=303x404 at 0x215C66D6A60>:  77%|▊| 20/26 [00:00<00:00, 33.50 Samples/s]\u001b[A\n",
      "Processing <PIL.Image.Image image mode=RGB size=303x404 at 0x215C66D6820>:  81%|▊| 21/26 [00:00<00:00, 33.50 Samples/s]\u001b[A\n",
      "Processing <PIL.Image.Image image mode=RGB size=303x404 at 0x215C66D60D0>:  85%|▊| 22/26 [00:00<00:00, 33.50 Samples/s]\u001b[A\n",
      "Processing <PIL.Image.Image image mode=RGB size=303x404 at 0x215C66BD910>:  88%|▉| 23/26 [00:00<00:00, 33.50 Samples/s]\u001b[A\n",
      "Processing <PIL.Image.Image image mode=RGB size=303x404 at 0x215C66D6190>:  92%|▉| 24/26 [00:00<00:00, 33.50 Samples/s]\u001b[A\n",
      "Processing <PIL.Image.Image image mode=RGB size=303x404 at 0x215C66D6D90>: 100%|█| 26/26 [00:00<00:00, 48.91 Samples/s]\u001b[A\n",
      " 32%|██████████████████████████▏                                                       | 16/50 [00:19<00:39,  1.17s/it]"
     ]
    },
    {
     "name": "stdout",
     "output_type": "stream",
     "text": [
      "Initialised with 89 image(s) found.\n",
      "Output directory set to BarkVN-50/BarkVN-50_mendeley/Dalbergia oliveri/output."
     ]
    },
    {
     "name": "stderr",
     "output_type": "stream",
     "text": [
      "\n",
      "Processing:   0%|                                                                          | 0/89 [00:00<?, ? Images/s]\u001b[A\n",
      "                                                                                                                       \u001b[A"
     ]
    },
    {
     "name": "stdout",
     "output_type": "stream",
     "text": [
      "89 ground truth image(s) found.\n"
     ]
    },
    {
     "name": "stderr",
     "output_type": "stream",
     "text": [
      "\n",
      "Executing Pipeline:   0%|                                                                 | 0/40 [00:00<?, ? Samples/s]\u001b[A\n",
      "Processing <PIL.Image.Image image mode=RGB size=303x404 at 0x215C66EBD30>:   0%|          | 0/40 [00:00<?, ? Samples/s]\u001b[A\n",
      "Processing <PIL.Image.Image image mode=RGB size=303x404 at 0x215C66EBD30>:   2%|  | 1/40 [00:00<00:08,  4.34 Samples/s]\u001b[A\n",
      "Processing <PIL.Image.Image image mode=RGB size=303x404 at 0x215C66EB5B0>:   2%|  | 1/40 [00:00<00:08,  4.34 Samples/s]\u001b[A\n",
      "Processing <PIL.Image.Image image mode=RGB size=303x404 at 0x215C66C81C0>:   5%|  | 2/40 [00:00<00:08,  4.34 Samples/s]\u001b[A\n",
      "Processing <PIL.Image.Image image mode=RGB size=303x404 at 0x215C66F0430>:   8%|▏ | 3/40 [00:00<00:08,  4.34 Samples/s]\u001b[A\n",
      "Processing <PIL.Image.Image image mode=RGB size=303x404 at 0x215C66EB610>:  10%|▏ | 4/40 [00:00<00:08,  4.34 Samples/s]\u001b[A\n",
      "Processing <PIL.Image.Image image mode=RGB size=303x404 at 0x215C66F0E20>:  12%|▎ | 5/40 [00:00<00:08,  4.34 Samples/s]\u001b[A\n",
      "Processing <PIL.Image.Image image mode=RGB size=303x404 at 0x215C66BD0D0>:  15%|▎ | 6/40 [00:00<00:07,  4.34 Samples/s]\u001b[A\n",
      "Processing <PIL.Image.Image image mode=RGB size=303x404 at 0x215C66EB580>:  18%|▎ | 7/40 [00:00<00:07,  4.34 Samples/s]\u001b[A\n",
      "Processing <PIL.Image.Image image mode=RGB size=303x404 at 0x215C66E26D0>:  20%|▍ | 8/40 [00:00<00:07,  4.34 Samples/s]\u001b[A\n",
      "Processing <PIL.Image.Image image mode=RGB size=303x404 at 0x215C66E21C0>:  22%|▍ | 9/40 [00:00<00:07,  4.34 Samples/s]\u001b[A\n",
      "Processing <PIL.Image.Image image mode=RGB size=303x404 at 0x215C66E2D00>:  25%|▎| 10/40 [00:00<00:06,  4.34 Samples/s]\u001b[A\n",
      "Processing <PIL.Image.Image image mode=RGB size=303x404 at 0x215C66E2D00>:  28%|▎| 11/40 [00:00<00:00, 40.23 Samples/s]\u001b[A\n",
      "Processing <PIL.Image.Image image mode=RGB size=303x404 at 0x215C66D6460>:  28%|▎| 11/40 [00:00<00:00, 40.23 Samples/s]\u001b[A\n",
      "Processing <PIL.Image.Image image mode=RGB size=303x404 at 0x215C66D6640>:  30%|▎| 12/40 [00:00<00:00, 40.23 Samples/s]\u001b[A\n",
      "Processing <PIL.Image.Image image mode=RGB size=303x404 at 0x215C66AD880>:  32%|▎| 13/40 [00:00<00:00, 40.23 Samples/s]\u001b[A\n",
      "Processing <PIL.Image.Image image mode=RGB size=303x404 at 0x215C66C8940>:  35%|▎| 14/40 [00:00<00:00, 40.23 Samples/s]\u001b[A\n",
      "Processing <PIL.Image.Image image mode=RGB size=303x404 at 0x215C66BD0A0>:  38%|▍| 15/40 [00:00<00:00, 40.23 Samples/s]\u001b[A\n",
      "Processing <PIL.Image.Image image mode=RGB size=303x404 at 0x215C66BDEB0>:  40%|▍| 16/40 [00:00<00:00, 40.23 Samples/s]\u001b[A\n",
      "Processing <PIL.Image.Image image mode=RGB size=303x404 at 0x215C66BDEB0>:  42%|▍| 17/40 [00:00<00:00, 36.79 Samples/s]\u001b[A\n",
      "Processing <PIL.Image.Image image mode=RGB size=303x404 at 0x215C66C8E50>:  42%|▍| 17/40 [00:00<00:00, 36.79 Samples/s]\u001b[A\n",
      "Processing <PIL.Image.Image image mode=RGB size=303x404 at 0x215C66C8EE0>:  45%|▍| 18/40 [00:00<00:00, 36.79 Samples/s]\u001b[A\n",
      "Processing <PIL.Image.Image image mode=RGB size=303x404 at 0x215C66C8460>:  48%|▍| 19/40 [00:00<00:00, 36.79 Samples/s]\u001b[A\n",
      "Processing <PIL.Image.Image image mode=RGB size=303x404 at 0x215C66AD970>:  50%|▌| 20/40 [00:00<00:00, 36.79 Samples/s]\u001b[A\n",
      "Processing <PIL.Image.Image image mode=RGB size=303x404 at 0x215C66BD310>:  52%|▌| 21/40 [00:00<00:00, 36.79 Samples/s]\u001b[A\n",
      "Processing <PIL.Image.Image image mode=RGB size=303x404 at 0x215C66BD310>:  55%|▌| 22/40 [00:00<00:00, 37.77 Samples/s]\u001b[A\n",
      "Processing <PIL.Image.Image image mode=RGB size=303x404 at 0x215C66F0A90>:  55%|▌| 22/40 [00:00<00:00, 37.77 Samples/s]\u001b[A\n",
      "Processing <PIL.Image.Image image mode=RGB size=303x404 at 0x215C66ADB80>:  57%|▌| 23/40 [00:00<00:00, 37.77 Samples/s]\u001b[A\n",
      "Processing <PIL.Image.Image image mode=RGB size=303x404 at 0x215C66BDE20>:  60%|▌| 24/40 [00:00<00:00, 37.77 Samples/s]\u001b[A\n",
      "Processing <PIL.Image.Image image mode=RGB size=303x404 at 0x215C66D6640>:  62%|▋| 25/40 [00:00<00:00, 37.77 Samples/s]\u001b[A\n",
      "Processing <PIL.Image.Image image mode=RGB size=303x404 at 0x215C66BDD90>:  65%|▋| 26/40 [00:00<00:00, 37.77 Samples/s]\u001b[A\n",
      "Processing <PIL.Image.Image image mode=RGB size=303x404 at 0x215C66BDD90>:  68%|▋| 27/40 [00:00<00:00, 38.42 Samples/s]\u001b[A\n",
      "Processing <PIL.Image.Image image mode=RGB size=303x404 at 0x215C66BDBB0>:  68%|▋| 27/40 [00:00<00:00, 38.42 Samples/s]\u001b[A\n",
      "Processing <PIL.Image.Image image mode=RGB size=303x404 at 0x215C66ADE20>:  70%|▋| 28/40 [00:00<00:00, 38.42 Samples/s]\u001b[A\n",
      "Processing <PIL.Image.Image image mode=RGB size=303x404 at 0x215C66C8D90>:  72%|▋| 29/40 [00:00<00:00, 38.42 Samples/s]\u001b[A\n",
      "Processing <PIL.Image.Image image mode=RGB size=303x404 at 0x215C66ADF40>:  75%|▊| 30/40 [00:00<00:00, 38.42 Samples/s]\u001b[A\n",
      "Processing <PIL.Image.Image image mode=RGB size=303x404 at 0x215C66BDBE0>:  78%|▊| 31/40 [00:00<00:00, 38.42 Samples/s]\u001b[A\n",
      "Processing <PIL.Image.Image image mode=RGB size=303x404 at 0x215C66C89D0>:  80%|▊| 32/40 [00:00<00:00, 38.42 Samples/s]\u001b[A\n",
      "Processing <PIL.Image.Image image mode=RGB size=303x404 at 0x215C66F0130>:  82%|▊| 33/40 [00:00<00:00, 38.42 Samples/s]\u001b[A\n",
      "Processing <PIL.Image.Image image mode=RGB size=303x404 at 0x215C66AD880>:  85%|▊| 34/40 [00:00<00:00, 38.42 Samples/s]\u001b[A\n",
      "Processing <PIL.Image.Image image mode=RGB size=303x404 at 0x215C66AD940>:  88%|▉| 35/40 [00:00<00:00, 38.42 Samples/s]\u001b[A\n",
      "Processing <PIL.Image.Image image mode=RGB size=303x404 at 0x215C66ADDC0>:  90%|▉| 36/40 [00:00<00:00, 38.42 Samples/s]\u001b[A\n",
      "Processing <PIL.Image.Image image mode=RGB size=303x404 at 0x215C66ADDC0>:  92%|▉| 37/40 [00:00<00:00, 54.00 Samples/s]\u001b[A\n",
      "Processing <PIL.Image.Image image mode=RGB size=303x404 at 0x215C66AD5E0>:  92%|▉| 37/40 [00:00<00:00, 54.00 Samples/s]\u001b[A\n",
      "Processing <PIL.Image.Image image mode=RGB size=303x404 at 0x215C66AD6D0>:  95%|▉| 38/40 [00:00<00:00, 54.00 Samples/s]\u001b[A\n",
      "Processing <PIL.Image.Image image mode=RGB size=303x404 at 0x215C66ADF70>: 100%|█| 40/40 [00:00<00:00, 45.01 Samples/s]\u001b[A\n",
      " 34%|███████████████████████████▉                                                      | 17/50 [00:20<00:44,  1.33s/it]"
     ]
    },
    {
     "name": "stdout",
     "output_type": "stream",
     "text": [
      "Initialised with 103 image(s) found.\n",
      "Output directory set to BarkVN-50/BarkVN-50_mendeley/Delonix regia/output."
     ]
    },
    {
     "name": "stderr",
     "output_type": "stream",
     "text": [
      "\n",
      "Processing:   0%|                                                                         | 0/103 [00:00<?, ? Images/s]\u001b[A\n",
      "                                                                                                                       \u001b[A"
     ]
    },
    {
     "name": "stdout",
     "output_type": "stream",
     "text": [
      "103 ground truth image(s) found.\n"
     ]
    },
    {
     "name": "stderr",
     "output_type": "stream",
     "text": [
      "\n",
      "Executing Pipeline:   0%|                                                                 | 0/30 [00:00<?, ? Samples/s]\u001b[A\n",
      "Processing <PIL.Image.Image image mode=RGB size=303x404 at 0x215C66BD160>:   0%|          | 0/30 [00:00<?, ? Samples/s]\u001b[A\n",
      "Processing <PIL.Image.Image image mode=RGB size=303x404 at 0x215C66BDBE0>:   3%|  | 1/30 [00:00<00:02, 12.86 Samples/s]\u001b[A\n",
      "Processing <PIL.Image.Image image mode=RGB size=303x404 at 0x215C668AF40>:   7%|▏ | 2/30 [00:00<00:01, 16.17 Samples/s]\u001b[A\n",
      "Processing <PIL.Image.Image image mode=RGB size=303x404 at 0x215C668AF40>:  10%|▏ | 3/30 [00:00<00:01, 22.79 Samples/s]\u001b[A\n",
      "Processing <PIL.Image.Image image mode=RGB size=303x404 at 0x215C66F0FA0>:  10%|▏ | 3/30 [00:00<00:01, 22.79 Samples/s]\u001b[A\n",
      "Processing <PIL.Image.Image image mode=RGB size=303x404 at 0x215C66F02E0>:  13%|▎ | 4/30 [00:00<00:01, 22.79 Samples/s]\u001b[A\n",
      "Processing <PIL.Image.Image image mode=RGB size=303x404 at 0x215C66C8F70>:  17%|▎ | 5/30 [00:00<00:01, 22.79 Samples/s]\u001b[A\n",
      "Processing <PIL.Image.Image image mode=RGB size=303x404 at 0x215C66C8520>:  20%|▍ | 6/30 [00:00<00:01, 22.79 Samples/s]\u001b[A\n",
      "Processing <PIL.Image.Image image mode=RGB size=303x404 at 0x215C66E23A0>:  23%|▍ | 7/30 [00:00<00:01, 22.79 Samples/s]\u001b[A\n",
      "Processing <PIL.Image.Image image mode=RGB size=303x404 at 0x215C66D6970>:  27%|▌ | 8/30 [00:00<00:00, 22.79 Samples/s]\u001b[A\n",
      "Processing <PIL.Image.Image image mode=RGB size=303x404 at 0x215C66D6EB0>:  30%|▌ | 9/30 [00:00<00:00, 22.79 Samples/s]\u001b[A\n",
      "Processing <PIL.Image.Image image mode=RGB size=303x404 at 0x215C66F0B50>:  33%|▎| 10/30 [00:00<00:00, 22.79 Samples/s]\u001b[A\n",
      "Processing <PIL.Image.Image image mode=RGB size=303x404 at 0x215C66BD070>:  37%|▎| 11/30 [00:00<00:00, 22.79 Samples/s]\u001b[A\n",
      "Processing <PIL.Image.Image image mode=RGB size=303x404 at 0x215C66C8E50>:  40%|▍| 12/30 [00:00<00:00, 22.79 Samples/s]\u001b[A\n",
      "Processing <PIL.Image.Image image mode=RGB size=303x404 at 0x215C668ACD0>:  43%|▍| 13/30 [00:00<00:00, 22.79 Samples/s]\u001b[A\n",
      "Processing <PIL.Image.Image image mode=RGB size=303x404 at 0x215C66C8EE0>:  47%|▍| 14/30 [00:00<00:00, 22.79 Samples/s]\u001b[A\n",
      "Processing <PIL.Image.Image image mode=RGB size=303x404 at 0x215C66C8EE0>:  50%|▌| 15/30 [00:00<00:00, 70.55 Samples/s]\u001b[A\n",
      "Processing <PIL.Image.Image image mode=RGB size=303x404 at 0x215C67E7760>:  50%|▌| 15/30 [00:00<00:00, 70.55 Samples/s]\u001b[A\n",
      "Processing <PIL.Image.Image image mode=RGB size=303x404 at 0x215C66EB550>:  53%|▌| 16/30 [00:00<00:00, 70.55 Samples/s]\u001b[A\n",
      "Processing <PIL.Image.Image image mode=RGB size=303x404 at 0x215C66D6DC0>:  57%|▌| 17/30 [00:00<00:00, 70.55 Samples/s]\u001b[A\n",
      "Processing <PIL.Image.Image image mode=RGB size=303x404 at 0x215C66C8490>:  60%|▌| 18/30 [00:00<00:00, 70.55 Samples/s]\u001b[A\n",
      "Processing <PIL.Image.Image image mode=RGB size=303x404 at 0x215C668AF70>:  63%|▋| 19/30 [00:00<00:00, 70.55 Samples/s]\u001b[A\n",
      "Processing <PIL.Image.Image image mode=RGB size=303x404 at 0x215C66D6670>:  67%|▋| 20/30 [00:00<00:00, 70.55 Samples/s]\u001b[A\n",
      "Processing <PIL.Image.Image image mode=RGB size=303x404 at 0x215C66C8CD0>:  70%|▋| 21/30 [00:00<00:00, 70.55 Samples/s]\u001b[A\n",
      "Processing <PIL.Image.Image image mode=RGB size=303x404 at 0x215C66EB970>:  73%|▋| 22/30 [00:00<00:00, 70.55 Samples/s]\u001b[A\n",
      "Processing <PIL.Image.Image image mode=RGB size=303x404 at 0x215C66D6CD0>:  77%|▊| 23/30 [00:00<00:00, 70.55 Samples/s]\u001b[A\n",
      "Processing <PIL.Image.Image image mode=RGB size=303x404 at 0x215C668AFA0>:  80%|▊| 24/30 [00:00<00:00, 70.55 Samples/s]\u001b[A\n",
      "Processing <PIL.Image.Image image mode=RGB size=303x404 at 0x215C66C8AC0>:  83%|▊| 25/30 [00:00<00:00, 70.55 Samples/s]\u001b[A\n",
      "Processing <PIL.Image.Image image mode=RGB size=303x404 at 0x215C66EB130>:  87%|▊| 26/30 [00:00<00:00, 70.55 Samples/s]\u001b[A\n",
      "Processing <PIL.Image.Image image mode=RGB size=303x404 at 0x215C668AEE0>:  90%|▉| 27/30 [00:00<00:00, 70.55 Samples/s]\u001b[A\n",
      "Processing <PIL.Image.Image image mode=RGB size=303x404 at 0x215C66D6AF0>:  93%|▉| 28/30 [00:00<00:00, 70.55 Samples/s]\u001b[A\n",
      "Processing <PIL.Image.Image image mode=RGB size=303x404 at 0x215C668ABB0>: 100%|█| 30/30 [00:00<00:00, 95.49 Samples/s]\u001b[A\n",
      " 36%|█████████████████████████████▌                                                    | 18/50 [00:21<00:37,  1.18s/it]"
     ]
    },
    {
     "name": "stdout",
     "output_type": "stream",
     "text": [
      "Initialised with 158 image(s) found.\n",
      "Output directory set to BarkVN-50/BarkVN-50_mendeley/Dipterocarpus alatus/output."
     ]
    },
    {
     "name": "stderr",
     "output_type": "stream",
     "text": [
      "\n",
      "Processing:   0%|                                                                         | 0/158 [00:00<?, ? Images/s]\u001b[A\n",
      "                                                                                                                       \u001b[A"
     ]
    },
    {
     "name": "stdout",
     "output_type": "stream",
     "text": [
      "158 ground truth image(s) found.\n"
     ]
    },
    {
     "name": "stderr",
     "output_type": "stream",
     "text": [
      "\n",
      "Executing Pipeline: 0 Samples [00:00, ? Samples/s]\u001b[A\n",
      " 38%|███████████████████████████████▏                                                  | 19/50 [00:22<00:36,  1.19s/it]"
     ]
    },
    {
     "name": "stdout",
     "output_type": "stream",
     "text": [
      "Initialised with 104 image(s) found.\n",
      "Output directory set to BarkVN-50/BarkVN-50_mendeley/Erythrina fusca/output."
     ]
    },
    {
     "name": "stderr",
     "output_type": "stream",
     "text": [
      "\n",
      "Processing:   0%|                                                                         | 0/104 [00:00<?, ? Images/s]\u001b[A\n",
      "                                                                                                                       \u001b[A"
     ]
    },
    {
     "name": "stdout",
     "output_type": "stream",
     "text": [
      "104 ground truth image(s) found.\n"
     ]
    },
    {
     "name": "stderr",
     "output_type": "stream",
     "text": [
      "\n",
      "Executing Pipeline:   0%|                                                                 | 0/30 [00:00<?, ? Samples/s]\u001b[A\n",
      "Processing <PIL.Image.Image image mode=RGB size=303x404 at 0x215C66F0700>:   0%|          | 0/30 [00:00<?, ? Samples/s]\u001b[A\n",
      "Processing <PIL.Image.Image image mode=RGB size=303x404 at 0x215C66F0700>:   3%|  | 1/30 [00:00<00:07,  4.11 Samples/s]\u001b[A\n",
      "Processing <PIL.Image.Image image mode=RGB size=303x404 at 0x215C66EBA90>:   3%|  | 1/30 [00:00<00:07,  4.11 Samples/s]\u001b[A\n",
      "Processing <PIL.Image.Image image mode=RGB size=303x404 at 0x215C66C87C0>:   7%|▏ | 2/30 [00:00<00:06,  4.11 Samples/s]\u001b[A\n",
      "Processing <PIL.Image.Image image mode=RGB size=303x404 at 0x215C66F0850>:  10%|▏ | 3/30 [00:00<00:06,  4.11 Samples/s]\u001b[A\n",
      "Processing <PIL.Image.Image image mode=RGB size=303x404 at 0x215C66E2400>:  13%|▎ | 4/30 [00:00<00:06,  4.11 Samples/s]\u001b[A\n",
      "Processing <PIL.Image.Image image mode=RGB size=303x404 at 0x215C66F0FD0>:  17%|▎ | 5/30 [00:00<00:06,  4.11 Samples/s]\u001b[A\n",
      "Processing <PIL.Image.Image image mode=RGB size=303x404 at 0x215C66D65E0>:  20%|▍ | 6/30 [00:00<00:05,  4.11 Samples/s]\u001b[A\n",
      "Processing <PIL.Image.Image image mode=RGB size=303x404 at 0x215C66D6C10>:  23%|▍ | 7/30 [00:00<00:05,  4.11 Samples/s]\u001b[A\n",
      "Processing <PIL.Image.Image image mode=RGB size=303x404 at 0x215C668ACD0>:  27%|▌ | 8/30 [00:00<00:05,  4.11 Samples/s]\u001b[A\n",
      "Processing <PIL.Image.Image image mode=RGB size=303x404 at 0x215C66C8370>:  30%|▌ | 9/30 [00:00<00:05,  4.11 Samples/s]\u001b[A\n",
      "Processing <PIL.Image.Image image mode=RGB size=303x404 at 0x215C66F0B50>:  33%|▎| 10/30 [00:00<00:04,  4.11 Samples/s]\u001b[A\n",
      "Processing <PIL.Image.Image image mode=RGB size=303x404 at 0x215C66C8970>:  37%|▎| 11/30 [00:00<00:04,  4.11 Samples/s]\u001b[A\n",
      "Processing <PIL.Image.Image image mode=RGB size=303x404 at 0x215C66C8970>:  40%|▍| 12/30 [00:00<00:00, 38.49 Samples/s]\u001b[A\n",
      "Processing <PIL.Image.Image image mode=RGB size=303x404 at 0x215C66EB760>:  40%|▍| 12/30 [00:00<00:00, 38.49 Samples/s]\u001b[A\n",
      "Processing <PIL.Image.Image image mode=RGB size=303x404 at 0x215C668AD00>:  43%|▍| 13/30 [00:00<00:00, 38.49 Samples/s]\u001b[A\n",
      "Processing <PIL.Image.Image image mode=RGB size=303x404 at 0x215C66D65B0>:  47%|▍| 14/30 [00:00<00:00, 38.49 Samples/s]\u001b[A\n",
      "Processing <PIL.Image.Image image mode=RGB size=303x404 at 0x215C66D6C10>:  50%|▌| 15/30 [00:00<00:00, 38.49 Samples/s]\u001b[A\n",
      "Processing <PIL.Image.Image image mode=RGB size=303x404 at 0x215C66EBB50>:  53%|▌| 16/30 [00:00<00:00, 38.49 Samples/s]\u001b[A\n",
      "Processing <PIL.Image.Image image mode=RGB size=303x404 at 0x215C66D6C40>:  57%|▌| 17/30 [00:00<00:00, 38.49 Samples/s]\u001b[A\n",
      "Processing <PIL.Image.Image image mode=RGB size=303x404 at 0x215C66D6C40>:  60%|▌| 18/30 [00:00<00:00, 39.59 Samples/s]\u001b[A\n",
      "Processing <PIL.Image.Image image mode=RGB size=303x404 at 0x215C66D6220>:  60%|▌| 18/30 [00:00<00:00, 39.59 Samples/s]\u001b[A\n",
      "Processing <PIL.Image.Image image mode=RGB size=303x404 at 0x215C66F0F40>:  63%|▋| 19/30 [00:00<00:00, 39.59 Samples/s]\u001b[A\n",
      "Processing <PIL.Image.Image image mode=RGB size=303x404 at 0x215C66F00A0>:  67%|▋| 20/30 [00:00<00:00, 39.59 Samples/s]\u001b[A\n",
      "Processing <PIL.Image.Image image mode=RGB size=303x404 at 0x215C66F04C0>:  70%|▋| 21/30 [00:00<00:00, 39.59 Samples/s]\u001b[A\n",
      "Processing <PIL.Image.Image image mode=RGB size=303x404 at 0x215C66D63D0>:  73%|▋| 22/30 [00:00<00:00, 39.59 Samples/s]\u001b[A\n",
      "Processing <PIL.Image.Image image mode=RGB size=303x404 at 0x215C66D6EE0>:  77%|▊| 23/30 [00:00<00:00, 39.59 Samples/s]\u001b[A\n",
      "Processing <PIL.Image.Image image mode=RGB size=303x404 at 0x215C66D6EE0>:  80%|▊| 24/30 [00:00<00:00, 45.06 Samples/s]\u001b[A\n",
      "Processing <PIL.Image.Image image mode=RGB size=303x404 at 0x215C66F0FA0>:  80%|▊| 24/30 [00:00<00:00, 45.06 Samples/s]\u001b[A\n",
      "Processing <PIL.Image.Image image mode=RGB size=303x404 at 0x215C66D6C10>:  83%|▊| 25/30 [00:00<00:00, 45.06 Samples/s]\u001b[A\n",
      "Processing <PIL.Image.Image image mode=RGB size=303x404 at 0x215C66D6760>:  87%|▊| 26/30 [00:00<00:00, 45.06 Samples/s]\u001b[A\n",
      "Processing <PIL.Image.Image image mode=RGB size=303x404 at 0x215C668AF40>:  90%|▉| 27/30 [00:00<00:00, 45.06 Samples/s]\u001b[A\n",
      "Processing <PIL.Image.Image image mode=RGB size=303x404 at 0x215C668ADC0>:  93%|▉| 28/30 [00:00<00:00, 45.06 Samples/s]\u001b[A\n",
      "Processing <PIL.Image.Image image mode=RGB size=303x404 at 0x215C66F0730>: 100%|█| 30/30 [00:00<00:00, 42.61 Samples/s]\u001b[A\n",
      " 40%|████████████████████████████████▊                                                 | 20/50 [00:24<00:40,  1.34s/it]"
     ]
    },
    {
     "name": "stdout",
     "output_type": "stream",
     "text": [
      "Initialised with 127 image(s) found.\n",
      "Output directory set to BarkVN-50/BarkVN-50_mendeley/Eucalyptus/output."
     ]
    },
    {
     "name": "stderr",
     "output_type": "stream",
     "text": [
      "\n",
      "Processing:   0%|                                                                         | 0/127 [00:00<?, ? Images/s]\u001b[A\n",
      "                                                                                                                       \u001b[A"
     ]
    },
    {
     "name": "stdout",
     "output_type": "stream",
     "text": [
      "127 ground truth image(s) found.\n"
     ]
    },
    {
     "name": "stderr",
     "output_type": "stream",
     "text": [
      "\n",
      "Executing Pipeline:   0%|                                                                 | 0/14 [00:00<?, ? Samples/s]\u001b[A\n",
      "Processing <PIL.Image.Image image mode=RGB size=303x404 at 0x215C66AD430>:   0%|          | 0/14 [00:00<?, ? Samples/s]\u001b[A\n",
      "Processing <PIL.Image.Image image mode=RGB size=303x404 at 0x215C66EB400>:   7%|▏ | 1/14 [00:00<00:01, 11.66 Samples/s]\u001b[A\n",
      "Processing <PIL.Image.Image image mode=RGB size=303x404 at 0x215C66F0AC0>:  14%|▎ | 2/14 [00:00<00:00, 22.53 Samples/s]\u001b[A\n",
      "Processing <PIL.Image.Image image mode=RGB size=303x404 at 0x215C66ADB20>:  21%|▍ | 3/14 [00:00<00:00, 30.69 Samples/s]\u001b[A\n",
      "Processing <PIL.Image.Image image mode=RGB size=303x404 at 0x215C66C8FD0>:  29%|▌ | 4/14 [00:00<00:00, 39.71 Samples/s]\u001b[A\n",
      "Processing <PIL.Image.Image image mode=RGB size=303x404 at 0x215C66C8FD0>:  36%|▋ | 5/14 [00:00<00:00, 48.67 Samples/s]\u001b[A\n",
      "Processing <PIL.Image.Image image mode=RGB size=303x404 at 0x215C66ADE20>:  36%|▋ | 5/14 [00:00<00:00, 48.67 Samples/s]\u001b[A\n",
      "Processing <PIL.Image.Image image mode=RGB size=303x404 at 0x215C66F0A00>:  43%|▊ | 6/14 [00:00<00:00, 48.67 Samples/s]\u001b[A\n",
      "Processing <PIL.Image.Image image mode=RGB size=303x404 at 0x215C66C8B80>:  50%|█ | 7/14 [00:00<00:00, 48.67 Samples/s]\u001b[A\n",
      "Processing <PIL.Image.Image image mode=RGB size=303x404 at 0x215C66C8A90>:  57%|█▏| 8/14 [00:00<00:00, 48.67 Samples/s]\u001b[A\n",
      "Processing <PIL.Image.Image image mode=RGB size=303x404 at 0x215C66C8880>:  64%|█▎| 9/14 [00:00<00:00, 48.67 Samples/s]\u001b[A\n",
      "Processing <PIL.Image.Image image mode=RGB size=303x404 at 0x215C66C8670>:  71%|▋| 10/14 [00:00<00:00, 48.67 Samples/s]\u001b[A\n",
      "Processing <PIL.Image.Image image mode=RGB size=303x404 at 0x215C66F02E0>:  79%|▊| 11/14 [00:00<00:00, 48.67 Samples/s]\u001b[A\n",
      "Processing <PIL.Image.Image image mode=RGB size=303x404 at 0x215C66ADE20>:  86%|▊| 12/14 [00:00<00:00, 48.67 Samples/s]\u001b[A\n",
      "Processing <PIL.Image.Image image mode=RGB size=303x404 at 0x215C66AD430>: 100%|█| 14/14 [00:00<00:00, 88.84 Samples/s]\u001b[A\n",
      " 42%|██████████████████████████████████▍                                               | 21/50 [00:25<00:37,  1.29s/it]"
     ]
    },
    {
     "name": "stdout",
     "output_type": "stream",
     "text": [
      "Initialised with 150 image(s) found.\n",
      "Output directory set to BarkVN-50/BarkVN-50_mendeley/Ficus microcarpa/output."
     ]
    },
    {
     "name": "stderr",
     "output_type": "stream",
     "text": [
      "\n",
      "Processing:   0%|                                                                         | 0/150 [00:00<?, ? Images/s]\u001b[A\n",
      "                                                                                                                       \u001b[A"
     ]
    },
    {
     "name": "stdout",
     "output_type": "stream",
     "text": [
      "150 ground truth image(s) found.\n"
     ]
    },
    {
     "name": "stderr",
     "output_type": "stream",
     "text": [
      "\n",
      "Executing Pipeline: 0 Samples [00:00, ? Samples/s]\u001b[A\n",
      " 44%|████████████████████████████████████                                              | 22/50 [00:26<00:30,  1.11s/it]"
     ]
    },
    {
     "name": "stdout",
     "output_type": "stream",
     "text": [
      "Initialised with 117 image(s) found.\n",
      "Output directory set to BarkVN-50/BarkVN-50_mendeley/Ficus racemosa/output."
     ]
    },
    {
     "name": "stderr",
     "output_type": "stream",
     "text": [
      "\n",
      "Processing:   0%|                                                                         | 0/117 [00:00<?, ? Images/s]\u001b[A\n",
      "                                                                                                                       \u001b[A"
     ]
    },
    {
     "name": "stdout",
     "output_type": "stream",
     "text": [
      "117 ground truth image(s) found.\n"
     ]
    },
    {
     "name": "stderr",
     "output_type": "stream",
     "text": [
      "\n",
      "Executing Pipeline:   0%|                                                                 | 0/21 [00:00<?, ? Samples/s]\u001b[A\n",
      "Processing <PIL.Image.Image image mode=RGB size=245x327 at 0x215C66C8910>:   0%|          | 0/21 [00:00<?, ? Samples/s]\u001b[A\n",
      "Processing <PIL.Image.Image image mode=RGB size=245x327 at 0x215C66C8B80>:   5%|  | 1/21 [00:00<00:01, 11.52 Samples/s]\u001b[A\n",
      "Processing <PIL.Image.Image image mode=RGB size=245x327 at 0x215C66EB730>:  10%|▏ | 2/21 [00:00<00:00, 20.67 Samples/s]\u001b[A\n",
      "Processing <PIL.Image.Image image mode=RGB size=245x327 at 0x215C66EB730>:  14%|▎ | 3/21 [00:00<00:00, 29.20 Samples/s]\u001b[A\n",
      "Processing <PIL.Image.Image image mode=RGB size=245x327 at 0x215C66F0820>:  14%|▎ | 3/21 [00:00<00:00, 29.20 Samples/s]\u001b[A\n",
      "Processing <PIL.Image.Image image mode=RGB size=245x327 at 0x215C66F0A60>:  19%|▍ | 4/21 [00:00<00:00, 29.20 Samples/s]\u001b[A\n",
      "Processing <PIL.Image.Image image mode=RGB size=245x327 at 0x215C66C8D60>:  24%|▍ | 5/21 [00:00<00:00, 29.20 Samples/s]\u001b[A\n",
      "Processing <PIL.Image.Image image mode=RGB size=245x327 at 0x215C66EBCD0>:  29%|▌ | 6/21 [00:00<00:00, 29.20 Samples/s]\u001b[A\n",
      "Processing <PIL.Image.Image image mode=RGB size=245x327 at 0x215C66F0100>:  33%|▋ | 7/21 [00:00<00:00, 29.20 Samples/s]\u001b[A\n",
      "Processing <PIL.Image.Image image mode=RGB size=245x327 at 0x215C66EB6D0>:  38%|▊ | 8/21 [00:00<00:00, 29.20 Samples/s]\u001b[A\n",
      "Processing <PIL.Image.Image image mode=RGB size=245x327 at 0x215C66BDDC0>:  43%|▊ | 9/21 [00:00<00:00, 29.20 Samples/s]\u001b[A\n",
      "Processing <PIL.Image.Image image mode=RGB size=245x327 at 0x215C66BD190>:  48%|▍| 10/21 [00:00<00:00, 29.20 Samples/s]\u001b[A\n",
      "Processing <PIL.Image.Image image mode=RGB size=245x327 at 0x215C66F0E80>:  52%|▌| 11/21 [00:00<00:00, 29.20 Samples/s]\u001b[A\n",
      "Processing <PIL.Image.Image image mode=RGB size=245x327 at 0x215C66F09D0>:  57%|▌| 12/21 [00:00<00:00, 29.20 Samples/s]\u001b[A\n",
      "Processing <PIL.Image.Image image mode=RGB size=245x327 at 0x215C66C87C0>:  62%|▌| 13/21 [00:00<00:00, 29.20 Samples/s]\u001b[A\n",
      "Processing <PIL.Image.Image image mode=RGB size=245x327 at 0x215C66C8B80>:  67%|▋| 14/21 [00:00<00:00, 29.20 Samples/s]\u001b[A\n",
      "Processing <PIL.Image.Image image mode=RGB size=245x327 at 0x215C66F0160>:  71%|▋| 15/21 [00:00<00:00, 29.20 Samples/s]\u001b[A\n",
      "Processing <PIL.Image.Image image mode=RGB size=245x327 at 0x215C66C8970>:  76%|▊| 16/21 [00:00<00:00, 29.20 Samples/s]\u001b[A\n",
      "Processing <PIL.Image.Image image mode=RGB size=245x327 at 0x215C66D61F0>:  81%|▊| 17/21 [00:00<00:00, 29.20 Samples/s]\u001b[A\n",
      "Processing <PIL.Image.Image image mode=RGB size=245x327 at 0x215C66AD850>:  86%|▊| 18/21 [00:00<00:00, 29.20 Samples/s]\u001b[A\n",
      "Processing <PIL.Image.Image image mode=RGB size=245x327 at 0x215C66ADCD0>:  90%|▉| 19/21 [00:00<00:00, 29.20 Samples/s]\u001b[A\n",
      "Processing <PIL.Image.Image image mode=RGB size=245x327 at 0x215C66C8040>: 100%|█| 21/21 [00:00<00:00, 127.61 Samples/s\u001b[A\n",
      " 46%|█████████████████████████████████████▋                                            | 23/50 [00:27<00:26,  1.01it/s]"
     ]
    },
    {
     "name": "stdout",
     "output_type": "stream",
     "text": [
      "Initialised with 103 image(s) found.\n",
      "Output directory set to BarkVN-50/BarkVN-50_mendeley/Gmelina arborea Roxb/output."
     ]
    },
    {
     "name": "stderr",
     "output_type": "stream",
     "text": [
      "\n",
      "Processing:   0%|                                                                         | 0/103 [00:00<?, ? Images/s]\u001b[A\n",
      "                                                                                                                       \u001b[A"
     ]
    },
    {
     "name": "stdout",
     "output_type": "stream",
     "text": [
      "103 ground truth image(s) found.\n"
     ]
    },
    {
     "name": "stderr",
     "output_type": "stream",
     "text": [
      "\n",
      "Executing Pipeline:   0%|                                                                 | 0/30 [00:00<?, ? Samples/s]\u001b[A\n",
      "Processing <PIL.Image.Image image mode=RGB size=303x404 at 0x215C66D6160>:   0%|          | 0/30 [00:00<?, ? Samples/s]\u001b[A\n",
      "Processing <PIL.Image.Image image mode=RGB size=303x404 at 0x215C66D6940>:   3%|  | 1/30 [00:00<00:03,  7.27 Samples/s]\u001b[A\n",
      "Processing <PIL.Image.Image image mode=RGB size=303x404 at 0x215C66D6940>:   7%|▏ | 2/30 [00:00<00:01, 14.22 Samples/s]\u001b[A\n",
      "Processing <PIL.Image.Image image mode=RGB size=303x404 at 0x215C66BDAC0>:   7%|▏ | 2/30 [00:00<00:01, 14.22 Samples/s]\u001b[A\n",
      "Processing <PIL.Image.Image image mode=RGB size=303x404 at 0x215C67E7790>:  10%|▏ | 3/30 [00:00<00:01, 14.22 Samples/s]\u001b[A\n",
      "Processing <PIL.Image.Image image mode=RGB size=303x404 at 0x215C66EBD90>:  13%|▎ | 4/30 [00:00<00:01, 14.22 Samples/s]\u001b[A\n",
      "Processing <PIL.Image.Image image mode=RGB size=303x404 at 0x215C66D6340>:  17%|▎ | 5/30 [00:00<00:01, 14.22 Samples/s]\u001b[A\n",
      "Processing <PIL.Image.Image image mode=RGB size=303x404 at 0x215C66AD4C0>:  20%|▍ | 6/30 [00:00<00:01, 14.22 Samples/s]\u001b[A\n",
      "Processing <PIL.Image.Image image mode=RGB size=303x404 at 0x215C66BDA00>:  23%|▍ | 7/30 [00:00<00:01, 14.22 Samples/s]\u001b[A\n",
      "Processing <PIL.Image.Image image mode=RGB size=303x404 at 0x215C66AD550>:  27%|▌ | 8/30 [00:00<00:01, 14.22 Samples/s]\u001b[A\n",
      "Processing <PIL.Image.Image image mode=RGB size=303x404 at 0x215C66ADA60>:  30%|▌ | 9/30 [00:00<00:01, 14.22 Samples/s]\u001b[A\n",
      "Processing <PIL.Image.Image image mode=RGB size=303x404 at 0x215C66EBBE0>:  33%|▎| 10/30 [00:00<00:01, 14.22 Samples/s]\u001b[A\n",
      "Processing <PIL.Image.Image image mode=RGB size=303x404 at 0x215C66BDD30>:  37%|▎| 11/30 [00:00<00:01, 14.22 Samples/s]\u001b[A\n",
      "Processing <PIL.Image.Image image mode=RGB size=303x404 at 0x215C66ADAC0>:  40%|▍| 12/30 [00:00<00:01, 14.22 Samples/s]\u001b[A\n",
      "Processing <PIL.Image.Image image mode=RGB size=303x404 at 0x215C66ADAC0>:  43%|▍| 13/30 [00:00<00:00, 41.76 Samples/s]\u001b[A\n",
      "Processing <PIL.Image.Image image mode=RGB size=303x404 at 0x215C66BD730>:  43%|▍| 13/30 [00:00<00:00, 41.76 Samples/s]\u001b[A\n",
      "Processing <PIL.Image.Image image mode=RGB size=303x404 at 0x215C66ADC10>:  47%|▍| 14/30 [00:00<00:00, 41.76 Samples/s]\u001b[A\n",
      "Processing <PIL.Image.Image image mode=RGB size=303x404 at 0x215C66F0B50>:  50%|▌| 15/30 [00:00<00:00, 41.76 Samples/s]\u001b[A\n",
      "Processing <PIL.Image.Image image mode=RGB size=303x404 at 0x215C66AD460>:  53%|▌| 16/30 [00:00<00:00, 41.76 Samples/s]\u001b[A\n",
      "Processing <PIL.Image.Image image mode=RGB size=303x404 at 0x215C66AD310>:  57%|▌| 17/30 [00:00<00:00, 41.76 Samples/s]\u001b[A\n",
      "Processing <PIL.Image.Image image mode=RGB size=303x404 at 0x215C66ADC70>:  60%|▌| 18/30 [00:00<00:00, 41.76 Samples/s]\u001b[A\n",
      "Processing <PIL.Image.Image image mode=RGB size=303x404 at 0x215C66BDAF0>:  63%|▋| 19/30 [00:00<00:00, 41.76 Samples/s]\u001b[A\n",
      "Processing <PIL.Image.Image image mode=RGB size=303x404 at 0x215C66BD3D0>:  67%|▋| 20/30 [00:00<00:00, 41.76 Samples/s]\u001b[A\n",
      "Processing <PIL.Image.Image image mode=RGB size=303x404 at 0x215C66BDBB0>:  70%|▋| 21/30 [00:00<00:00, 41.76 Samples/s]\u001b[A\n",
      "Processing <PIL.Image.Image image mode=RGB size=303x404 at 0x215C66BDBB0>:  73%|▋| 22/30 [00:00<00:00, 53.17 Samples/s]\u001b[A\n",
      "Processing <PIL.Image.Image image mode=RGB size=303x404 at 0x215C66BDEB0>:  73%|▋| 22/30 [00:00<00:00, 53.17 Samples/s]\u001b[A\n",
      "Processing <PIL.Image.Image image mode=RGB size=303x404 at 0x215C66BD8B0>:  77%|▊| 23/30 [00:00<00:00, 53.17 Samples/s]\u001b[A\n",
      "Processing <PIL.Image.Image image mode=RGB size=303x404 at 0x215C66BD0A0>:  80%|▊| 24/30 [00:00<00:00, 53.17 Samples/s]\u001b[A\n",
      "Processing <PIL.Image.Image image mode=RGB size=303x404 at 0x215C66BDCA0>:  83%|▊| 25/30 [00:00<00:00, 53.17 Samples/s]\u001b[A\n",
      "Processing <PIL.Image.Image image mode=RGB size=303x404 at 0x215C66BD070>:  87%|▊| 26/30 [00:00<00:00, 53.17 Samples/s]\u001b[A\n",
      "Processing <PIL.Image.Image image mode=RGB size=303x404 at 0x215C66BD550>:  90%|▉| 27/30 [00:00<00:00, 53.17 Samples/s]\u001b[A\n",
      "Processing <PIL.Image.Image image mode=RGB size=303x404 at 0x215C66BDBE0>:  93%|▉| 28/30 [00:00<00:00, 53.17 Samples/s]\u001b[A\n",
      "Processing <PIL.Image.Image image mode=RGB size=303x404 at 0x215C66F0220>: 100%|█| 30/30 [00:00<00:00, 53.91 Samples/s]\u001b[A\n",
      " 48%|███████████████████████████████████████▎                                          | 24/50 [00:28<00:26,  1.01s/it]"
     ]
    },
    {
     "name": "stdout",
     "output_type": "stream",
     "text": [
      "Initialised with 110 image(s) found.\n",
      "Output directory set to BarkVN-50/BarkVN-50_mendeley/Hevea brasiliensis/output."
     ]
    },
    {
     "name": "stderr",
     "output_type": "stream",
     "text": [
      "\n",
      "Processing:   0%|                                                                         | 0/110 [00:00<?, ? Images/s]\u001b[A\n",
      "                                                                                                                       \u001b[A"
     ]
    },
    {
     "name": "stdout",
     "output_type": "stream",
     "text": [
      "110 ground truth image(s) found.\n"
     ]
    },
    {
     "name": "stderr",
     "output_type": "stream",
     "text": [
      "\n",
      "Executing Pipeline:   0%|                                                                 | 0/26 [00:00<?, ? Samples/s]\u001b[A\n",
      "Processing <PIL.Image.Image image mode=RGB size=303x404 at 0x215C66D6A90>:   0%|          | 0/26 [00:00<?, ? Samples/s]\u001b[A\n",
      "Processing <PIL.Image.Image image mode=RGB size=303x404 at 0x215C66D6A90>:   4%|  | 1/26 [00:00<00:05,  4.54 Samples/s]\u001b[A\n",
      "Processing <PIL.Image.Image image mode=RGB size=303x404 at 0x215C66AD940>:   4%|  | 1/26 [00:00<00:05,  4.54 Samples/s]\u001b[A\n",
      "Processing <PIL.Image.Image image mode=RGB size=303x404 at 0x215C66ADE50>:   8%|▏ | 2/26 [00:00<00:05,  4.54 Samples/s]\u001b[A\n",
      "Processing <PIL.Image.Image image mode=RGB size=303x404 at 0x215C66AD0A0>:  12%|▏ | 3/26 [00:00<00:05,  4.54 Samples/s]\u001b[A\n",
      "Processing <PIL.Image.Image image mode=RGB size=303x404 at 0x215C66AD910>:  15%|▎ | 4/26 [00:00<00:04,  4.54 Samples/s]\u001b[A\n",
      "Processing <PIL.Image.Image image mode=RGB size=303x404 at 0x215C66D6760>:  19%|▍ | 5/26 [00:00<00:04,  4.54 Samples/s]\u001b[A\n",
      "Processing <PIL.Image.Image image mode=RGB size=303x404 at 0x215C66EB130>:  23%|▍ | 6/26 [00:00<00:04,  4.54 Samples/s]\u001b[A\n",
      "Processing <PIL.Image.Image image mode=RGB size=303x404 at 0x215C66EB250>:  27%|▌ | 7/26 [00:00<00:04,  4.54 Samples/s]\u001b[A\n",
      "Processing <PIL.Image.Image image mode=RGB size=303x404 at 0x215C66D6F40>:  31%|▌ | 8/26 [00:00<00:03,  4.54 Samples/s]\u001b[A\n",
      "Processing <PIL.Image.Image image mode=RGB size=303x404 at 0x215C66AD760>:  35%|▋ | 9/26 [00:00<00:03,  4.54 Samples/s]\u001b[A\n",
      "Processing <PIL.Image.Image image mode=RGB size=303x404 at 0x215C66D6820>:  38%|▍| 10/26 [00:00<00:03,  4.54 Samples/s]\u001b[A\n",
      "Processing <PIL.Image.Image image mode=RGB size=303x404 at 0x215C66D60D0>:  42%|▍| 11/26 [00:00<00:03,  4.54 Samples/s]\u001b[A\n",
      "Processing <PIL.Image.Image image mode=RGB size=303x404 at 0x215C66D60D0>:  46%|▍| 12/26 [00:00<00:00, 45.70 Samples/s]\u001b[A\n",
      "Processing <PIL.Image.Image image mode=RGB size=303x404 at 0x215C66EBD00>:  46%|▍| 12/26 [00:00<00:00, 45.70 Samples/s]\u001b[A\n",
      "Processing <PIL.Image.Image image mode=RGB size=303x404 at 0x215C66C8640>:  50%|▌| 13/26 [00:00<00:00, 45.70 Samples/s]\u001b[A\n",
      "Processing <PIL.Image.Image image mode=RGB size=303x404 at 0x215C66C82E0>:  54%|▌| 14/26 [00:00<00:00, 45.70 Samples/s]\u001b[A\n",
      "Processing <PIL.Image.Image image mode=RGB size=303x404 at 0x215C66EBA30>:  58%|▌| 15/26 [00:00<00:00, 45.70 Samples/s]\u001b[A\n",
      "Processing <PIL.Image.Image image mode=RGB size=303x404 at 0x215C668AC10>:  62%|▌| 16/26 [00:00<00:00, 45.70 Samples/s]\u001b[A\n",
      "Processing <PIL.Image.Image image mode=RGB size=303x404 at 0x215C66C8250>:  65%|▋| 17/26 [00:00<00:00, 45.70 Samples/s]\u001b[A\n",
      "Processing <PIL.Image.Image image mode=RGB size=303x404 at 0x215C66D6100>:  69%|▋| 18/26 [00:00<00:00, 45.70 Samples/s]\u001b[A\n",
      "Processing <PIL.Image.Image image mode=RGB size=303x404 at 0x215C66D6100>:  73%|▋| 19/26 [00:00<00:00, 39.39 Samples/s]\u001b[A\n",
      "Processing <PIL.Image.Image image mode=RGB size=303x404 at 0x215C66AD2E0>:  73%|▋| 19/26 [00:00<00:00, 39.39 Samples/s]\u001b[A\n",
      "Processing <PIL.Image.Image image mode=RGB size=303x404 at 0x215C66C8EE0>:  77%|▊| 20/26 [00:00<00:00, 39.39 Samples/s]\u001b[A\n",
      "Processing <PIL.Image.Image image mode=RGB size=303x404 at 0x215C66AD6D0>:  81%|▊| 21/26 [00:00<00:00, 39.39 Samples/s]\u001b[A\n",
      "Processing <PIL.Image.Image image mode=RGB size=303x404 at 0x215C66C8BB0>:  85%|▊| 22/26 [00:00<00:00, 39.39 Samples/s]\u001b[A\n",
      "Processing <PIL.Image.Image image mode=RGB size=303x404 at 0x215C66ADCD0>:  88%|▉| 23/26 [00:00<00:00, 39.39 Samples/s]\u001b[A\n",
      "Processing <PIL.Image.Image image mode=RGB size=303x404 at 0x215C67E7FA0>:  92%|▉| 24/26 [00:00<00:00, 39.39 Samples/s]\u001b[A\n",
      "Processing <PIL.Image.Image image mode=RGB size=303x404 at 0x215C66C8160>: 100%|█| 26/26 [00:00<00:00, 44.26 Samples/s]\u001b[A\n",
      " 50%|█████████████████████████████████████████                                         | 25/50 [00:29<00:29,  1.19s/it]"
     ]
    },
    {
     "name": "stdout",
     "output_type": "stream",
     "text": [
      "Initialised with 91 image(s) found.\n",
      "Output directory set to BarkVN-50/BarkVN-50_mendeley/Hopea/output."
     ]
    },
    {
     "name": "stderr",
     "output_type": "stream",
     "text": [
      "\n",
      "Processing:   0%|                                                                          | 0/91 [00:00<?, ? Images/s]\u001b[A\n",
      "                                                                                                                       \u001b[A"
     ]
    },
    {
     "name": "stdout",
     "output_type": "stream",
     "text": [
      "91 ground truth image(s) found.\n"
     ]
    },
    {
     "name": "stderr",
     "output_type": "stream",
     "text": [
      "\n",
      "Executing Pipeline:   0%|                                                                 | 0/39 [00:00<?, ? Samples/s]\u001b[A\n",
      "Processing <PIL.Image.Image image mode=RGB size=303x404 at 0x215C6671C40>:   0%|          | 0/39 [00:00<?, ? Samples/s]\u001b[A\n",
      "Processing <PIL.Image.Image image mode=RGB size=303x404 at 0x215C6671C40>:   3%|  | 1/39 [00:00<00:05,  6.55 Samples/s]\u001b[A\n",
      "Processing <PIL.Image.Image image mode=RGB size=303x404 at 0x215C66ADCD0>:   3%|  | 1/39 [00:00<00:05,  6.55 Samples/s]\u001b[A\n",
      "Processing <PIL.Image.Image image mode=RGB size=303x404 at 0x215C66AD910>:   5%|  | 2/39 [00:00<00:05,  6.55 Samples/s]\u001b[A\n",
      "Processing <PIL.Image.Image image mode=RGB size=303x404 at 0x215C66E80A0>:   8%|▏ | 3/39 [00:00<00:05,  6.55 Samples/s]\u001b[A\n",
      "Processing <PIL.Image.Image image mode=RGB size=303x404 at 0x215C66E80A0>:  10%|▏ | 4/39 [00:00<00:02, 17.41 Samples/s]\u001b[A\n",
      "Processing <PIL.Image.Image image mode=RGB size=303x404 at 0x215C66D6220>:  10%|▏ | 4/39 [00:00<00:02, 17.41 Samples/s]\u001b[A\n",
      "Processing <PIL.Image.Image image mode=RGB size=303x404 at 0x215C66EB9D0>:  13%|▎ | 5/39 [00:00<00:01, 17.41 Samples/s]\u001b[A\n",
      "Processing <PIL.Image.Image image mode=RGB size=303x404 at 0x215C668A130>:  15%|▎ | 6/39 [00:00<00:01, 17.41 Samples/s]\u001b[A\n",
      "Processing <PIL.Image.Image image mode=RGB size=303x404 at 0x215C66BD400>:  18%|▎ | 7/39 [00:00<00:01, 17.41 Samples/s]\u001b[A\n",
      "Processing <PIL.Image.Image image mode=RGB size=303x404 at 0x215C66ADE20>:  21%|▍ | 8/39 [00:00<00:01, 17.41 Samples/s]\u001b[A\n",
      "Processing <PIL.Image.Image image mode=RGB size=303x404 at 0x215C66BDF10>:  23%|▍ | 9/39 [00:00<00:01, 17.41 Samples/s]\u001b[A\n",
      "Processing <PIL.Image.Image image mode=RGB size=303x404 at 0x215C66EB550>:  26%|▎| 10/39 [00:00<00:01, 17.41 Samples/s]\u001b[A\n",
      "Processing <PIL.Image.Image image mode=RGB size=303x404 at 0x215C66ADBE0>:  28%|▎| 11/39 [00:00<00:01, 17.41 Samples/s]\u001b[A\n",
      "Processing <PIL.Image.Image image mode=RGB size=303x404 at 0x215C668AEE0>:  31%|▎| 12/39 [00:00<00:01, 17.41 Samples/s]\u001b[A\n",
      "Processing <PIL.Image.Image image mode=RGB size=303x404 at 0x215C668AEE0>:  33%|▎| 13/39 [00:00<00:00, 37.11 Samples/s]\u001b[A\n",
      "Processing <PIL.Image.Image image mode=RGB size=303x404 at 0x215C66713A0>:  33%|▎| 13/39 [00:00<00:00, 37.11 Samples/s]\u001b[A\n",
      "Processing <PIL.Image.Image image mode=RGB size=303x404 at 0x215C668A040>:  36%|▎| 14/39 [00:00<00:00, 37.11 Samples/s]\u001b[A\n",
      "Processing <PIL.Image.Image image mode=RGB size=303x404 at 0x215C66D6430>:  38%|▍| 15/39 [00:00<00:00, 37.11 Samples/s]\u001b[A\n",
      "Processing <PIL.Image.Image image mode=RGB size=303x404 at 0x215C66BDCA0>:  41%|▍| 16/39 [00:00<00:00, 37.11 Samples/s]\u001b[A\n",
      "Processing <PIL.Image.Image image mode=RGB size=303x404 at 0x215C66BDCA0>:  44%|▍| 17/39 [00:00<00:00, 36.02 Samples/s]\u001b[A\n",
      "Processing <PIL.Image.Image image mode=RGB size=303x404 at 0x215C66D6460>:  44%|▍| 17/39 [00:00<00:00, 36.02 Samples/s]\u001b[A\n",
      "Processing <PIL.Image.Image image mode=RGB size=303x404 at 0x215C668ACA0>:  46%|▍| 18/39 [00:00<00:00, 36.02 Samples/s]\u001b[A\n",
      "Processing <PIL.Image.Image image mode=RGB size=303x404 at 0x215C66713A0>:  49%|▍| 19/39 [00:00<00:00, 36.02 Samples/s]\u001b[A\n",
      "Processing <PIL.Image.Image image mode=RGB size=303x404 at 0x215C66D63D0>:  51%|▌| 20/39 [00:00<00:00, 36.02 Samples/s]\u001b[A\n",
      "Processing <PIL.Image.Image image mode=RGB size=303x404 at 0x215C668AD30>:  54%|▌| 21/39 [00:00<00:00, 36.02 Samples/s]\u001b[A\n",
      "Processing <PIL.Image.Image image mode=RGB size=303x404 at 0x215C668AD30>:  56%|▌| 22/39 [00:00<00:00, 39.86 Samples/s]\u001b[A\n",
      "Processing <PIL.Image.Image image mode=RGB size=303x404 at 0x215C66D6610>:  56%|▌| 22/39 [00:00<00:00, 39.86 Samples/s]\u001b[A\n",
      "Processing <PIL.Image.Image image mode=RGB size=303x404 at 0x215C66D6CD0>:  59%|▌| 23/39 [00:00<00:00, 39.86 Samples/s]\u001b[A\n",
      "Processing <PIL.Image.Image image mode=RGB size=303x404 at 0x215C66EB0A0>:  62%|▌| 24/39 [00:00<00:00, 39.86 Samples/s]\u001b[A\n",
      "Processing <PIL.Image.Image image mode=RGB size=303x404 at 0x215C66D6760>:  64%|▋| 25/39 [00:00<00:00, 39.86 Samples/s]\u001b[A\n",
      "Processing <PIL.Image.Image image mode=RGB size=303x404 at 0x215C668AAC0>:  67%|▋| 26/39 [00:00<00:00, 39.86 Samples/s]\u001b[A\n",
      "Processing <PIL.Image.Image image mode=RGB size=303x404 at 0x215C668ACA0>:  69%|▋| 27/39 [00:00<00:00, 39.86 Samples/s]\u001b[A\n",
      "Processing <PIL.Image.Image image mode=RGB size=303x404 at 0x215C66BD1C0>:  72%|▋| 28/39 [00:00<00:00, 39.86 Samples/s]\u001b[A\n",
      "Processing <PIL.Image.Image image mode=RGB size=303x404 at 0x215C668A910>:  74%|▋| 29/39 [00:00<00:00, 39.86 Samples/s]\u001b[A\n",
      "Processing <PIL.Image.Image image mode=RGB size=303x404 at 0x215C668AE80>:  77%|▊| 30/39 [00:00<00:00, 39.86 Samples/s]\u001b[A\n",
      "Processing <PIL.Image.Image image mode=RGB size=303x404 at 0x215C66EBCD0>:  79%|▊| 31/39 [00:00<00:00, 39.86 Samples/s]\u001b[A\n",
      "Processing <PIL.Image.Image image mode=RGB size=303x404 at 0x215C668A0D0>:  82%|▊| 32/39 [00:00<00:00, 39.86 Samples/s]\u001b[A\n",
      "Processing <PIL.Image.Image image mode=RGB size=303x404 at 0x215C668ADC0>:  85%|▊| 33/39 [00:00<00:00, 39.86 Samples/s]\u001b[A\n",
      "Processing <PIL.Image.Image image mode=RGB size=303x404 at 0x215C66E2940>:  87%|▊| 34/39 [00:00<00:00, 39.86 Samples/s]\u001b[A\n",
      "Processing <PIL.Image.Image image mode=RGB size=303x404 at 0x215C668AA30>:  90%|▉| 35/39 [00:00<00:00, 39.86 Samples/s]\u001b[A\n",
      "Processing <PIL.Image.Image image mode=RGB size=303x404 at 0x215C66E22E0>:  92%|▉| 36/39 [00:00<00:00, 39.86 Samples/s]\u001b[A\n",
      "Processing <PIL.Image.Image image mode=RGB size=303x404 at 0x215C66BDCA0>:  95%|▉| 37/39 [00:00<00:00, 39.86 Samples/s]\u001b[A\n",
      "Processing <PIL.Image.Image image mode=RGB size=303x404 at 0x215C66BDCA0>:  97%|▉| 38/39 [00:00<00:00, 75.38 Samples/s]\u001b[A\n",
      "Processing <PIL.Image.Image image mode=RGB size=303x404 at 0x215C668AE50>: 100%|█| 39/39 [00:00<00:00, 52.00 Samples/s]\u001b[A\n",
      " 52%|██████████████████████████████████████████▋                                       | 26/50 [00:31<00:31,  1.30s/it]"
     ]
    },
    {
     "name": "stdout",
     "output_type": "stream",
     "text": [
      "Initialised with 95 image(s) found.\n",
      "Output directory set to BarkVN-50/BarkVN-50_mendeley/Khaya senegalensis/output."
     ]
    },
    {
     "name": "stderr",
     "output_type": "stream",
     "text": [
      "\n",
      "Processing:   0%|                                                                          | 0/95 [00:00<?, ? Images/s]\u001b[A\n",
      " 54%|████████████████████████████████████████████▎                                     | 27/50 [00:31<00:23,  1.04s/it]\u001b[A"
     ]
    },
    {
     "name": "stdout",
     "output_type": "stream",
     "text": [
      "95 ground truth image(s) found.\n",
      "Initialised with 99 image(s) found.\n",
      "Output directory set to BarkVN-50/BarkVN-50_mendeley/Khaya senegalensis A.Juss/output."
     ]
    },
    {
     "name": "stderr",
     "output_type": "stream",
     "text": [
      "\n",
      "Processing:   0%|                                                                          | 0/99 [00:00<?, ? Images/s]\u001b[A\n",
      "                                                                                                                       \u001b[A"
     ]
    },
    {
     "name": "stdout",
     "output_type": "stream",
     "text": [
      "99 ground truth image(s) found.\n"
     ]
    },
    {
     "name": "stderr",
     "output_type": "stream",
     "text": [
      "\n",
      "Executing Pipeline:   0%|                                                                 | 0/33 [00:00<?, ? Samples/s]\u001b[A\n",
      "Processing <PIL.Image.Image image mode=RGB size=303x404 at 0x215C66E26A0>:   0%|          | 0/33 [00:00<?, ? Samples/s]\u001b[A\n",
      "Processing <PIL.Image.Image image mode=RGB size=303x404 at 0x215C66EB610>:   3%|  | 1/33 [00:00<00:02, 10.90 Samples/s]\u001b[A\n",
      "Processing <PIL.Image.Image image mode=RGB size=303x404 at 0x215C66D6EE0>:   6%|  | 2/33 [00:00<00:01, 21.33 Samples/s]\u001b[A\n",
      "Processing <PIL.Image.Image image mode=RGB size=303x404 at 0x215C66EB2B0>:   9%|▏ | 3/33 [00:00<00:00, 31.33 Samples/s]\u001b[A\n",
      "Processing <PIL.Image.Image image mode=RGB size=303x404 at 0x215C66F0A60>:  12%|▏ | 4/33 [00:00<00:00, 31.33 Samples/s]\u001b[A\n",
      "Processing <PIL.Image.Image image mode=RGB size=303x404 at 0x215C66F0A60>:  15%|▎ | 5/33 [00:00<00:00, 38.56 Samples/s]\u001b[A\n",
      "Processing <PIL.Image.Image image mode=RGB size=303x404 at 0x215C66EBB50>:  15%|▎ | 5/33 [00:00<00:00, 38.56 Samples/s]\u001b[A\n",
      "Processing <PIL.Image.Image image mode=RGB size=303x404 at 0x215C66EBC40>:  18%|▎ | 6/33 [00:00<00:00, 38.56 Samples/s]\u001b[A\n",
      "Processing <PIL.Image.Image image mode=RGB size=303x404 at 0x215C668A970>:  21%|▍ | 7/33 [00:00<00:00, 38.56 Samples/s]\u001b[A\n",
      "Processing <PIL.Image.Image image mode=RGB size=303x404 at 0x215C66EBD30>:  24%|▍ | 8/33 [00:00<00:00, 38.56 Samples/s]\u001b[A\n",
      "Processing <PIL.Image.Image image mode=RGB size=303x404 at 0x215C6671B80>:  27%|▌ | 9/33 [00:00<00:00, 38.56 Samples/s]\u001b[A\n",
      "Processing <PIL.Image.Image image mode=RGB size=303x404 at 0x215C66EBA00>:  30%|▎| 10/33 [00:00<00:00, 38.56 Samples/s]\u001b[A\n",
      "Processing <PIL.Image.Image image mode=RGB size=303x404 at 0x215C66BD400>:  33%|▎| 11/33 [00:00<00:00, 38.56 Samples/s]\u001b[A\n",
      "Processing <PIL.Image.Image image mode=RGB size=303x404 at 0x215C66EB4F0>:  36%|▎| 12/33 [00:00<00:00, 38.56 Samples/s]\u001b[A\n",
      "Processing <PIL.Image.Image image mode=RGB size=303x404 at 0x215C66EB250>:  39%|▍| 13/33 [00:00<00:00, 38.56 Samples/s]\u001b[A\n",
      "Processing <PIL.Image.Image image mode=RGB size=303x404 at 0x215C66EB250>:  42%|▍| 14/33 [00:00<00:00, 54.02 Samples/s]\u001b[A\n",
      "Processing <PIL.Image.Image image mode=RGB size=303x404 at 0x215C66EB400>:  42%|▍| 14/33 [00:00<00:00, 54.02 Samples/s]\u001b[A\n",
      "Processing <PIL.Image.Image image mode=RGB size=303x404 at 0x215C66BD1C0>:  45%|▍| 15/33 [00:00<00:00, 54.02 Samples/s]\u001b[A\n",
      "Processing <PIL.Image.Image image mode=RGB size=303x404 at 0x215C66BD310>:  48%|▍| 16/33 [00:00<00:00, 54.02 Samples/s]\u001b[A\n",
      "Processing <PIL.Image.Image image mode=RGB size=303x404 at 0x215C6671190>:  52%|▌| 17/33 [00:00<00:00, 54.02 Samples/s]\u001b[A\n",
      "Processing <PIL.Image.Image image mode=RGB size=303x404 at 0x215C66EBD00>:  55%|▌| 18/33 [00:00<00:00, 54.02 Samples/s]\u001b[A\n",
      "Processing <PIL.Image.Image image mode=RGB size=303x404 at 0x215C66EBAC0>:  58%|▌| 19/33 [00:00<00:00, 54.02 Samples/s]\u001b[A\n",
      "Processing <PIL.Image.Image image mode=RGB size=303x404 at 0x215C66EB640>:  61%|▌| 20/33 [00:00<00:00, 54.02 Samples/s]\u001b[A\n",
      "Processing <PIL.Image.Image image mode=RGB size=303x404 at 0x215C66BD910>:  64%|▋| 21/33 [00:00<00:00, 54.02 Samples/s]\u001b[A\n",
      "Processing <PIL.Image.Image image mode=RGB size=303x404 at 0x215C66BD820>:  67%|▋| 22/33 [00:00<00:00, 54.02 Samples/s]\u001b[A\n",
      "Processing <PIL.Image.Image image mode=RGB size=303x404 at 0x215C668AAF0>:  70%|▋| 23/33 [00:00<00:00, 54.02 Samples/s]\u001b[A\n",
      "Processing <PIL.Image.Image image mode=RGB size=303x404 at 0x215C66EB730>:  73%|▋| 24/33 [00:00<00:00, 54.02 Samples/s]\u001b[A\n",
      "Processing <PIL.Image.Image image mode=RGB size=303x404 at 0x215C66BD6D0>:  76%|▊| 25/33 [00:00<00:00, 54.02 Samples/s]\u001b[A\n",
      "Processing <PIL.Image.Image image mode=RGB size=303x404 at 0x215C66E2AF0>:  79%|▊| 26/33 [00:00<00:00, 54.02 Samples/s]\u001b[A\n",
      "Processing <PIL.Image.Image image mode=RGB size=303x404 at 0x215C66E2130>:  82%|▊| 27/33 [00:00<00:00, 54.02 Samples/s]\u001b[A\n",
      "Processing <PIL.Image.Image image mode=RGB size=303x404 at 0x215C668A9D0>:  85%|▊| 28/33 [00:00<00:00, 54.02 Samples/s]\u001b[A\n",
      "Processing <PIL.Image.Image image mode=RGB size=303x404 at 0x215C668A9D0>:  88%|▉| 29/33 [00:00<00:00, 87.10 Samples/s]\u001b[A\n",
      "Processing <PIL.Image.Image image mode=RGB size=303x404 at 0x215C6671BB0>:  88%|▉| 29/33 [00:00<00:00, 87.10 Samples/s]\u001b[A\n",
      "Processing <PIL.Image.Image image mode=RGB size=303x404 at 0x215C668A040>:  91%|▉| 30/33 [00:00<00:00, 87.10 Samples/s]\u001b[A\n",
      "Processing <PIL.Image.Image image mode=RGB size=303x404 at 0x215C668AD90>:  94%|▉| 31/33 [00:00<00:00, 87.10 Samples/s]\u001b[A\n",
      "Processing <PIL.Image.Image image mode=RGB size=303x404 at 0x215C66BD580>: 100%|█| 33/33 [00:00<00:00, 82.31 Samples/s]\u001b[A\n",
      " 56%|█████████████████████████████████████████████▉                                    | 28/50 [00:32<00:21,  1.01it/s]"
     ]
    },
    {
     "name": "stdout",
     "output_type": "stream",
     "text": [
      "Initialised with 96 image(s) found.\n",
      "Output directory set to BarkVN-50/BarkVN-50_mendeley/Lagerstroemia speciosa/output."
     ]
    },
    {
     "name": "stderr",
     "output_type": "stream",
     "text": [
      "\n",
      "Processing:   0%|                                                                          | 0/96 [00:00<?, ? Images/s]\u001b[A\n",
      "                                                                                                                       \u001b[A"
     ]
    },
    {
     "name": "stdout",
     "output_type": "stream",
     "text": [
      "96 ground truth image(s) found.\n"
     ]
    },
    {
     "name": "stderr",
     "output_type": "stream",
     "text": [
      "\n",
      "Executing Pipeline:   0%|                                                                 | 0/35 [00:00<?, ? Samples/s]\u001b[A\n",
      "Processing <PIL.Image.Image image mode=RGB size=303x404 at 0x215C66BD790>:   0%|          | 0/35 [00:00<?, ? Samples/s]\u001b[A\n",
      "Processing <PIL.Image.Image image mode=RGB size=303x404 at 0x215C66BD790>:   3%|  | 1/35 [00:00<00:03,  8.57 Samples/s]\u001b[A\n",
      "Processing <PIL.Image.Image image mode=RGB size=303x404 at 0x215C66BD9D0>:   3%|  | 1/35 [00:00<00:03,  8.57 Samples/s]\u001b[A\n",
      "Processing <PIL.Image.Image image mode=RGB size=303x404 at 0x215C6671CA0>:   6%|  | 2/35 [00:00<00:03,  8.57 Samples/s]\u001b[A\n",
      "Processing <PIL.Image.Image image mode=RGB size=303x404 at 0x215C6671190>:   9%|▏ | 3/35 [00:00<00:03,  8.57 Samples/s]\u001b[A\n",
      "Processing <PIL.Image.Image image mode=RGB size=303x404 at 0x215C66BDE20>:  11%|▏ | 4/35 [00:00<00:03,  8.57 Samples/s]\u001b[A\n",
      "Processing <PIL.Image.Image image mode=RGB size=303x404 at 0x215C66EBE80>:  14%|▎ | 5/35 [00:00<00:03,  8.57 Samples/s]\u001b[A\n",
      "Processing <PIL.Image.Image image mode=RGB size=303x404 at 0x215C66E2A30>:  17%|▎ | 6/35 [00:00<00:03,  8.57 Samples/s]\u001b[A\n",
      "Processing <PIL.Image.Image image mode=RGB size=303x404 at 0x215C66C8D60>:  20%|▍ | 7/35 [00:00<00:03,  8.57 Samples/s]\u001b[A\n",
      "Processing <PIL.Image.Image image mode=RGB size=303x404 at 0x215C66F0E20>:  23%|▍ | 8/35 [00:00<00:03,  8.57 Samples/s]\u001b[A\n",
      "Processing <PIL.Image.Image image mode=RGB size=303x404 at 0x215C66ADD00>:  26%|▌ | 9/35 [00:00<00:03,  8.57 Samples/s]\u001b[A\n",
      "Processing <PIL.Image.Image image mode=RGB size=303x404 at 0x215C66BDAF0>:  29%|▎| 10/35 [00:00<00:02,  8.57 Samples/s]\u001b[A\n",
      "Processing <PIL.Image.Image image mode=RGB size=303x404 at 0x215C66AD910>:  31%|▎| 11/35 [00:00<00:02,  8.57 Samples/s]\u001b[A\n",
      "Processing <PIL.Image.Image image mode=RGB size=303x404 at 0x215C6671CA0>:  34%|▎| 12/35 [00:00<00:02,  8.57 Samples/s]\u001b[A\n",
      "Processing <PIL.Image.Image image mode=RGB size=303x404 at 0x215C6671CA0>:  37%|▎| 13/35 [00:00<00:00, 64.02 Samples/s]\u001b[A\n",
      "Processing <PIL.Image.Image image mode=RGB size=303x404 at 0x215C66E2370>:  37%|▎| 13/35 [00:00<00:00, 64.02 Samples/s]\u001b[A\n",
      "Processing <PIL.Image.Image image mode=RGB size=303x404 at 0x215C66C8F10>:  40%|▍| 14/35 [00:00<00:00, 64.02 Samples/s]\u001b[A\n",
      "Processing <PIL.Image.Image image mode=RGB size=303x404 at 0x215C66F0F70>:  43%|▍| 15/35 [00:00<00:00, 64.02 Samples/s]\u001b[A\n",
      "Processing <PIL.Image.Image image mode=RGB size=303x404 at 0x215C66D6E50>:  46%|▍| 16/35 [00:00<00:00, 64.02 Samples/s]\u001b[A\n",
      "Processing <PIL.Image.Image image mode=RGB size=303x404 at 0x215C66C8BB0>:  49%|▍| 17/35 [00:00<00:00, 64.02 Samples/s]\u001b[A\n",
      "Processing <PIL.Image.Image image mode=RGB size=303x404 at 0x215C66ADBB0>:  51%|▌| 18/35 [00:00<00:00, 64.02 Samples/s]\u001b[A\n",
      "Processing <PIL.Image.Image image mode=RGB size=303x404 at 0x215C66C8C10>:  54%|▌| 19/35 [00:00<00:00, 64.02 Samples/s]\u001b[A\n",
      "Processing <PIL.Image.Image image mode=RGB size=303x404 at 0x215C66F02B0>:  57%|▌| 20/35 [00:00<00:00, 64.02 Samples/s]\u001b[A\n",
      "Processing <PIL.Image.Image image mode=RGB size=303x404 at 0x215C66C8FD0>:  60%|▌| 21/35 [00:00<00:00, 64.02 Samples/s]\u001b[A\n",
      "Processing <PIL.Image.Image image mode=RGB size=303x404 at 0x215C66AD460>:  63%|▋| 22/35 [00:00<00:00, 64.02 Samples/s]\u001b[A\n",
      "Processing <PIL.Image.Image image mode=RGB size=303x404 at 0x215C66EB880>:  66%|▋| 23/35 [00:00<00:00, 64.02 Samples/s]\u001b[A\n",
      "Processing <PIL.Image.Image image mode=RGB size=303x404 at 0x215C66ADE80>:  69%|▋| 24/35 [00:00<00:00, 64.02 Samples/s]\u001b[A\n",
      "Processing <PIL.Image.Image image mode=RGB size=303x404 at 0x215C66ADB20>:  71%|▋| 25/35 [00:00<00:00, 64.02 Samples/s]\u001b[A\n",
      "Processing <PIL.Image.Image image mode=RGB size=303x404 at 0x215C66E2A30>:  74%|▋| 26/35 [00:00<00:00, 64.02 Samples/s]\u001b[A\n",
      "Processing <PIL.Image.Image image mode=RGB size=303x404 at 0x215C66AD520>:  77%|▊| 27/35 [00:00<00:00, 64.02 Samples/s]\u001b[A\n",
      "Processing <PIL.Image.Image image mode=RGB size=303x404 at 0x215C66AD5E0>:  80%|▊| 28/35 [00:00<00:00, 64.02 Samples/s]\u001b[A\n",
      "Processing <PIL.Image.Image image mode=RGB size=303x404 at 0x215C66713A0>:  83%|▊| 29/35 [00:00<00:00, 64.02 Samples/s]\u001b[A\n",
      "Processing <PIL.Image.Image image mode=RGB size=303x404 at 0x215C6671670>:  86%|▊| 30/35 [00:00<00:00, 64.02 Samples/s]\u001b[A\n",
      "Processing <PIL.Image.Image image mode=RGB size=303x404 at 0x215C66C8CD0>:  89%|▉| 31/35 [00:00<00:00, 64.02 Samples/s]\u001b[A\n",
      "Processing <PIL.Image.Image image mode=RGB size=303x404 at 0x215C66C8CD0>:  91%|▉| 32/35 [00:00<00:00, 116.41 Samples/s\u001b[A\n",
      "Processing <PIL.Image.Image image mode=RGB size=303x404 at 0x215C66E2B20>:  91%|▉| 32/35 [00:00<00:00, 116.41 Samples/s\u001b[A\n",
      "Processing <PIL.Image.Image image mode=RGB size=303x404 at 0x215C6671C40>:  94%|▉| 33/35 [00:00<00:00, 116.41 Samples/s\u001b[A\n",
      "Processing <PIL.Image.Image image mode=RGB size=303x404 at 0x215C66C8880>: 100%|█| 35/35 [00:00<00:00, 91.63 Samples/s]\u001b[A\n",
      " 58%|███████████████████████████████████████████████▌                                  | 29/50 [00:33<00:19,  1.06it/s]"
     ]
    },
    {
     "name": "stdout",
     "output_type": "stream",
     "text": [
      "Initialised with 92 image(s) found.\n",
      "Output directory set to BarkVN-50/BarkVN-50_mendeley/Magnolia alba/output."
     ]
    },
    {
     "name": "stderr",
     "output_type": "stream",
     "text": [
      "\n",
      "Processing:   0%|                                                                          | 0/92 [00:00<?, ? Images/s]\u001b[A\n",
      "                                                                                                                       \u001b[A"
     ]
    },
    {
     "name": "stdout",
     "output_type": "stream",
     "text": [
      "92 ground truth image(s) found.\n"
     ]
    },
    {
     "name": "stderr",
     "output_type": "stream",
     "text": [
      "\n",
      "Executing Pipeline:   0%|                                                                 | 0/38 [00:00<?, ? Samples/s]\u001b[A\n",
      "Processing <PIL.Image.Image image mode=RGB size=303x404 at 0x215C66E21C0>:   0%|          | 0/38 [00:00<?, ? Samples/s]\u001b[A\n",
      "Processing <PIL.Image.Image image mode=RGB size=303x404 at 0x215C66E21C0>:   3%|  | 1/38 [00:00<00:08,  4.44 Samples/s]\u001b[A\n",
      "Processing <PIL.Image.Image image mode=RGB size=303x404 at 0x215C66D6DC0>:   3%|  | 1/38 [00:00<00:08,  4.44 Samples/s]\u001b[A\n",
      "Processing <PIL.Image.Image image mode=RGB size=303x404 at 0x215C66AD220>:   5%|  | 2/38 [00:00<00:08,  4.44 Samples/s]\u001b[A\n",
      "Processing <PIL.Image.Image image mode=RGB size=303x404 at 0x215C66EBB50>:   8%|▏ | 3/38 [00:00<00:07,  4.44 Samples/s]\u001b[A\n",
      "Processing <PIL.Image.Image image mode=RGB size=303x404 at 0x215C66716D0>:  11%|▏ | 4/38 [00:00<00:07,  4.44 Samples/s]\u001b[A\n",
      "Processing <PIL.Image.Image image mode=RGB size=303x404 at 0x215C66D6340>:  13%|▎ | 5/38 [00:00<00:07,  4.44 Samples/s]\u001b[A\n",
      "Processing <PIL.Image.Image image mode=RGB size=303x404 at 0x215C66E26A0>:  16%|▎ | 6/38 [00:00<00:07,  4.44 Samples/s]\u001b[A\n",
      "Processing <PIL.Image.Image image mode=RGB size=303x404 at 0x215C66EB460>:  18%|▎ | 7/38 [00:00<00:06,  4.44 Samples/s]\u001b[A\n",
      "Processing <PIL.Image.Image image mode=RGB size=303x404 at 0x215C66F03D0>:  21%|▍ | 8/38 [00:00<00:06,  4.44 Samples/s]\u001b[A\n",
      "Processing <PIL.Image.Image image mode=RGB size=303x404 at 0x215C66EB250>:  24%|▍ | 9/38 [00:00<00:06,  4.44 Samples/s]\u001b[A\n",
      "Processing <PIL.Image.Image image mode=RGB size=303x404 at 0x215C668A940>:  26%|▎| 10/38 [00:00<00:06,  4.44 Samples/s]\u001b[A\n",
      "Processing <PIL.Image.Image image mode=RGB size=303x404 at 0x215C668A940>:  29%|▎| 11/38 [00:00<00:00, 40.00 Samples/s]\u001b[A\n",
      "Processing <PIL.Image.Image image mode=RGB size=303x404 at 0x215C66BD430>:  29%|▎| 11/38 [00:00<00:00, 40.00 Samples/s]\u001b[A\n",
      "Processing <PIL.Image.Image image mode=RGB size=303x404 at 0x215C6671B80>:  32%|▎| 12/38 [00:00<00:00, 40.00 Samples/s]\u001b[A\n",
      "Processing <PIL.Image.Image image mode=RGB size=303x404 at 0x215C66D6C10>:  34%|▎| 13/38 [00:00<00:00, 40.00 Samples/s]\u001b[A\n",
      "Processing <PIL.Image.Image image mode=RGB size=303x404 at 0x215C6671CA0>:  37%|▎| 14/38 [00:00<00:00, 40.00 Samples/s]\u001b[A\n",
      "Processing <PIL.Image.Image image mode=RGB size=303x404 at 0x215C66AD220>:  39%|▍| 15/38 [00:00<00:00, 40.00 Samples/s]\u001b[A\n",
      "Processing <PIL.Image.Image image mode=RGB size=303x404 at 0x215C66EBE80>:  42%|▍| 16/38 [00:00<00:00, 40.00 Samples/s]\u001b[A\n",
      "Processing <PIL.Image.Image image mode=RGB size=303x404 at 0x215C66EBE80>:  45%|▍| 17/38 [00:00<00:00, 31.18 Samples/s]\u001b[A\n",
      "Processing <PIL.Image.Image image mode=RGB size=303x404 at 0x215C66713A0>:  45%|▍| 17/38 [00:00<00:00, 31.18 Samples/s]\u001b[A\n",
      "Processing <PIL.Image.Image image mode=RGB size=303x404 at 0x215C6671B80>:  47%|▍| 18/38 [00:00<00:00, 31.18 Samples/s]\u001b[A\n",
      "Processing <PIL.Image.Image image mode=RGB size=303x404 at 0x215C668AFA0>:  50%|▌| 19/38 [00:00<00:00, 31.18 Samples/s]\u001b[A\n",
      "Processing <PIL.Image.Image image mode=RGB size=303x404 at 0x215C66D61F0>:  53%|▌| 20/38 [00:00<00:00, 31.18 Samples/s]\u001b[A\n",
      "Processing <PIL.Image.Image image mode=RGB size=303x404 at 0x215C66D6D90>:  55%|▌| 21/38 [00:00<00:00, 31.18 Samples/s]\u001b[A\n",
      "Processing <PIL.Image.Image image mode=RGB size=303x404 at 0x215C66D6FD0>:  58%|▌| 22/38 [00:00<00:00, 31.18 Samples/s]\u001b[A\n",
      "Processing <PIL.Image.Image image mode=RGB size=303x404 at 0x215C66EBB20>:  61%|▌| 23/38 [00:00<00:00, 31.18 Samples/s]\u001b[A\n",
      "Processing <PIL.Image.Image image mode=RGB size=303x404 at 0x215C66EBB20>:  63%|▋| 24/38 [00:00<00:00, 38.56 Samples/s]\u001b[A\n",
      "Processing <PIL.Image.Image image mode=RGB size=303x404 at 0x215C66BD7C0>:  63%|▋| 24/38 [00:00<00:00, 38.56 Samples/s]\u001b[A\n",
      "Processing <PIL.Image.Image image mode=RGB size=303x404 at 0x215C6671E80>:  66%|▋| 25/38 [00:00<00:00, 38.56 Samples/s]\u001b[A\n",
      "Processing <PIL.Image.Image image mode=RGB size=303x404 at 0x215C66EB460>:  68%|▋| 26/38 [00:00<00:00, 38.56 Samples/s]\u001b[A\n",
      "Processing <PIL.Image.Image image mode=RGB size=303x404 at 0x215C66EBC10>:  71%|▋| 27/38 [00:00<00:00, 38.56 Samples/s]\u001b[A\n",
      "Processing <PIL.Image.Image image mode=RGB size=303x404 at 0x215C66E2730>:  74%|▋| 28/38 [00:00<00:00, 38.56 Samples/s]\u001b[A\n",
      "Processing <PIL.Image.Image image mode=RGB size=303x404 at 0x215C66E2730>:  76%|▊| 29/38 [00:00<00:00, 39.48 Samples/s]\u001b[A\n",
      "Processing <PIL.Image.Image image mode=RGB size=303x404 at 0x215C66E2250>:  76%|▊| 29/38 [00:00<00:00, 39.48 Samples/s]\u001b[A\n",
      "Processing <PIL.Image.Image image mode=RGB size=303x404 at 0x215C66E2040>:  79%|▊| 30/38 [00:00<00:00, 39.48 Samples/s]\u001b[A\n",
      "Processing <PIL.Image.Image image mode=RGB size=303x404 at 0x215C66EB880>:  82%|▊| 31/38 [00:00<00:00, 39.48 Samples/s]\u001b[A\n",
      "Processing <PIL.Image.Image image mode=RGB size=303x404 at 0x215C6671B50>:  84%|▊| 32/38 [00:00<00:00, 39.48 Samples/s]\u001b[A\n",
      "Processing <PIL.Image.Image image mode=RGB size=303x404 at 0x215C66BD130>:  87%|▊| 33/38 [00:00<00:00, 39.48 Samples/s]\u001b[A\n",
      "Processing <PIL.Image.Image image mode=RGB size=303x404 at 0x215C66EBB50>:  89%|▉| 34/38 [00:00<00:00, 39.48 Samples/s]\u001b[A\n",
      "Processing <PIL.Image.Image image mode=RGB size=303x404 at 0x215C6671610>:  92%|▉| 35/38 [00:00<00:00, 39.48 Samples/s]\u001b[A\n",
      "Processing <PIL.Image.Image image mode=RGB size=303x404 at 0x215C6671190>:  95%|▉| 36/38 [00:00<00:00, 39.48 Samples/s]\u001b[A\n",
      "Processing <PIL.Image.Image image mode=RGB size=303x404 at 0x215C6671CA0>: 100%|█| 38/38 [00:00<00:00, 41.06 Samples/s]\u001b[A\n",
      " 60%|█████████████████████████████████████████████████▏                                | 30/50 [00:35<00:23,  1.19s/it]"
     ]
    },
    {
     "name": "stdout",
     "output_type": "stream",
     "text": [
      "Initialised with 92 image(s) found.\n",
      "Output directory set to BarkVN-50/BarkVN-50_mendeley/Mangifera/output."
     ]
    },
    {
     "name": "stderr",
     "output_type": "stream",
     "text": [
      "\n",
      "Processing:   0%|                                                                          | 0/92 [00:00<?, ? Images/s]\u001b[A\n",
      "                                                                                                                       \u001b[A"
     ]
    },
    {
     "name": "stdout",
     "output_type": "stream",
     "text": [
      "92 ground truth image(s) found.\n"
     ]
    },
    {
     "name": "stderr",
     "output_type": "stream",
     "text": [
      "\n",
      "Executing Pipeline:   0%|                                                                 | 0/38 [00:00<?, ? Samples/s]\u001b[A\n",
      "Processing <PIL.Image.Image image mode=RGB size=303x404 at 0x215C66BDAF0>:   0%|          | 0/38 [00:00<?, ? Samples/s]\u001b[A\n",
      "Processing <PIL.Image.Image image mode=RGB size=303x404 at 0x215C66BDAF0>:   3%|  | 1/38 [00:00<00:10,  3.39 Samples/s]\u001b[A\n",
      "Processing <PIL.Image.Image image mode=RGB size=303x404 at 0x215C66D6760>:   3%|  | 1/38 [00:00<00:10,  3.39 Samples/s]\u001b[A\n",
      "Processing <PIL.Image.Image image mode=RGB size=303x404 at 0x215C66EB340>:   5%|  | 2/38 [00:00<00:10,  3.39 Samples/s]\u001b[A\n",
      "Processing <PIL.Image.Image image mode=RGB size=303x404 at 0x215C66BD8B0>:   8%|▏ | 3/38 [00:00<00:10,  3.39 Samples/s]\u001b[A\n",
      "Processing <PIL.Image.Image image mode=RGB size=303x404 at 0x215C668ADF0>:  11%|▏ | 4/38 [00:00<00:10,  3.39 Samples/s]\u001b[A\n",
      "Processing <PIL.Image.Image image mode=RGB size=303x404 at 0x215C66EB550>:  13%|▎ | 5/38 [00:00<00:09,  3.39 Samples/s]\u001b[A\n",
      "Processing <PIL.Image.Image image mode=RGB size=303x404 at 0x215C66D6610>:  16%|▎ | 6/38 [00:00<00:09,  3.39 Samples/s]\u001b[A\n",
      "Processing <PIL.Image.Image image mode=RGB size=303x404 at 0x215C66D6DC0>:  18%|▎ | 7/38 [00:00<00:09,  3.39 Samples/s]\u001b[A\n",
      "Processing <PIL.Image.Image image mode=RGB size=303x404 at 0x215C66D6490>:  21%|▍ | 8/38 [00:00<00:08,  3.39 Samples/s]\u001b[A\n",
      "Processing <PIL.Image.Image image mode=RGB size=303x404 at 0x215C668AD60>:  24%|▍ | 9/38 [00:00<00:08,  3.39 Samples/s]\u001b[A\n",
      "Processing <PIL.Image.Image image mode=RGB size=303x404 at 0x215C66C83D0>:  26%|▎| 10/38 [00:00<00:08,  3.39 Samples/s]\u001b[A\n",
      "Processing <PIL.Image.Image image mode=RGB size=303x404 at 0x215C668A130>:  29%|▎| 11/38 [00:00<00:07,  3.39 Samples/s]\u001b[A\n",
      "Processing <PIL.Image.Image image mode=RGB size=303x404 at 0x215C66AD250>:  32%|▎| 12/38 [00:00<00:07,  3.39 Samples/s]\u001b[A\n",
      "Processing <PIL.Image.Image image mode=RGB size=303x404 at 0x215C66E2A00>:  34%|▎| 13/38 [00:00<00:07,  3.39 Samples/s]\u001b[A\n",
      "Processing <PIL.Image.Image image mode=RGB size=303x404 at 0x215C66D6100>:  37%|▎| 14/38 [00:00<00:07,  3.39 Samples/s]\u001b[A\n",
      "Processing <PIL.Image.Image image mode=RGB size=303x404 at 0x215C66D6100>:  39%|▍| 15/38 [00:00<00:00, 39.71 Samples/s]\u001b[A\n",
      "Processing <PIL.Image.Image image mode=RGB size=303x404 at 0x215C66D6670>:  39%|▍| 15/38 [00:00<00:00, 39.71 Samples/s]\u001b[A\n",
      "Processing <PIL.Image.Image image mode=RGB size=303x404 at 0x215C66D6730>:  42%|▍| 16/38 [00:00<00:00, 39.71 Samples/s]\u001b[A\n",
      "Processing <PIL.Image.Image image mode=RGB size=303x404 at 0x215C66D6EB0>:  45%|▍| 17/38 [00:00<00:00, 39.71 Samples/s]\u001b[A\n",
      "Processing <PIL.Image.Image image mode=RGB size=303x404 at 0x215C668AEE0>:  47%|▍| 18/38 [00:00<00:00, 39.71 Samples/s]\u001b[A\n",
      "Processing <PIL.Image.Image image mode=RGB size=303x404 at 0x215C66E2A30>:  50%|▌| 19/38 [00:00<00:00, 39.71 Samples/s]\u001b[A\n",
      "Processing <PIL.Image.Image image mode=RGB size=303x404 at 0x215C66D6EB0>:  53%|▌| 20/38 [00:00<00:00, 39.71 Samples/s]\u001b[A\n",
      "Processing <PIL.Image.Image image mode=RGB size=303x404 at 0x215C66D6EB0>:  55%|▌| 21/38 [00:00<00:00, 40.75 Samples/s]\u001b[A\n",
      "Processing <PIL.Image.Image image mode=RGB size=303x404 at 0x215C66EB730>:  55%|▌| 21/38 [00:00<00:00, 40.75 Samples/s]\u001b[A\n",
      "Processing <PIL.Image.Image image mode=RGB size=303x404 at 0x215C66E24C0>:  58%|▌| 22/38 [00:00<00:00, 40.75 Samples/s]\u001b[A\n",
      "Processing <PIL.Image.Image image mode=RGB size=303x404 at 0x215C66C8880>:  61%|▌| 23/38 [00:00<00:00, 40.75 Samples/s]\u001b[A\n",
      "Processing <PIL.Image.Image image mode=RGB size=303x404 at 0x215C66D6580>:  63%|▋| 24/38 [00:00<00:00, 40.75 Samples/s]\u001b[A\n",
      "Processing <PIL.Image.Image image mode=RGB size=303x404 at 0x215C66C8D90>:  66%|▋| 25/38 [00:00<00:00, 40.75 Samples/s]\u001b[A\n",
      "Processing <PIL.Image.Image image mode=RGB size=303x404 at 0x215C66D68E0>:  68%|▋| 26/38 [00:00<00:00, 40.75 Samples/s]\u001b[A\n",
      "Processing <PIL.Image.Image image mode=RGB size=303x404 at 0x215C66F0D00>:  71%|▋| 27/38 [00:00<00:00, 40.75 Samples/s]\u001b[A\n",
      "Processing <PIL.Image.Image image mode=RGB size=303x404 at 0x215C66F0D00>:  74%|▋| 28/38 [00:00<00:00, 45.16 Samples/s]\u001b[A\n",
      "Processing <PIL.Image.Image image mode=RGB size=303x404 at 0x215C66D6AF0>:  74%|▋| 28/38 [00:00<00:00, 45.16 Samples/s]\u001b[A\n",
      "Processing <PIL.Image.Image image mode=RGB size=303x404 at 0x215C66D6820>:  76%|▊| 29/38 [00:00<00:00, 45.16 Samples/s]\u001b[A\n",
      "Processing <PIL.Image.Image image mode=RGB size=303x404 at 0x215C668ABB0>:  79%|▊| 30/38 [00:00<00:00, 45.16 Samples/s]\u001b[A\n",
      "Processing <PIL.Image.Image image mode=RGB size=303x404 at 0x215C66C8CD0>:  82%|▊| 31/38 [00:00<00:00, 45.16 Samples/s]\u001b[A\n",
      "Processing <PIL.Image.Image image mode=RGB size=303x404 at 0x215C66D6580>:  84%|▊| 32/38 [00:00<00:00, 45.16 Samples/s]\u001b[A\n",
      "Processing <PIL.Image.Image image mode=RGB size=303x404 at 0x215C66D6F40>:  87%|▊| 33/38 [00:00<00:00, 45.16 Samples/s]\u001b[A\n",
      "Processing <PIL.Image.Image image mode=RGB size=303x404 at 0x215C66C8A60>:  89%|▉| 34/38 [00:00<00:00, 45.16 Samples/s]\u001b[A\n",
      "Processing <PIL.Image.Image image mode=RGB size=303x404 at 0x215C66C8A60>:  92%|▉| 35/38 [00:00<00:00, 48.74 Samples/s]\u001b[A\n",
      "Processing <PIL.Image.Image image mode=RGB size=303x404 at 0x215C66C8700>:  92%|▉| 35/38 [00:00<00:00, 48.74 Samples/s]\u001b[A\n",
      "Processing <PIL.Image.Image image mode=RGB size=303x404 at 0x215C66D6DC0>:  95%|▉| 36/38 [00:00<00:00, 48.74 Samples/s]\u001b[A\n",
      "Processing <PIL.Image.Image image mode=RGB size=303x404 at 0x215C66C8340>: 100%|█| 38/38 [00:00<00:00, 43.45 Samples/s]\u001b[A\n",
      " 62%|██████████████████████████████████████████████████▊                               | 31/50 [00:37<00:25,  1.37s/it]"
     ]
    },
    {
     "name": "stdout",
     "output_type": "stream",
     "text": [
      "Initialised with 107 image(s) found.\n",
      "Output directory set to BarkVN-50/BarkVN-50_mendeley/Melaleuca/output."
     ]
    },
    {
     "name": "stderr",
     "output_type": "stream",
     "text": [
      "\n",
      "Processing:   0%|                                                                         | 0/107 [00:00<?, ? Images/s]\u001b[A\n",
      "                                                                                                                       \u001b[A"
     ]
    },
    {
     "name": "stdout",
     "output_type": "stream",
     "text": [
      "107 ground truth image(s) found.\n"
     ]
    },
    {
     "name": "stderr",
     "output_type": "stream",
     "text": [
      "\n",
      "Executing Pipeline:   0%|                                                                 | 0/28 [00:00<?, ? Samples/s]\u001b[A\n",
      "Processing <PIL.Image.Image image mode=RGB size=303x404 at 0x215C66F08E0>:   0%|          | 0/28 [00:00<?, ? Samples/s]\u001b[A\n",
      "Processing <PIL.Image.Image image mode=RGB size=303x404 at 0x215C668AB20>:   4%|  | 1/28 [00:00<00:02, 12.08 Samples/s]\u001b[A\n",
      "Processing <PIL.Image.Image image mode=RGB size=303x404 at 0x215C668AD60>:   7%|▏ | 2/28 [00:00<00:01, 23.32 Samples/s]\u001b[A\n",
      "Processing <PIL.Image.Image image mode=RGB size=303x404 at 0x215C66E2A90>:  11%|▏ | 3/28 [00:00<00:01, 22.62 Samples/s]\u001b[A\n",
      "Processing <PIL.Image.Image image mode=RGB size=303x404 at 0x215C66E2A90>:  14%|▎ | 4/28 [00:00<00:00, 29.28 Samples/s]\u001b[A\n",
      "Processing <PIL.Image.Image image mode=RGB size=303x404 at 0x215C66EBC10>:  14%|▎ | 4/28 [00:00<00:00, 29.28 Samples/s]\u001b[A\n",
      "Processing <PIL.Image.Image image mode=RGB size=303x404 at 0x215C668AD30>:  18%|▎ | 5/28 [00:00<00:00, 29.28 Samples/s]\u001b[A\n",
      "Processing <PIL.Image.Image image mode=RGB size=303x404 at 0x215C66EB970>:  21%|▍ | 6/28 [00:00<00:00, 29.28 Samples/s]\u001b[A\n",
      "Processing <PIL.Image.Image image mode=RGB size=303x404 at 0x215C66EB220>:  25%|▌ | 7/28 [00:00<00:00, 29.28 Samples/s]\u001b[A\n",
      "Processing <PIL.Image.Image image mode=RGB size=303x404 at 0x215C66E2C40>:  29%|▌ | 8/28 [00:00<00:00, 29.28 Samples/s]\u001b[A\n",
      "Processing <PIL.Image.Image image mode=RGB size=303x404 at 0x215C66EBB50>:  32%|▋ | 9/28 [00:00<00:00, 29.28 Samples/s]\u001b[A\n",
      "Processing <PIL.Image.Image image mode=RGB size=303x404 at 0x215C66F0E20>:  36%|▎| 10/28 [00:00<00:00, 29.28 Samples/s]\u001b[A\n",
      "Processing <PIL.Image.Image image mode=RGB size=303x404 at 0x215C66F0D00>:  39%|▍| 11/28 [00:00<00:00, 29.28 Samples/s]\u001b[A\n",
      "Processing <PIL.Image.Image image mode=RGB size=303x404 at 0x215C66E23D0>:  43%|▍| 12/28 [00:00<00:00, 29.28 Samples/s]\u001b[A\n",
      "Processing <PIL.Image.Image image mode=RGB size=303x404 at 0x215C66E2FD0>:  46%|▍| 13/28 [00:00<00:00, 29.28 Samples/s]\u001b[A\n",
      "Processing <PIL.Image.Image image mode=RGB size=303x404 at 0x215C66E2E80>:  50%|▌| 14/28 [00:00<00:00, 29.28 Samples/s]\u001b[A\n",
      "Processing <PIL.Image.Image image mode=RGB size=303x404 at 0x215C66E2760>:  54%|▌| 15/28 [00:00<00:00, 29.28 Samples/s]\u001b[A\n",
      "Processing <PIL.Image.Image image mode=RGB size=303x404 at 0x215C668A9D0>:  57%|▌| 16/28 [00:00<00:00, 29.28 Samples/s]\u001b[A\n",
      "Processing <PIL.Image.Image image mode=RGB size=303x404 at 0x215C66E2B50>:  61%|▌| 17/28 [00:00<00:00, 29.28 Samples/s]\u001b[A\n",
      "Processing <PIL.Image.Image image mode=RGB size=303x404 at 0x215C66E2B50>:  64%|▋| 18/28 [00:00<00:00, 74.57 Samples/s]\u001b[A\n",
      "Processing <PIL.Image.Image image mode=RGB size=303x404 at 0x215C66E2850>:  64%|▋| 18/28 [00:00<00:00, 74.57 Samples/s]\u001b[A\n",
      "Processing <PIL.Image.Image image mode=RGB size=303x404 at 0x215C6671FD0>:  68%|▋| 19/28 [00:00<00:00, 74.57 Samples/s]\u001b[A\n",
      "Processing <PIL.Image.Image image mode=RGB size=303x404 at 0x215C668AA60>:  71%|▋| 20/28 [00:00<00:00, 74.57 Samples/s]\u001b[A\n",
      "Processing <PIL.Image.Image image mode=RGB size=303x404 at 0x215C66E20A0>:  75%|▊| 21/28 [00:00<00:00, 74.57 Samples/s]\u001b[A\n",
      "Processing <PIL.Image.Image image mode=RGB size=303x404 at 0x215C66D6E50>:  79%|▊| 22/28 [00:00<00:00, 74.57 Samples/s]\u001b[A\n",
      "Processing <PIL.Image.Image image mode=RGB size=303x404 at 0x215C66D6490>:  82%|▊| 23/28 [00:00<00:00, 74.57 Samples/s]\u001b[A\n",
      "Processing <PIL.Image.Image image mode=RGB size=303x404 at 0x215C6671130>:  86%|▊| 24/28 [00:00<00:00, 74.57 Samples/s]\u001b[A\n",
      "Processing <PIL.Image.Image image mode=RGB size=303x404 at 0x215C66E2FD0>:  89%|▉| 25/28 [00:00<00:00, 74.57 Samples/s]\u001b[A\n",
      "Processing <PIL.Image.Image image mode=RGB size=303x404 at 0x215C6671FD0>:  93%|▉| 26/28 [00:00<00:00, 74.57 Samples/s]\u001b[A\n",
      "Processing <PIL.Image.Image image mode=RGB size=303x404 at 0x215C66E2730>: 100%|█| 28/28 [00:00<00:00, 86.38 Samples/s]\u001b[A\n",
      " 64%|████████████████████████████████████████████████████▍                             | 32/50 [00:38<00:24,  1.37s/it]"
     ]
    },
    {
     "name": "stdout",
     "output_type": "stream",
     "text": [
      "Initialised with 103 image(s) found.\n",
      "Output directory set to BarkVN-50/BarkVN-50_mendeley/Melia azedarach/output."
     ]
    },
    {
     "name": "stderr",
     "output_type": "stream",
     "text": [
      "\n",
      "Processing:   0%|                                                                         | 0/103 [00:00<?, ? Images/s]\u001b[A\n",
      "                                                                                                                       \u001b[A"
     ]
    },
    {
     "name": "stdout",
     "output_type": "stream",
     "text": [
      "103 ground truth image(s) found.\n"
     ]
    },
    {
     "name": "stderr",
     "output_type": "stream",
     "text": [
      "\n",
      "Executing Pipeline:   0%|                                                                 | 0/30 [00:00<?, ? Samples/s]\u001b[A\n",
      "Processing <PIL.Image.Image image mode=RGB size=303x404 at 0x215C66D6160>:   0%|          | 0/30 [00:00<?, ? Samples/s]\u001b[A\n",
      "Processing <PIL.Image.Image image mode=RGB size=303x404 at 0x215C66D6160>:   3%|  | 1/30 [00:00<00:03,  8.15 Samples/s]\u001b[A\n",
      "Processing <PIL.Image.Image image mode=RGB size=303x404 at 0x215C66D6220>:   3%|  | 1/30 [00:00<00:03,  8.15 Samples/s]\u001b[A\n",
      "Processing <PIL.Image.Image image mode=RGB size=303x404 at 0x215C66D6C70>:   7%|▏ | 2/30 [00:00<00:03,  8.15 Samples/s]\u001b[A\n",
      "Processing <PIL.Image.Image image mode=RGB size=303x404 at 0x215C66E21C0>:  10%|▏ | 3/30 [00:00<00:03,  8.15 Samples/s]\u001b[A\n",
      "Processing <PIL.Image.Image image mode=RGB size=303x404 at 0x215C66E2A60>:  13%|▎ | 4/30 [00:00<00:03,  8.15 Samples/s]\u001b[A\n",
      "Processing <PIL.Image.Image image mode=RGB size=303x404 at 0x215C66F0EB0>:  17%|▎ | 5/30 [00:00<00:03,  8.15 Samples/s]\u001b[A\n",
      "Processing <PIL.Image.Image image mode=RGB size=303x404 at 0x215C66F0EB0>:  20%|▍ | 6/30 [00:00<00:00, 29.29 Samples/s]\u001b[A\n",
      "Processing <PIL.Image.Image image mode=RGB size=303x404 at 0x215C66D6640>:  20%|▍ | 6/30 [00:00<00:00, 29.29 Samples/s]\u001b[A\n",
      "Processing <PIL.Image.Image image mode=RGB size=303x404 at 0x215C66EB310>:  23%|▍ | 7/30 [00:00<00:00, 29.29 Samples/s]\u001b[A\n",
      "Processing <PIL.Image.Image image mode=RGB size=303x404 at 0x215C66EBA90>:  27%|▌ | 8/30 [00:00<00:00, 29.29 Samples/s]\u001b[A\n",
      "Processing <PIL.Image.Image image mode=RGB size=303x404 at 0x215C66F0640>:  30%|▌ | 9/30 [00:00<00:00, 29.29 Samples/s]\u001b[A\n",
      "Processing <PIL.Image.Image image mode=RGB size=303x404 at 0x215C66EBD00>:  33%|▎| 10/30 [00:00<00:00, 29.29 Samples/s]\u001b[A\n",
      "Processing <PIL.Image.Image image mode=RGB size=303x404 at 0x215C66D69A0>:  37%|▎| 11/30 [00:00<00:00, 29.29 Samples/s]\u001b[A\n",
      "Processing <PIL.Image.Image image mode=RGB size=303x404 at 0x215C66BDE80>:  40%|▍| 12/30 [00:00<00:00, 29.29 Samples/s]\u001b[A\n",
      "Processing <PIL.Image.Image image mode=RGB size=303x404 at 0x215C66EBEB0>:  43%|▍| 13/30 [00:00<00:00, 29.29 Samples/s]\u001b[A\n",
      "Processing <PIL.Image.Image image mode=RGB size=303x404 at 0x215C66EBEB0>:  47%|▍| 14/30 [00:00<00:00, 45.79 Samples/s]\u001b[A\n",
      "Processing <PIL.Image.Image image mode=RGB size=303x404 at 0x215C66F0E80>:  47%|▍| 14/30 [00:00<00:00, 45.79 Samples/s]\u001b[A\n",
      "Processing <PIL.Image.Image image mode=RGB size=303x404 at 0x215C66E2250>:  50%|▌| 15/30 [00:00<00:00, 45.79 Samples/s]\u001b[A\n",
      "Processing <PIL.Image.Image image mode=RGB size=303x404 at 0x215C668AB20>:  53%|▌| 16/30 [00:00<00:00, 45.79 Samples/s]\u001b[A\n",
      "Processing <PIL.Image.Image image mode=RGB size=303x404 at 0x215C66C8FD0>:  57%|▌| 17/30 [00:00<00:00, 45.79 Samples/s]\u001b[A\n",
      "Processing <PIL.Image.Image image mode=RGB size=303x404 at 0x215C66AD0D0>:  60%|▌| 18/30 [00:00<00:00, 45.79 Samples/s]\u001b[A\n",
      "Processing <PIL.Image.Image image mode=RGB size=303x404 at 0x215C66AD0D0>:  63%|▋| 19/30 [00:00<00:00, 43.49 Samples/s]\u001b[A\n",
      "Processing <PIL.Image.Image image mode=RGB size=303x404 at 0x215C668AC40>:  63%|▋| 19/30 [00:00<00:00, 43.49 Samples/s]\u001b[A\n",
      "Processing <PIL.Image.Image image mode=RGB size=303x404 at 0x215C66D6340>:  67%|▋| 20/30 [00:00<00:00, 43.49 Samples/s]\u001b[A\n",
      "Processing <PIL.Image.Image image mode=RGB size=303x404 at 0x215C66D60A0>:  70%|▋| 21/30 [00:00<00:00, 43.49 Samples/s]\u001b[A\n",
      "Processing <PIL.Image.Image image mode=RGB size=303x404 at 0x215C66C8C10>:  73%|▋| 22/30 [00:00<00:00, 43.49 Samples/s]\u001b[A\n",
      "Processing <PIL.Image.Image image mode=RGB size=303x404 at 0x215C66D6E80>:  77%|▊| 23/30 [00:00<00:00, 43.49 Samples/s]\u001b[A\n",
      "Processing <PIL.Image.Image image mode=RGB size=303x404 at 0x215C66AD310>:  80%|▊| 24/30 [00:00<00:00, 43.49 Samples/s]\u001b[A\n",
      "Processing <PIL.Image.Image image mode=RGB size=303x404 at 0x215C66C8940>:  83%|▊| 25/30 [00:00<00:00, 43.49 Samples/s]\u001b[A\n",
      "Processing <PIL.Image.Image image mode=RGB size=303x404 at 0x215C66C8940>:  87%|▊| 26/30 [00:00<00:00, 48.84 Samples/s]\u001b[A\n",
      "Processing <PIL.Image.Image image mode=RGB size=303x404 at 0x215C66C8BB0>:  87%|▊| 26/30 [00:00<00:00, 48.84 Samples/s]\u001b[A\n",
      "Processing <PIL.Image.Image image mode=RGB size=303x404 at 0x215C66AD370>:  90%|▉| 27/30 [00:00<00:00, 48.84 Samples/s]\u001b[A\n",
      "Processing <PIL.Image.Image image mode=RGB size=303x404 at 0x215C66C8550>:  93%|▉| 28/30 [00:00<00:00, 48.84 Samples/s]\u001b[A\n",
      "Processing <PIL.Image.Image image mode=RGB size=303x404 at 0x215C66E2D60>: 100%|█| 30/30 [00:00<00:00, 47.07 Samples/s]\u001b[A\n",
      " 66%|██████████████████████████████████████████████████████                            | 33/50 [00:39<00:23,  1.38s/it]"
     ]
    },
    {
     "name": "stdout",
     "output_type": "stream",
     "text": [
      "Initialised with 132 image(s) found.\n",
      "Output directory set to BarkVN-50/BarkVN-50_mendeley/Musa/output."
     ]
    },
    {
     "name": "stderr",
     "output_type": "stream",
     "text": [
      "\n",
      "Processing:   0%|                                                                         | 0/132 [00:00<?, ? Images/s]\u001b[A\n",
      "                                                                                                                       \u001b[A"
     ]
    },
    {
     "name": "stdout",
     "output_type": "stream",
     "text": [
      "132 ground truth image(s) found.\n"
     ]
    },
    {
     "name": "stderr",
     "output_type": "stream",
     "text": [
      "\n",
      "Executing Pipeline:   0%|                                                                 | 0/11 [00:00<?, ? Samples/s]\u001b[A\n",
      "Processing <PIL.Image.Image image mode=RGB size=303x404 at 0x215C66E2D60>:   0%|          | 0/11 [00:00<?, ? Samples/s]\u001b[A\n",
      "Processing <PIL.Image.Image image mode=RGB size=303x404 at 0x215C66E2D60>:   9%|▏ | 1/11 [00:00<00:01,  5.66 Samples/s]\u001b[A\n",
      "Processing <PIL.Image.Image image mode=RGB size=303x404 at 0x215C66D66D0>:   9%|▏ | 1/11 [00:00<00:01,  5.66 Samples/s]\u001b[A\n",
      "Processing <PIL.Image.Image image mode=RGB size=303x404 at 0x215C66E2610>:  18%|▎ | 2/11 [00:00<00:01,  5.66 Samples/s]\u001b[A\n",
      "Processing <PIL.Image.Image image mode=RGB size=303x404 at 0x215C66E2400>:  27%|▌ | 3/11 [00:00<00:01,  5.66 Samples/s]\u001b[A\n",
      "Processing <PIL.Image.Image image mode=RGB size=303x404 at 0x215C66E24F0>:  36%|▋ | 4/11 [00:00<00:01,  5.66 Samples/s]\u001b[A\n",
      "Processing <PIL.Image.Image image mode=RGB size=303x404 at 0x215C668ABB0>:  45%|▉ | 5/11 [00:00<00:01,  5.66 Samples/s]\u001b[A\n",
      "Processing <PIL.Image.Image image mode=RGB size=303x404 at 0x215C66D60A0>:  55%|█ | 6/11 [00:00<00:00,  5.66 Samples/s]\u001b[A\n",
      "Processing <PIL.Image.Image image mode=RGB size=303x404 at 0x215C66D6EB0>:  64%|█▎| 7/11 [00:00<00:00,  5.66 Samples/s]\u001b[A\n",
      "Processing <PIL.Image.Image image mode=RGB size=303x404 at 0x215C66F0AF0>:  73%|█▍| 8/11 [00:00<00:00,  5.66 Samples/s]\u001b[A\n",
      "Processing <PIL.Image.Image image mode=RGB size=303x404 at 0x215BA4F92B0>:  82%|█▋| 9/11 [00:00<00:00,  5.66 Samples/s]\u001b[A\n",
      "Processing <PIL.Image.Image image mode=RGB size=303x404 at 0x215C66D66D0>: 100%|█| 11/11 [00:00<00:00, 39.82 Samples/s]\u001b[A\n",
      " 68%|███████████████████████████████████████████████████████▊                          | 34/50 [00:41<00:22,  1.41s/it]"
     ]
    },
    {
     "name": "stdout",
     "output_type": "stream",
     "text": [
      "Initialised with 104 image(s) found.\n",
      "Output directory set to BarkVN-50/BarkVN-50_mendeley/Nephelium lappaceum/output."
     ]
    },
    {
     "name": "stderr",
     "output_type": "stream",
     "text": [
      "\n",
      "Processing:   0%|                                                                         | 0/104 [00:00<?, ? Images/s]\u001b[A\n",
      "                                                                                                                       \u001b[A"
     ]
    },
    {
     "name": "stdout",
     "output_type": "stream",
     "text": [
      "104 ground truth image(s) found.\n"
     ]
    },
    {
     "name": "stderr",
     "output_type": "stream",
     "text": [
      "\n",
      "Executing Pipeline:   0%|                                                                 | 0/30 [00:00<?, ? Samples/s]\u001b[A\n",
      "Processing <PIL.Image.Image image mode=RGB size=303x404 at 0x215C66ADC10>:   0%|          | 0/30 [00:00<?, ? Samples/s]\u001b[A\n",
      "Processing <PIL.Image.Image image mode=RGB size=303x404 at 0x215C66ADC10>:   3%|  | 1/30 [00:00<00:08,  3.62 Samples/s]\u001b[A\n",
      "Processing <PIL.Image.Image image mode=RGB size=303x404 at 0x215C668AEB0>:   3%|  | 1/30 [00:00<00:08,  3.62 Samples/s]\u001b[A\n",
      "Processing <PIL.Image.Image image mode=RGB size=303x404 at 0x215C66ADBB0>:   7%|▏ | 2/30 [00:00<00:07,  3.62 Samples/s]\u001b[A\n",
      "Processing <PIL.Image.Image image mode=RGB size=303x404 at 0x215C66ADB20>:  10%|▏ | 3/30 [00:00<00:07,  3.62 Samples/s]\u001b[A\n",
      "Processing <PIL.Image.Image image mode=RGB size=303x404 at 0x215C668A100>:  13%|▎ | 4/30 [00:00<00:07,  3.62 Samples/s]\u001b[A\n",
      "Processing <PIL.Image.Image image mode=RGB size=303x404 at 0x215C66AD0D0>:  17%|▎ | 5/30 [00:00<00:06,  3.62 Samples/s]\u001b[A\n",
      "Processing <PIL.Image.Image image mode=RGB size=303x404 at 0x215C6671460>:  20%|▍ | 6/30 [00:00<00:06,  3.62 Samples/s]\u001b[A\n",
      "Processing <PIL.Image.Image image mode=RGB size=303x404 at 0x215C66EBB50>:  23%|▍ | 7/30 [00:00<00:06,  3.62 Samples/s]\u001b[A\n",
      "Processing <PIL.Image.Image image mode=RGB size=303x404 at 0x215C66C8280>:  27%|▌ | 8/30 [00:00<00:06,  3.62 Samples/s]\u001b[A\n",
      "Processing <PIL.Image.Image image mode=RGB size=303x404 at 0x215C6635F40>:  30%|▌ | 9/30 [00:00<00:05,  3.62 Samples/s]\u001b[A\n",
      "Processing <PIL.Image.Image image mode=RGB size=303x404 at 0x215C66EBF10>:  33%|▎| 10/30 [00:00<00:05,  3.62 Samples/s]\u001b[A\n",
      "Processing <PIL.Image.Image image mode=RGB size=303x404 at 0x215C66AD6A0>:  37%|▎| 11/30 [00:00<00:05,  3.62 Samples/s]\u001b[A\n",
      "Processing <PIL.Image.Image image mode=RGB size=303x404 at 0x215C6671790>:  40%|▍| 12/30 [00:00<00:04,  3.62 Samples/s]\u001b[A\n",
      "Processing <PIL.Image.Image image mode=RGB size=303x404 at 0x215C6671790>:  43%|▍| 13/30 [00:00<00:00, 27.27 Samples/s]\u001b[A\n",
      "Processing <PIL.Image.Image image mode=RGB size=303x404 at 0x215C668A040>:  43%|▍| 13/30 [00:00<00:00, 27.27 Samples/s]\u001b[A\n",
      "Processing <PIL.Image.Image image mode=RGB size=303x404 at 0x215C6671E80>:  47%|▍| 14/30 [00:00<00:00, 27.27 Samples/s]\u001b[A\n",
      "Processing <PIL.Image.Image image mode=RGB size=303x404 at 0x215C6671A30>:  50%|▌| 15/30 [00:00<00:00, 27.27 Samples/s]\u001b[A\n",
      "Processing <PIL.Image.Image image mode=RGB size=303x404 at 0x215C66C8790>:  53%|▌| 16/30 [00:00<00:00, 27.27 Samples/s]\u001b[A\n",
      "Processing <PIL.Image.Image image mode=RGB size=303x404 at 0x215C668A160>:  57%|▌| 17/30 [00:00<00:00, 27.27 Samples/s]\u001b[A\n",
      "Processing <PIL.Image.Image image mode=RGB size=303x404 at 0x215C66F09A0>:  60%|▌| 18/30 [00:00<00:00, 27.27 Samples/s]\u001b[A\n",
      "Processing <PIL.Image.Image image mode=RGB size=303x404 at 0x215C66717F0>:  63%|▋| 19/30 [00:00<00:00, 27.27 Samples/s]\u001b[A\n",
      "Processing <PIL.Image.Image image mode=RGB size=303x404 at 0x215C66C87C0>:  67%|▋| 20/30 [00:00<00:00, 27.27 Samples/s]\u001b[A\n",
      "Processing <PIL.Image.Image image mode=RGB size=303x404 at 0x215C6635F40>:  70%|▋| 21/30 [00:00<00:00, 27.27 Samples/s]\u001b[A\n",
      "Processing <PIL.Image.Image image mode=RGB size=303x404 at 0x215C66F0340>:  73%|▋| 22/30 [00:00<00:00, 27.27 Samples/s]\u001b[A\n",
      "Processing <PIL.Image.Image image mode=RGB size=303x404 at 0x215C6671D60>:  77%|▊| 23/30 [00:00<00:00, 27.27 Samples/s]\u001b[A\n",
      "Processing <PIL.Image.Image image mode=RGB size=303x404 at 0x215C6671D60>:  80%|▊| 24/30 [00:00<00:00, 46.40 Samples/s]\u001b[A\n",
      "Processing <PIL.Image.Image image mode=RGB size=303x404 at 0x215C66C8100>:  80%|▊| 24/30 [00:00<00:00, 46.40 Samples/s]\u001b[A\n",
      "Processing <PIL.Image.Image image mode=RGB size=303x404 at 0x215C66712B0>:  83%|▊| 25/30 [00:00<00:00, 46.40 Samples/s]\u001b[A\n",
      "Processing <PIL.Image.Image image mode=RGB size=303x404 at 0x215C66F06A0>:  87%|▊| 26/30 [00:00<00:00, 46.40 Samples/s]\u001b[A\n",
      "Processing <PIL.Image.Image image mode=RGB size=303x404 at 0x215C6635F40>:  90%|▉| 27/30 [00:00<00:00, 46.40 Samples/s]\u001b[A\n",
      "Processing <PIL.Image.Image image mode=RGB size=303x404 at 0x215C6671D60>:  93%|▉| 28/30 [00:00<00:00, 46.40 Samples/s]\u001b[A\n",
      "Processing <PIL.Image.Image image mode=RGB size=303x404 at 0x215C6671AF0>: 100%|█| 30/30 [00:00<00:00, 39.84 Samples/s]\u001b[A\n",
      " 70%|█████████████████████████████████████████████████████████▍                        | 35/50 [00:43<00:22,  1.51s/it]"
     ]
    },
    {
     "name": "stdout",
     "output_type": "stream",
     "text": [
      "Initialised with 103 image(s) found.\n",
      "Output directory set to BarkVN-50/BarkVN-50_mendeley/Persea/output."
     ]
    },
    {
     "name": "stderr",
     "output_type": "stream",
     "text": [
      "\n",
      "Processing:   0%|                                                                         | 0/103 [00:00<?, ? Images/s]\u001b[A\n",
      "                                                                                                                       \u001b[A"
     ]
    },
    {
     "name": "stdout",
     "output_type": "stream",
     "text": [
      "103 ground truth image(s) found.\n"
     ]
    },
    {
     "name": "stderr",
     "output_type": "stream",
     "text": [
      "\n",
      "Executing Pipeline:   0%|                                                                 | 0/30 [00:00<?, ? Samples/s]\u001b[A\n",
      "Processing <PIL.Image.Image image mode=RGB size=303x404 at 0x215C66F0130>:   0%|          | 0/30 [00:00<?, ? Samples/s]\u001b[A\n",
      "Processing <PIL.Image.Image image mode=RGB size=303x404 at 0x215C66F0130>:   3%|  | 1/30 [00:00<00:03,  8.80 Samples/s]\u001b[A\n",
      "Processing <PIL.Image.Image image mode=RGB size=303x404 at 0x215C66F0250>:   3%|  | 1/30 [00:00<00:03,  8.80 Samples/s]\u001b[A\n",
      "Processing <PIL.Image.Image image mode=RGB size=303x404 at 0x215C66F0400>:   7%|▏ | 2/30 [00:00<00:03,  8.80 Samples/s]\u001b[A\n",
      "Processing <PIL.Image.Image image mode=RGB size=303x404 at 0x215C66F0F10>:  10%|▏ | 3/30 [00:00<00:03,  8.80 Samples/s]\u001b[A\n",
      "Processing <PIL.Image.Image image mode=RGB size=303x404 at 0x215C66F0700>:  13%|▎ | 4/30 [00:00<00:02,  8.80 Samples/s]\u001b[A\n",
      "Processing <PIL.Image.Image image mode=RGB size=303x404 at 0x215C66E24C0>:  17%|▎ | 5/30 [00:00<00:02,  8.80 Samples/s]\u001b[A\n",
      "Processing <PIL.Image.Image image mode=RGB size=303x404 at 0x215C66F0B50>:  20%|▍ | 6/30 [00:00<00:02,  8.80 Samples/s]\u001b[A\n",
      "Processing <PIL.Image.Image image mode=RGB size=303x404 at 0x215C66AD850>:  23%|▍ | 7/30 [00:00<00:02,  8.80 Samples/s]\u001b[A\n",
      "Processing <PIL.Image.Image image mode=RGB size=303x404 at 0x215C66D61F0>:  27%|▌ | 8/30 [00:00<00:02,  8.80 Samples/s]\u001b[A\n",
      "Processing <PIL.Image.Image image mode=RGB size=303x404 at 0x215C66F0670>:  30%|▌ | 9/30 [00:00<00:02,  8.80 Samples/s]\u001b[A\n",
      "Processing <PIL.Image.Image image mode=RGB size=303x404 at 0x215C66AD970>:  33%|▎| 10/30 [00:00<00:02,  8.80 Samples/s]\u001b[A\n",
      "Processing <PIL.Image.Image image mode=RGB size=303x404 at 0x215C66AD970>:  37%|▎| 11/30 [00:00<00:00, 54.24 Samples/s]\u001b[A\n",
      "Processing <PIL.Image.Image image mode=RGB size=303x404 at 0x215C66ADC10>:  37%|▎| 11/30 [00:00<00:00, 54.24 Samples/s]\u001b[A\n",
      "Processing <PIL.Image.Image image mode=RGB size=303x404 at 0x215C66F0C10>:  40%|▍| 12/30 [00:00<00:00, 54.24 Samples/s]\u001b[A\n",
      "Processing <PIL.Image.Image image mode=RGB size=303x404 at 0x215C66E2880>:  43%|▍| 13/30 [00:00<00:00, 54.24 Samples/s]\u001b[A\n",
      "Processing <PIL.Image.Image image mode=RGB size=303x404 at 0x215C66E2D30>:  47%|▍| 14/30 [00:00<00:00, 54.24 Samples/s]\u001b[A\n",
      "Processing <PIL.Image.Image image mode=RGB size=303x404 at 0x215C66E2580>:  50%|▌| 15/30 [00:00<00:00, 54.24 Samples/s]\u001b[A\n",
      "Processing <PIL.Image.Image image mode=RGB size=303x404 at 0x215C66E2C10>:  53%|▌| 16/30 [00:00<00:00, 54.24 Samples/s]\u001b[A\n",
      "Processing <PIL.Image.Image image mode=RGB size=303x404 at 0x215C66F0280>:  57%|▌| 17/30 [00:00<00:00, 54.24 Samples/s]\u001b[A\n",
      "Processing <PIL.Image.Image image mode=RGB size=303x404 at 0x215C66F0D30>:  60%|▌| 18/30 [00:00<00:00, 54.24 Samples/s]\u001b[A\n",
      "Processing <PIL.Image.Image image mode=RGB size=303x404 at 0x215C66F0FD0>:  63%|▋| 19/30 [00:00<00:00, 54.24 Samples/s]\u001b[A\n",
      "Processing <PIL.Image.Image image mode=RGB size=303x404 at 0x215C66E2E50>:  67%|▋| 20/30 [00:00<00:00, 54.24 Samples/s]\u001b[A\n",
      "Processing <PIL.Image.Image image mode=RGB size=303x404 at 0x215C66AD280>:  70%|▋| 21/30 [00:00<00:00, 54.24 Samples/s]\u001b[A\n",
      "Processing <PIL.Image.Image image mode=RGB size=303x404 at 0x215C66F07F0>:  73%|▋| 22/30 [00:00<00:00, 54.24 Samples/s]\u001b[A\n",
      "Processing <PIL.Image.Image image mode=RGB size=303x404 at 0x215C66E2310>:  77%|▊| 23/30 [00:00<00:00, 54.24 Samples/s]\u001b[A\n",
      "Processing <PIL.Image.Image image mode=RGB size=303x404 at 0x215C66E2CD0>:  80%|▊| 24/30 [00:00<00:00, 54.24 Samples/s]\u001b[A\n",
      "Processing <PIL.Image.Image image mode=RGB size=303x404 at 0x215C66F0D60>:  83%|▊| 25/30 [00:00<00:00, 54.24 Samples/s]\u001b[A\n",
      "Processing <PIL.Image.Image image mode=RGB size=303x404 at 0x215C66F0F10>:  87%|▊| 26/30 [00:00<00:00, 54.24 Samples/s]\u001b[A\n",
      "Processing <PIL.Image.Image image mode=RGB size=303x404 at 0x215C66F00A0>:  90%|▉| 27/30 [00:00<00:00, 54.24 Samples/s]\u001b[A\n",
      "Processing <PIL.Image.Image image mode=RGB size=303x404 at 0x215C668AB50>:  93%|▉| 28/30 [00:00<00:00, 54.24 Samples/s]\u001b[A\n",
      "Processing <PIL.Image.Image image mode=RGB size=303x404 at 0x215C668AB50>:  97%|▉| 29/30 [00:00<00:00, 102.87 Samples/s\u001b[A\n",
      "Processing <PIL.Image.Image image mode=RGB size=303x404 at 0x215C668A0D0>: 100%|█| 30/30 [00:00<00:00, 86.44 Samples/s]\u001b[A\n",
      " 72%|███████████████████████████████████████████████████████████                       | 36/50 [00:44<00:20,  1.44s/it]"
     ]
    },
    {
     "name": "stdout",
     "output_type": "stream",
     "text": [
      "Initialised with 100 image(s) found.\n",
      "Output directory set to BarkVN-50/BarkVN-50_mendeley/Polyalthia longifolia/output."
     ]
    },
    {
     "name": "stderr",
     "output_type": "stream",
     "text": [
      "\n",
      "Processing:   0%|                                                                         | 0/100 [00:00<?, ? Images/s]\u001b[A\n",
      "                                                                                                                       \u001b[A"
     ]
    },
    {
     "name": "stdout",
     "output_type": "stream",
     "text": [
      "100 ground truth image(s) found.\n"
     ]
    },
    {
     "name": "stderr",
     "output_type": "stream",
     "text": [
      "\n",
      "Executing Pipeline:   0%|                                                                 | 0/33 [00:00<?, ? Samples/s]\u001b[A\n",
      "Processing <PIL.Image.Image image mode=RGB size=303x404 at 0x215C66C85E0>:   0%|          | 0/33 [00:00<?, ? Samples/s]\u001b[A\n",
      "Processing <PIL.Image.Image image mode=RGB size=303x404 at 0x215C66C8D30>:   3%|  | 1/33 [00:00<00:02, 13.37 Samples/s]\u001b[A\n",
      "Processing <PIL.Image.Image image mode=RGB size=303x404 at 0x215C66C8A60>:   6%|  | 2/33 [00:00<00:01, 23.87 Samples/s]\u001b[A\n",
      "Processing <PIL.Image.Image image mode=RGB size=303x404 at 0x215C66C8E50>:   9%|▏ | 3/33 [00:00<00:00, 34.98 Samples/s]\u001b[A\n",
      "Processing <PIL.Image.Image image mode=RGB size=303x404 at 0x215C66C8550>:  12%|▏ | 4/33 [00:00<00:00, 45.06 Samples/s]\u001b[A\n",
      "Processing <PIL.Image.Image image mode=RGB size=303x404 at 0x215C66E2280>:  15%|▎ | 5/33 [00:00<00:00, 38.27 Samples/s]\u001b[A\n",
      "Processing <PIL.Image.Image image mode=RGB size=303x404 at 0x215C66E2280>:  18%|▎ | 6/33 [00:00<00:00, 45.23 Samples/s]\u001b[A\n",
      "Processing <PIL.Image.Image image mode=RGB size=303x404 at 0x215C66EB460>:  18%|▎ | 6/33 [00:00<00:00, 45.23 Samples/s]\u001b[A\n",
      "Processing <PIL.Image.Image image mode=RGB size=303x404 at 0x215C66E2EB0>:  21%|▍ | 7/33 [00:00<00:00, 45.23 Samples/s]\u001b[A\n",
      "Processing <PIL.Image.Image image mode=RGB size=303x404 at 0x215C66EB910>:  24%|▍ | 8/33 [00:00<00:00, 45.23 Samples/s]\u001b[A\n",
      "Processing <PIL.Image.Image image mode=RGB size=303x404 at 0x215C66EB9A0>:  27%|▌ | 9/33 [00:00<00:00, 45.23 Samples/s]\u001b[A\n",
      "Processing <PIL.Image.Image image mode=RGB size=303x404 at 0x215C66EBC70>:  30%|▎| 10/33 [00:00<00:00, 45.23 Samples/s]\u001b[A\n",
      "Processing <PIL.Image.Image image mode=RGB size=303x404 at 0x215C66E2F10>:  33%|▎| 11/33 [00:00<00:00, 45.23 Samples/s]\u001b[A\n",
      "Processing <PIL.Image.Image image mode=RGB size=303x404 at 0x215C66EB9A0>:  36%|▎| 12/33 [00:00<00:00, 45.23 Samples/s]\u001b[A\n",
      "Processing <PIL.Image.Image image mode=RGB size=303x404 at 0x215C66E2280>:  39%|▍| 13/33 [00:00<00:00, 45.23 Samples/s]\u001b[A\n",
      "Processing <PIL.Image.Image image mode=RGB size=303x404 at 0x215C66E22B0>:  42%|▍| 14/33 [00:00<00:00, 45.23 Samples/s]\u001b[A\n",
      "Processing <PIL.Image.Image image mode=RGB size=303x404 at 0x215C66E22B0>:  45%|▍| 15/33 [00:00<00:00, 52.29 Samples/s]\u001b[A\n",
      "Processing <PIL.Image.Image image mode=RGB size=303x404 at 0x215C66E2F70>:  45%|▍| 15/33 [00:00<00:00, 52.29 Samples/s]\u001b[A\n",
      "Processing <PIL.Image.Image image mode=RGB size=303x404 at 0x215C66F0BE0>:  48%|▍| 16/33 [00:00<00:00, 52.29 Samples/s]\u001b[A\n",
      "Processing <PIL.Image.Image image mode=RGB size=303x404 at 0x215C66AD2E0>:  52%|▌| 17/33 [00:00<00:00, 52.29 Samples/s]\u001b[A\n",
      "Processing <PIL.Image.Image image mode=RGB size=303x404 at 0x215C66E2850>:  55%|▌| 18/33 [00:00<00:00, 52.29 Samples/s]\u001b[A\n",
      "Processing <PIL.Image.Image image mode=RGB size=303x404 at 0x215C66D6460>:  58%|▌| 19/33 [00:00<00:00, 52.29 Samples/s]\u001b[A\n",
      "Processing <PIL.Image.Image image mode=RGB size=303x404 at 0x215C6671460>:  61%|▌| 20/33 [00:00<00:00, 52.29 Samples/s]\u001b[A\n",
      "Processing <PIL.Image.Image image mode=RGB size=303x404 at 0x215C66F0B20>:  64%|▋| 21/33 [00:00<00:00, 52.29 Samples/s]\u001b[A\n",
      "Processing <PIL.Image.Image image mode=RGB size=303x404 at 0x215C66E2D30>:  67%|▋| 22/33 [00:00<00:00, 52.29 Samples/s]\u001b[A\n",
      "Processing <PIL.Image.Image image mode=RGB size=303x404 at 0x215C6671CA0>:  70%|▋| 23/33 [00:00<00:00, 52.29 Samples/s]\u001b[A\n",
      "Processing <PIL.Image.Image image mode=RGB size=303x404 at 0x215C6671CA0>:  73%|▋| 24/33 [00:00<00:00, 63.47 Samples/s]\u001b[A\n",
      "Processing <PIL.Image.Image image mode=RGB size=303x404 at 0x215C66D6C40>:  73%|▋| 24/33 [00:00<00:00, 63.47 Samples/s]\u001b[A\n",
      "Processing <PIL.Image.Image image mode=RGB size=303x404 at 0x215C66E2BE0>:  76%|▊| 25/33 [00:00<00:00, 63.47 Samples/s]\u001b[A\n",
      "Processing <PIL.Image.Image image mode=RGB size=303x404 at 0x215C66D6EB0>:  79%|▊| 26/33 [00:00<00:00, 63.47 Samples/s]\u001b[A\n",
      "Processing <PIL.Image.Image image mode=RGB size=303x404 at 0x215C66D6A30>:  82%|▊| 27/33 [00:00<00:00, 63.47 Samples/s]\u001b[A\n",
      "Processing <PIL.Image.Image image mode=RGB size=303x404 at 0x215C66D62E0>:  85%|▊| 28/33 [00:00<00:00, 63.47 Samples/s]\u001b[A\n",
      "Processing <PIL.Image.Image image mode=RGB size=303x404 at 0x215C6671D90>:  88%|▉| 29/33 [00:00<00:00, 63.47 Samples/s]\u001b[A\n",
      "Processing <PIL.Image.Image image mode=RGB size=303x404 at 0x215C6671DF0>:  91%|▉| 30/33 [00:00<00:00, 63.47 Samples/s]\u001b[A\n",
      "Processing <PIL.Image.Image image mode=RGB size=303x404 at 0x215C66E2700>:  94%|▉| 31/33 [00:00<00:00, 63.47 Samples/s]\u001b[A\n",
      "Processing <PIL.Image.Image image mode=RGB size=303x404 at 0x215C66719D0>: 100%|█| 33/33 [00:00<00:00, 68.79 Samples/s]\u001b[A\n",
      " 74%|████████████████████████████████████████████████████████████▋                     | 37/50 [00:45<00:16,  1.30s/it]"
     ]
    },
    {
     "name": "stdout",
     "output_type": "stream",
     "text": [
      "Initialised with 80 image(s) found.\n",
      "Output directory set to BarkVN-50/BarkVN-50_mendeley/Prunnus/output."
     ]
    },
    {
     "name": "stderr",
     "output_type": "stream",
     "text": [
      "\n",
      "Processing:   0%|                                                                          | 0/80 [00:00<?, ? Images/s]\u001b[A\n",
      "                                                                                                                       \u001b[A"
     ]
    },
    {
     "name": "stdout",
     "output_type": "stream",
     "text": [
      "80 ground truth image(s) found.\n"
     ]
    },
    {
     "name": "stderr",
     "output_type": "stream",
     "text": [
      "\n",
      "Executing Pipeline:   0%|                                                                 | 0/46 [00:00<?, ? Samples/s]\u001b[A\n",
      "Processing <PIL.Image.Image image mode=RGB size=303x404 at 0x215C66EB490>:   0%|          | 0/46 [00:00<?, ? Samples/s]\u001b[A\n",
      "Processing <PIL.Image.Image image mode=RGB size=303x404 at 0x215C66EB490>:   2%|  | 1/46 [00:00<00:07,  5.93 Samples/s]\u001b[A\n",
      "Processing <PIL.Image.Image image mode=RGB size=303x404 at 0x215C66EBA30>:   2%|  | 1/46 [00:00<00:07,  5.93 Samples/s]\u001b[A\n",
      "Processing <PIL.Image.Image image mode=RGB size=303x404 at 0x215C66EB610>:   4%|  | 2/46 [00:00<00:07,  5.93 Samples/s]\u001b[A\n",
      "Processing <PIL.Image.Image image mode=RGB size=303x404 at 0x215C66D6D00>:   7%|▏ | 3/46 [00:00<00:07,  5.93 Samples/s]\u001b[A\n",
      "Processing <PIL.Image.Image image mode=RGB size=303x404 at 0x215C668AB80>:   9%|▏ | 4/46 [00:00<00:07,  5.93 Samples/s]\u001b[A\n",
      "Processing <PIL.Image.Image image mode=RGB size=303x404 at 0x215C66AD0D0>:  11%|▏ | 5/46 [00:00<00:06,  5.93 Samples/s]\u001b[A\n",
      "Processing <PIL.Image.Image image mode=RGB size=303x404 at 0x215C66EBEB0>:  13%|▎ | 6/46 [00:00<00:06,  5.93 Samples/s]\u001b[A\n",
      "Processing <PIL.Image.Image image mode=RGB size=303x404 at 0x215C66EBEB0>:  15%|▎ | 7/46 [00:00<00:01, 29.82 Samples/s]\u001b[A\n",
      "Processing <PIL.Image.Image image mode=RGB size=303x404 at 0x215C66ADA60>:  15%|▎ | 7/46 [00:00<00:01, 29.82 Samples/s]\u001b[A\n",
      "Processing <PIL.Image.Image image mode=RGB size=303x404 at 0x215C66ADCA0>:  17%|▎ | 8/46 [00:00<00:01, 29.82 Samples/s]\u001b[A\n",
      "Processing <PIL.Image.Image image mode=RGB size=303x404 at 0x215C66D6910>:  20%|▍ | 9/46 [00:00<00:01, 29.82 Samples/s]\u001b[A\n",
      "Processing <PIL.Image.Image image mode=RGB size=303x404 at 0x215C66EB5B0>:  22%|▏| 10/46 [00:00<00:01, 29.82 Samples/s]\u001b[A\n",
      "Processing <PIL.Image.Image image mode=RGB size=303x404 at 0x215C66EB580>:  24%|▏| 11/46 [00:00<00:01, 29.82 Samples/s]\u001b[A\n",
      "Processing <PIL.Image.Image image mode=RGB size=303x404 at 0x215C66EB580>:  26%|▎| 12/46 [00:00<00:01, 32.53 Samples/s]\u001b[A\n",
      "Processing <PIL.Image.Image image mode=RGB size=303x404 at 0x215C66ADBB0>:  26%|▎| 12/46 [00:00<00:01, 32.53 Samples/s]\u001b[A\n",
      "Processing <PIL.Image.Image image mode=RGB size=303x404 at 0x215C66EB490>:  28%|▎| 13/46 [00:00<00:01, 32.53 Samples/s]\u001b[A\n",
      "Processing <PIL.Image.Image image mode=RGB size=303x404 at 0x215C66EB9A0>:  30%|▎| 14/46 [00:00<00:00, 32.53 Samples/s]\u001b[A\n",
      "Processing <PIL.Image.Image image mode=RGB size=303x404 at 0x215C66ADC70>:  33%|▎| 15/46 [00:00<00:00, 32.53 Samples/s]\u001b[A\n",
      "Processing <PIL.Image.Image image mode=RGB size=303x404 at 0x215C66ADC70>:  35%|▎| 16/46 [00:00<00:00, 30.02 Samples/s]\u001b[A\n",
      "Processing <PIL.Image.Image image mode=RGB size=303x404 at 0x215C66AD430>:  35%|▎| 16/46 [00:00<00:00, 30.02 Samples/s]\u001b[A\n",
      "Processing <PIL.Image.Image image mode=RGB size=303x404 at 0x215C66EBA30>:  37%|▎| 17/46 [00:00<00:00, 30.02 Samples/s]\u001b[A\n",
      "Processing <PIL.Image.Image image mode=RGB size=303x404 at 0x215C66EB580>:  39%|▍| 18/46 [00:00<00:00, 30.02 Samples/s]\u001b[A\n",
      "Processing <PIL.Image.Image image mode=RGB size=303x404 at 0x215C668A100>:  41%|▍| 19/46 [00:00<00:00, 30.02 Samples/s]\u001b[A\n",
      "Processing <PIL.Image.Image image mode=RGB size=303x404 at 0x215C668AE80>:  43%|▍| 20/46 [00:00<00:00, 30.02 Samples/s]\u001b[A\n",
      "Processing <PIL.Image.Image image mode=RGB size=303x404 at 0x215C66EB670>:  46%|▍| 21/46 [00:00<00:00, 30.02 Samples/s]\u001b[A\n",
      "Processing <PIL.Image.Image image mode=RGB size=303x404 at 0x215C66EBFA0>:  48%|▍| 22/46 [00:00<00:00, 30.02 Samples/s]\u001b[A\n",
      "Processing <PIL.Image.Image image mode=RGB size=303x404 at 0x215C66D6A60>:  50%|▌| 23/46 [00:00<00:00, 30.02 Samples/s]\u001b[A\n",
      "Processing <PIL.Image.Image image mode=RGB size=303x404 at 0x215C66D6D00>:  52%|▌| 24/46 [00:00<00:00, 30.02 Samples/s]\u001b[A\n",
      "Processing <PIL.Image.Image image mode=RGB size=303x404 at 0x215C66C8820>:  54%|▌| 25/46 [00:00<00:00, 30.02 Samples/s]\u001b[A\n",
      "Processing <PIL.Image.Image image mode=RGB size=303x404 at 0x215C66EB6D0>:  57%|▌| 26/46 [00:00<00:00, 30.02 Samples/s]\u001b[A\n",
      "Processing <PIL.Image.Image image mode=RGB size=303x404 at 0x215C66C8220>:  59%|▌| 27/46 [00:00<00:00, 30.02 Samples/s]\u001b[A\n",
      "Processing <PIL.Image.Image image mode=RGB size=303x404 at 0x215C66C8220>:  61%|▌| 28/46 [00:00<00:00, 42.33 Samples/s]\u001b[A\n",
      "Processing <PIL.Image.Image image mode=RGB size=303x404 at 0x215C66C8D30>:  61%|▌| 28/46 [00:00<00:00, 42.33 Samples/s]\u001b[A\n",
      "Processing <PIL.Image.Image image mode=RGB size=303x404 at 0x215C66BDA60>:  63%|▋| 29/46 [00:00<00:00, 42.33 Samples/s]\u001b[A\n",
      "Processing <PIL.Image.Image image mode=RGB size=303x404 at 0x215C66D6A60>:  65%|▋| 30/46 [00:00<00:00, 42.33 Samples/s]\u001b[A\n",
      "Processing <PIL.Image.Image image mode=RGB size=303x404 at 0x215C66C8370>:  67%|▋| 31/46 [00:00<00:00, 42.33 Samples/s]\u001b[A\n",
      "Processing <PIL.Image.Image image mode=RGB size=303x404 at 0x215C668A040>:  70%|▋| 32/46 [00:00<00:00, 42.33 Samples/s]\u001b[A\n",
      "Processing <PIL.Image.Image image mode=RGB size=303x404 at 0x215C66D6970>:  72%|▋| 33/46 [00:00<00:00, 42.33 Samples/s]\u001b[A\n",
      "Processing <PIL.Image.Image image mode=RGB size=303x404 at 0x215C66BD430>:  74%|▋| 34/46 [00:00<00:00, 42.33 Samples/s]\u001b[A\n",
      "Processing <PIL.Image.Image image mode=RGB size=303x404 at 0x215C66BD430>:  76%|▊| 35/46 [00:00<00:00, 48.78 Samples/s]\u001b[A\n",
      "Processing <PIL.Image.Image image mode=RGB size=303x404 at 0x215C66C8AC0>:  76%|▊| 35/46 [00:00<00:00, 48.78 Samples/s]\u001b[A\n",
      "Processing <PIL.Image.Image image mode=RGB size=303x404 at 0x215C668ABB0>:  78%|▊| 36/46 [00:00<00:00, 48.78 Samples/s]\u001b[A\n",
      "Processing <PIL.Image.Image image mode=RGB size=303x404 at 0x215C66C81C0>:  80%|▊| 37/46 [00:00<00:00, 48.78 Samples/s]\u001b[A\n",
      "Processing <PIL.Image.Image image mode=RGB size=303x404 at 0x215C66BDAC0>:  83%|▊| 38/46 [00:00<00:00, 48.78 Samples/s]\u001b[A\n",
      "Processing <PIL.Image.Image image mode=RGB size=303x404 at 0x215C66C8610>:  85%|▊| 39/46 [00:00<00:00, 48.78 Samples/s]\u001b[A\n",
      "Processing <PIL.Image.Image image mode=RGB size=303x404 at 0x215C668AF10>:  87%|▊| 40/46 [00:00<00:00, 48.78 Samples/s]\u001b[A\n",
      "Processing <PIL.Image.Image image mode=RGB size=303x404 at 0x215C668AE20>:  89%|▉| 41/46 [00:00<00:00, 48.78 Samples/s]\u001b[A\n",
      "Processing <PIL.Image.Image image mode=RGB size=303x404 at 0x215C66BD6A0>:  91%|▉| 42/46 [00:00<00:00, 48.78 Samples/s]\u001b[A\n",
      "Processing <PIL.Image.Image image mode=RGB size=303x404 at 0x215C66BDEE0>:  93%|▉| 43/46 [00:00<00:00, 48.78 Samples/s]\u001b[A\n",
      "Processing <PIL.Image.Image image mode=RGB size=303x404 at 0x215C66BD970>:  96%|▉| 44/46 [00:00<00:00, 48.78 Samples/s]\u001b[A\n",
      "Processing <PIL.Image.Image image mode=RGB size=303x404 at 0x215C66BD970>:  98%|▉| 45/46 [00:00<00:00, 61.12 Samples/s]\u001b[A\n",
      "Processing <PIL.Image.Image image mode=RGB size=303x404 at 0x215C668ABB0>: 100%|█| 46/46 [00:00<00:00, 46.35 Samples/s]\u001b[A\n",
      " 76%|██████████████████████████████████████████████████████████████▎                   | 38/50 [00:46<00:17,  1.42s/it]"
     ]
    },
    {
     "name": "stdout",
     "output_type": "stream",
     "text": [
      "Initialised with 105 image(s) found.\n",
      "Output directory set to BarkVN-50/BarkVN-50_mendeley/Prunus salicina/output."
     ]
    },
    {
     "name": "stderr",
     "output_type": "stream",
     "text": [
      "\n",
      "Processing:   0%|                                                                         | 0/105 [00:00<?, ? Images/s]\u001b[A\n",
      "                                                                                                                       \u001b[A"
     ]
    },
    {
     "name": "stdout",
     "output_type": "stream",
     "text": [
      "105 ground truth image(s) found.\n"
     ]
    },
    {
     "name": "stderr",
     "output_type": "stream",
     "text": [
      "\n",
      "Executing Pipeline:   0%|                                                                 | 0/29 [00:00<?, ? Samples/s]\u001b[A\n",
      "Processing <PIL.Image.Image image mode=RGB size=303x404 at 0x215C66C8DC0>:   0%|          | 0/29 [00:00<?, ? Samples/s]\u001b[A\n",
      "Processing <PIL.Image.Image image mode=RGB size=303x404 at 0x215C66C8DC0>:   3%|  | 1/29 [00:00<00:03,  7.37 Samples/s]\u001b[A\n",
      "Processing <PIL.Image.Image image mode=RGB size=303x404 at 0x215C66D6490>:   3%|  | 1/29 [00:00<00:03,  7.37 Samples/s]\u001b[A\n",
      "Processing <PIL.Image.Image image mode=RGB size=303x404 at 0x215C6671BB0>:   7%|▏ | 2/29 [00:00<00:03,  7.37 Samples/s]\u001b[A\n",
      "Processing <PIL.Image.Image image mode=RGB size=303x404 at 0x215C6671BB0>:  10%|▏ | 3/29 [00:00<00:02, 12.82 Samples/s]\u001b[A\n",
      "Processing <PIL.Image.Image image mode=RGB size=303x404 at 0x215C6671130>:  10%|▏ | 3/29 [00:00<00:02, 12.82 Samples/s]\u001b[A\n",
      "Processing <PIL.Image.Image image mode=RGB size=303x404 at 0x215C66D66D0>:  14%|▎ | 4/29 [00:00<00:01, 12.82 Samples/s]\u001b[A\n",
      "Processing <PIL.Image.Image image mode=RGB size=303x404 at 0x215C66D6BE0>:  17%|▎ | 5/29 [00:00<00:01, 12.82 Samples/s]\u001b[A\n",
      "Processing <PIL.Image.Image image mode=RGB size=303x404 at 0x215C66C89D0>:  21%|▍ | 6/29 [00:00<00:01, 12.82 Samples/s]\u001b[A\n",
      "Processing <PIL.Image.Image image mode=RGB size=303x404 at 0x215C66AD580>:  24%|▍ | 7/29 [00:00<00:01, 12.82 Samples/s]\u001b[A\n",
      "Processing <PIL.Image.Image image mode=RGB size=303x404 at 0x215C66E2BE0>:  28%|▌ | 8/29 [00:00<00:01, 12.82 Samples/s]\u001b[A\n",
      "Processing <PIL.Image.Image image mode=RGB size=303x404 at 0x215C66E2A00>:  31%|▌ | 9/29 [00:00<00:01, 12.82 Samples/s]\u001b[A\n",
      "Processing <PIL.Image.Image image mode=RGB size=303x404 at 0x215C66C8AC0>:  34%|▎| 10/29 [00:00<00:01, 12.82 Samples/s]\u001b[A\n",
      "Processing <PIL.Image.Image image mode=RGB size=303x404 at 0x215C66C8AC0>:  38%|▍| 11/29 [00:00<00:00, 39.85 Samples/s]\u001b[A\n",
      "Processing <PIL.Image.Image image mode=RGB size=303x404 at 0x215C66E2FD0>:  38%|▍| 11/29 [00:00<00:00, 39.85 Samples/s]\u001b[A\n",
      "Processing <PIL.Image.Image image mode=RGB size=303x404 at 0x215C66D60D0>:  41%|▍| 12/29 [00:00<00:00, 39.85 Samples/s]\u001b[A\n",
      "Processing <PIL.Image.Image image mode=RGB size=303x404 at 0x215C66E2610>:  45%|▍| 13/29 [00:00<00:00, 39.85 Samples/s]\u001b[A\n",
      "Processing <PIL.Image.Image image mode=RGB size=303x404 at 0x215C66C89D0>:  48%|▍| 14/29 [00:00<00:00, 39.85 Samples/s]\u001b[A\n",
      "Processing <PIL.Image.Image image mode=RGB size=303x404 at 0x215C66E2E80>:  52%|▌| 15/29 [00:00<00:00, 39.85 Samples/s]\u001b[A\n",
      "Processing <PIL.Image.Image image mode=RGB size=303x404 at 0x215C66E2E80>:  55%|▌| 16/29 [00:00<00:00, 35.35 Samples/s]\u001b[A\n",
      "Processing <PIL.Image.Image image mode=RGB size=303x404 at 0x215C66C8A00>:  55%|▌| 16/29 [00:00<00:00, 35.35 Samples/s]\u001b[A\n",
      "Processing <PIL.Image.Image image mode=RGB size=303x404 at 0x215C66AD070>:  59%|▌| 17/29 [00:00<00:00, 35.35 Samples/s]\u001b[A\n",
      "Processing <PIL.Image.Image image mode=RGB size=303x404 at 0x215C66C8100>:  62%|▌| 18/29 [00:00<00:00, 35.35 Samples/s]\u001b[A\n",
      "Processing <PIL.Image.Image image mode=RGB size=303x404 at 0x215C668AAC0>:  66%|▋| 19/29 [00:00<00:00, 35.35 Samples/s]\u001b[A\n",
      "Processing <PIL.Image.Image image mode=RGB size=303x404 at 0x215C66C8CD0>:  69%|▋| 20/29 [00:00<00:00, 35.35 Samples/s]\u001b[A\n",
      "Processing <PIL.Image.Image image mode=RGB size=303x404 at 0x215C66C8BB0>:  72%|▋| 21/29 [00:00<00:00, 35.35 Samples/s]\u001b[A\n",
      "Processing <PIL.Image.Image image mode=RGB size=303x404 at 0x215C66C8AC0>:  76%|▊| 22/29 [00:00<00:00, 35.35 Samples/s]\u001b[A\n",
      "Processing <PIL.Image.Image image mode=RGB size=303x404 at 0x215C66C8340>:  79%|▊| 23/29 [00:00<00:00, 35.35 Samples/s]\u001b[A\n",
      "Processing <PIL.Image.Image image mode=RGB size=303x404 at 0x215C668AC10>:  83%|▊| 24/29 [00:00<00:00, 35.35 Samples/s]\u001b[A\n",
      "Processing <PIL.Image.Image image mode=RGB size=303x404 at 0x215C66C8A00>:  86%|▊| 25/29 [00:00<00:00, 35.35 Samples/s]\u001b[A\n",
      "Processing <PIL.Image.Image image mode=RGB size=303x404 at 0x215C66C8100>:  90%|▉| 26/29 [00:00<00:00, 35.35 Samples/s]\u001b[A\n",
      "Processing <PIL.Image.Image image mode=RGB size=303x404 at 0x215C66E2B50>:  93%|▉| 27/29 [00:00<00:00, 35.35 Samples/s]\u001b[A\n",
      "Processing <PIL.Image.Image image mode=RGB size=303x404 at 0x215C66C8E20>: 100%|█| 29/29 [00:00<00:00, 49.54 Samples/s]\u001b[A\n",
      " 78%|███████████████████████████████████████████████████████████████▉                  | 39/50 [00:48<00:15,  1.45s/it]"
     ]
    },
    {
     "name": "stdout",
     "output_type": "stream",
     "text": [
      "Initialised with 122 image(s) found.\n",
      "Output directory set to BarkVN-50/BarkVN-50_mendeley/Psidium guajava/output."
     ]
    },
    {
     "name": "stderr",
     "output_type": "stream",
     "text": [
      "\n",
      "Processing:   0%|                                                                         | 0/122 [00:00<?, ? Images/s]\u001b[A\n",
      "                                                                                                                       \u001b[A"
     ]
    },
    {
     "name": "stdout",
     "output_type": "stream",
     "text": [
      "122 ground truth image(s) found.\n"
     ]
    },
    {
     "name": "stderr",
     "output_type": "stream",
     "text": [
      "\n",
      "Executing Pipeline:   0%|                                                                 | 0/18 [00:00<?, ? Samples/s]\u001b[A\n",
      "Processing <PIL.Image.Image image mode=RGB size=303x404 at 0x215C66BD670>:   0%|          | 0/18 [00:00<?, ? Samples/s]\u001b[A\n",
      "Processing <PIL.Image.Image image mode=RGB size=303x404 at 0x215C66BD670>:   6%|  | 1/18 [00:00<00:01,  9.64 Samples/s]\u001b[A\n",
      "Processing <PIL.Image.Image image mode=RGB size=303x404 at 0x215C66BDA30>:   6%|  | 1/18 [00:00<00:01,  9.64 Samples/s]\u001b[A\n",
      "Processing <PIL.Image.Image image mode=RGB size=303x404 at 0x215C66E2C40>:  11%|▏ | 2/18 [00:00<00:01,  9.64 Samples/s]\u001b[A\n",
      "Processing <PIL.Image.Image image mode=RGB size=303x404 at 0x215C66D6A60>:  17%|▎ | 3/18 [00:00<00:01,  9.64 Samples/s]\u001b[A\n",
      "Processing <PIL.Image.Image image mode=RGB size=303x404 at 0x215C66E2610>:  22%|▍ | 4/18 [00:00<00:01,  9.64 Samples/s]\u001b[A\n",
      "Processing <PIL.Image.Image image mode=RGB size=303x404 at 0x215C66ADEB0>:  28%|▌ | 5/18 [00:00<00:01,  9.64 Samples/s]\u001b[A\n",
      "Processing <PIL.Image.Image image mode=RGB size=303x404 at 0x215C66ADBE0>:  33%|▋ | 6/18 [00:00<00:01,  9.64 Samples/s]\u001b[A\n",
      "Processing <PIL.Image.Image image mode=RGB size=303x404 at 0x215C66E2A30>:  39%|▊ | 7/18 [00:00<00:01,  9.64 Samples/s]\u001b[A\n",
      "Processing <PIL.Image.Image image mode=RGB size=303x404 at 0x215C66AD2B0>:  44%|▉ | 8/18 [00:00<00:01,  9.64 Samples/s]\u001b[A\n",
      "Processing <PIL.Image.Image image mode=RGB size=303x404 at 0x215C66D67C0>:  50%|█ | 9/18 [00:00<00:00,  9.64 Samples/s]\u001b[A\n",
      "Processing <PIL.Image.Image image mode=RGB size=303x404 at 0x215C66AD310>:  56%|▌| 10/18 [00:00<00:00,  9.64 Samples/s]\u001b[A\n",
      "Processing <PIL.Image.Image image mode=RGB size=303x404 at 0x215C66BD280>:  61%|▌| 11/18 [00:00<00:00,  9.64 Samples/s]\u001b[A\n",
      "Processing <PIL.Image.Image image mode=RGB size=303x404 at 0x215C66AD8E0>:  67%|▋| 12/18 [00:00<00:00,  9.64 Samples/s]\u001b[A\n",
      "Processing <PIL.Image.Image image mode=RGB size=303x404 at 0x215C66BD5E0>:  72%|▋| 13/18 [00:00<00:00,  9.64 Samples/s]\u001b[A\n",
      "Processing <PIL.Image.Image image mode=RGB size=303x404 at 0x215C66AD520>:  78%|▊| 14/18 [00:00<00:00,  9.64 Samples/s]\u001b[A\n",
      "Processing <PIL.Image.Image image mode=RGB size=303x404 at 0x215C66BD6D0>:  83%|▊| 15/18 [00:00<00:00,  9.64 Samples/s]\u001b[A\n",
      "Processing <PIL.Image.Image image mode=RGB size=303x404 at 0x215C66BDF70>:  89%|▉| 16/18 [00:00<00:00,  9.64 Samples/s]\u001b[A\n",
      "Processing <PIL.Image.Image image mode=RGB size=303x404 at 0x215C66BD820>: 100%|█| 18/18 [00:00<00:00, 89.79 Samples/s]\u001b[A\n",
      " 80%|█████████████████████████████████████████████████████████████████▌                | 40/50 [00:49<00:12,  1.25s/it]"
     ]
    },
    {
     "name": "stdout",
     "output_type": "stream",
     "text": [
      "Initialised with 100 image(s) found.\n",
      "Output directory set to BarkVN-50/BarkVN-50_mendeley/Pterocarpus macrocarpus/output."
     ]
    },
    {
     "name": "stderr",
     "output_type": "stream",
     "text": [
      "\n",
      "Processing:   0%|                                                                         | 0/100 [00:00<?, ? Images/s]\u001b[A\n",
      "                                                                                                                       \u001b[A"
     ]
    },
    {
     "name": "stdout",
     "output_type": "stream",
     "text": [
      "100 ground truth image(s) found.\n"
     ]
    },
    {
     "name": "stderr",
     "output_type": "stream",
     "text": [
      "\n",
      "Executing Pipeline:   0%|                                                                 | 0/33 [00:00<?, ? Samples/s]\u001b[A\n",
      "Processing <PIL.Image.Image image mode=RGB size=303x404 at 0x215C668AA60>:   0%|          | 0/33 [00:00<?, ? Samples/s]\u001b[A\n",
      "Processing <PIL.Image.Image image mode=RGB size=303x404 at 0x215C668AA60>:   3%|  | 1/33 [00:00<00:06,  5.17 Samples/s]\u001b[A\n",
      "Processing <PIL.Image.Image image mode=RGB size=303x404 at 0x215C66E2D30>:   3%|  | 1/33 [00:00<00:06,  5.17 Samples/s]\u001b[A\n",
      "Processing <PIL.Image.Image image mode=RGB size=303x404 at 0x215C668AF70>:   6%|  | 2/33 [00:00<00:05,  5.17 Samples/s]\u001b[A\n",
      "Processing <PIL.Image.Image image mode=RGB size=303x404 at 0x215C66E2B80>:   9%|▏ | 3/33 [00:00<00:05,  5.17 Samples/s]\u001b[A\n",
      "Processing <PIL.Image.Image image mode=RGB size=303x404 at 0x215C66E2DC0>:  12%|▏ | 4/33 [00:00<00:05,  5.17 Samples/s]\u001b[A\n",
      "Processing <PIL.Image.Image image mode=RGB size=303x404 at 0x215C66ADF40>:  15%|▎ | 5/33 [00:00<00:05,  5.17 Samples/s]\u001b[A\n",
      "Processing <PIL.Image.Image image mode=RGB size=303x404 at 0x215C66E22B0>:  18%|▎ | 6/33 [00:00<00:05,  5.17 Samples/s]\u001b[A\n",
      "Processing <PIL.Image.Image image mode=RGB size=303x404 at 0x215C668AB20>:  21%|▍ | 7/33 [00:00<00:05,  5.17 Samples/s]\u001b[A\n",
      "Processing <PIL.Image.Image image mode=RGB size=303x404 at 0x215C66F02B0>:  24%|▍ | 8/33 [00:00<00:04,  5.17 Samples/s]\u001b[A\n",
      "Processing <PIL.Image.Image image mode=RGB size=303x404 at 0x215C66F02B0>:  27%|▌ | 9/33 [00:00<00:00, 36.23 Samples/s]\u001b[A\n",
      "Processing <PIL.Image.Image image mode=RGB size=303x404 at 0x215C66D63D0>:  27%|▌ | 9/33 [00:00<00:00, 36.23 Samples/s]\u001b[A\n",
      "Processing <PIL.Image.Image image mode=RGB size=303x404 at 0x215C66E2B80>:  30%|▎| 10/33 [00:00<00:00, 36.23 Samples/s]\u001b[A\n",
      "Processing <PIL.Image.Image image mode=RGB size=303x404 at 0x215C668AA30>:  33%|▎| 11/33 [00:00<00:00, 36.23 Samples/s]\u001b[A\n",
      "Processing <PIL.Image.Image image mode=RGB size=303x404 at 0x215C66C8B50>:  36%|▎| 12/33 [00:00<00:00, 36.23 Samples/s]\u001b[A\n",
      "Processing <PIL.Image.Image image mode=RGB size=303x404 at 0x215C66D6880>:  39%|▍| 13/33 [00:00<00:00, 36.23 Samples/s]\u001b[A\n",
      "Processing <PIL.Image.Image image mode=RGB size=303x404 at 0x215C66D6880>:  42%|▍| 14/33 [00:00<00:00, 34.05 Samples/s]\u001b[A\n",
      "Processing <PIL.Image.Image image mode=RGB size=303x404 at 0x215C66C83A0>:  42%|▍| 14/33 [00:00<00:00, 34.05 Samples/s]\u001b[A\n",
      "Processing <PIL.Image.Image image mode=RGB size=303x404 at 0x215C66713A0>:  45%|▍| 15/33 [00:00<00:00, 34.05 Samples/s]\u001b[A\n",
      "Processing <PIL.Image.Image image mode=RGB size=303x404 at 0x215C66D6580>:  48%|▍| 16/33 [00:00<00:00, 34.05 Samples/s]\u001b[A\n",
      "Processing <PIL.Image.Image image mode=RGB size=303x404 at 0x215C66D62E0>:  52%|▌| 17/33 [00:00<00:00, 34.05 Samples/s]\u001b[A\n",
      "Processing <PIL.Image.Image image mode=RGB size=303x404 at 0x215C6671C40>:  55%|▌| 18/33 [00:00<00:00, 34.05 Samples/s]\u001b[A\n",
      "Processing <PIL.Image.Image image mode=RGB size=303x404 at 0x215C6C16E50>:  58%|▌| 19/33 [00:00<00:00, 34.05 Samples/s]\u001b[A\n",
      "Processing <PIL.Image.Image image mode=RGB size=303x404 at 0x215C6671670>:  61%|▌| 20/33 [00:00<00:00, 34.05 Samples/s]\u001b[A\n",
      "Processing <PIL.Image.Image image mode=RGB size=303x404 at 0x215C66D6400>:  64%|▋| 21/33 [00:00<00:00, 34.05 Samples/s]\u001b[A\n",
      "Processing <PIL.Image.Image image mode=RGB size=303x404 at 0x215C66C8370>:  67%|▋| 22/33 [00:00<00:00, 34.05 Samples/s]\u001b[A\n",
      "Processing <PIL.Image.Image image mode=RGB size=303x404 at 0x215C66C8370>:  70%|▋| 23/33 [00:00<00:00, 41.44 Samples/s]\u001b[A\n",
      "Processing <PIL.Image.Image image mode=RGB size=303x404 at 0x215C66AD7F0>:  70%|▋| 23/33 [00:00<00:00, 41.44 Samples/s]\u001b[A\n",
      "Processing <PIL.Image.Image image mode=RGB size=303x404 at 0x215C66D6A30>:  73%|▋| 24/33 [00:00<00:00, 41.44 Samples/s]\u001b[A\n",
      "Processing <PIL.Image.Image image mode=RGB size=303x404 at 0x215C66C8C40>:  76%|▊| 25/33 [00:00<00:00, 41.44 Samples/s]\u001b[A\n",
      "Processing <PIL.Image.Image image mode=RGB size=303x404 at 0x215C66C8880>:  79%|▊| 26/33 [00:00<00:00, 41.44 Samples/s]\u001b[A\n",
      "Processing <PIL.Image.Image image mode=RGB size=303x404 at 0x215C66D6340>:  82%|▊| 27/33 [00:00<00:00, 41.44 Samples/s]\u001b[A\n",
      "Processing <PIL.Image.Image image mode=RGB size=303x404 at 0x215C66C8040>:  85%|▊| 28/33 [00:00<00:00, 41.44 Samples/s]\u001b[A\n",
      "Processing <PIL.Image.Image image mode=RGB size=303x404 at 0x215C66C8B50>:  88%|▉| 29/33 [00:00<00:00, 41.44 Samples/s]\u001b[A\n",
      "Processing <PIL.Image.Image image mode=RGB size=303x404 at 0x215C66AD2B0>:  91%|▉| 30/33 [00:00<00:00, 41.44 Samples/s]\u001b[A\n",
      "Processing <PIL.Image.Image image mode=RGB size=303x404 at 0x215C66C85E0>:  94%|▉| 31/33 [00:00<00:00, 41.44 Samples/s]\u001b[A\n",
      "Processing <PIL.Image.Image image mode=RGB size=303x404 at 0x215C6671670>: 100%|█| 33/33 [00:00<00:00, 45.20 Samples/s]\u001b[A\n",
      " 82%|███████████████████████████████████████████████████████████████████▏              | 41/50 [00:50<00:11,  1.27s/it]"
     ]
    },
    {
     "name": "stdout",
     "output_type": "stream",
     "text": [
      "Initialised with 93 image(s) found.\n",
      "Output directory set to BarkVN-50/BarkVN-50_mendeley/Senna siamea/output."
     ]
    },
    {
     "name": "stderr",
     "output_type": "stream",
     "text": [
      "\n",
      "Processing:   0%|                                                                          | 0/93 [00:00<?, ? Images/s]\u001b[A\n",
      "                                                                                                                       \u001b[A"
     ]
    },
    {
     "name": "stdout",
     "output_type": "stream",
     "text": [
      "93 ground truth image(s) found.\n"
     ]
    },
    {
     "name": "stderr",
     "output_type": "stream",
     "text": [
      "\n",
      "Executing Pipeline:   0%|                                                                 | 0/37 [00:00<?, ? Samples/s]\u001b[A\n",
      "Processing <PIL.Image.Image image mode=RGB size=303x404 at 0x215C66D6850>:   0%|          | 0/37 [00:00<?, ? Samples/s]\u001b[A\n",
      "Processing <PIL.Image.Image image mode=RGB size=303x404 at 0x215C66D6850>:   3%|  | 1/37 [00:00<00:07,  4.71 Samples/s]\u001b[A\n",
      "Processing <PIL.Image.Image image mode=RGB size=303x404 at 0x215C6715280>:   3%|  | 1/37 [00:00<00:07,  4.71 Samples/s]\u001b[A\n",
      "Processing <PIL.Image.Image image mode=RGB size=303x404 at 0x215C66F0850>:   5%|  | 2/37 [00:00<00:07,  4.71 Samples/s]\u001b[A\n",
      "Processing <PIL.Image.Image image mode=RGB size=303x404 at 0x215C66BD130>:   8%|▏ | 3/37 [00:00<00:07,  4.71 Samples/s]\u001b[A\n",
      "Processing <PIL.Image.Image image mode=RGB size=303x404 at 0x215C6671190>:  11%|▏ | 4/37 [00:00<00:07,  4.71 Samples/s]\u001b[A\n",
      "Processing <PIL.Image.Image image mode=RGB size=303x404 at 0x215C66BD190>:  14%|▎ | 5/37 [00:00<00:06,  4.71 Samples/s]\u001b[A\n",
      "Processing <PIL.Image.Image image mode=RGB size=303x404 at 0x215C66ADA90>:  16%|▎ | 6/37 [00:00<00:06,  4.71 Samples/s]\u001b[A\n",
      "Processing <PIL.Image.Image image mode=RGB size=303x404 at 0x215C668AC10>:  19%|▍ | 7/37 [00:00<00:06,  4.71 Samples/s]\u001b[A\n",
      "Processing <PIL.Image.Image image mode=RGB size=303x404 at 0x215C66AD910>:  22%|▍ | 8/37 [00:00<00:06,  4.71 Samples/s]\u001b[A\n",
      "Processing <PIL.Image.Image image mode=RGB size=303x404 at 0x215C6671460>:  24%|▍ | 9/37 [00:00<00:05,  4.71 Samples/s]\u001b[A\n",
      "Processing <PIL.Image.Image image mode=RGB size=303x404 at 0x215C66D6C10>:  27%|▎| 10/37 [00:00<00:05,  4.71 Samples/s]\u001b[A\n",
      "Processing <PIL.Image.Image image mode=RGB size=303x404 at 0x215C66D6C10>:  30%|▎| 11/37 [00:00<00:00, 34.60 Samples/s]\u001b[A\n",
      "Processing <PIL.Image.Image image mode=RGB size=303x404 at 0x215C66BD130>:  30%|▎| 11/37 [00:00<00:00, 34.60 Samples/s]\u001b[A\n",
      "Processing <PIL.Image.Image image mode=RGB size=303x404 at 0x215C66ADFA0>:  32%|▎| 12/37 [00:00<00:00, 34.60 Samples/s]\u001b[A\n",
      "Processing <PIL.Image.Image image mode=RGB size=303x404 at 0x215C66ADE20>:  35%|▎| 13/37 [00:00<00:00, 34.60 Samples/s]\u001b[A\n",
      "Processing <PIL.Image.Image image mode=RGB size=303x404 at 0x215C66BD4C0>:  38%|▍| 14/37 [00:00<00:00, 34.60 Samples/s]\u001b[A\n",
      "Processing <PIL.Image.Image image mode=RGB size=303x404 at 0x215C6671FD0>:  41%|▍| 15/37 [00:00<00:00, 34.60 Samples/s]\u001b[A\n",
      "Processing <PIL.Image.Image image mode=RGB size=303x404 at 0x215C6671FD0>:  43%|▍| 16/37 [00:00<00:00, 33.57 Samples/s]\u001b[A\n",
      "Processing <PIL.Image.Image image mode=RGB size=303x404 at 0x215C66ADAF0>:  43%|▍| 16/37 [00:00<00:00, 33.57 Samples/s]\u001b[A\n",
      "Processing <PIL.Image.Image image mode=RGB size=303x404 at 0x215C66D6370>:  46%|▍| 17/37 [00:00<00:00, 33.57 Samples/s]\u001b[A\n",
      "Processing <PIL.Image.Image image mode=RGB size=303x404 at 0x215C66BD3D0>:  49%|▍| 18/37 [00:00<00:00, 33.57 Samples/s]\u001b[A\n",
      "Processing <PIL.Image.Image image mode=RGB size=303x404 at 0x215C66D61F0>:  51%|▌| 19/37 [00:00<00:00, 33.57 Samples/s]\u001b[A\n",
      "Processing <PIL.Image.Image image mode=RGB size=303x404 at 0x215C66AD9A0>:  54%|▌| 20/37 [00:00<00:00, 33.57 Samples/s]\u001b[A\n",
      "Processing <PIL.Image.Image image mode=RGB size=303x404 at 0x215C66ADC40>:  57%|▌| 21/37 [00:00<00:00, 33.57 Samples/s]\u001b[A\n",
      "Processing <PIL.Image.Image image mode=RGB size=303x404 at 0x215C66E2E80>:  59%|▌| 22/37 [00:00<00:00, 33.57 Samples/s]\u001b[A\n",
      "Processing <PIL.Image.Image image mode=RGB size=303x404 at 0x215C66E2F10>:  62%|▌| 23/37 [00:00<00:00, 33.57 Samples/s]\u001b[A\n",
      "Processing <PIL.Image.Image image mode=RGB size=303x404 at 0x215C66E2F10>:  65%|▋| 24/37 [00:00<00:00, 44.39 Samples/s]\u001b[A\n",
      "Processing <PIL.Image.Image image mode=RGB size=303x404 at 0x215C66ADC70>:  65%|▋| 24/37 [00:00<00:00, 44.39 Samples/s]\u001b[A\n",
      "Processing <PIL.Image.Image image mode=RGB size=303x404 at 0x215C66BD1F0>:  68%|▋| 25/37 [00:00<00:00, 44.39 Samples/s]\u001b[A\n",
      "Processing <PIL.Image.Image image mode=RGB size=303x404 at 0x215C66EBA30>:  70%|▋| 26/37 [00:00<00:00, 44.39 Samples/s]\u001b[A\n",
      "Processing <PIL.Image.Image image mode=RGB size=303x404 at 0x215C66AD040>:  73%|▋| 27/37 [00:00<00:00, 44.39 Samples/s]\u001b[A\n",
      "Processing <PIL.Image.Image image mode=RGB size=303x404 at 0x215C66E24C0>:  76%|▊| 28/37 [00:00<00:00, 44.39 Samples/s]\u001b[A\n",
      "Processing <PIL.Image.Image image mode=RGB size=303x404 at 0x215C66E24C0>:  78%|▊| 29/37 [00:00<00:00, 45.10 Samples/s]\u001b[A\n",
      "Processing <PIL.Image.Image image mode=RGB size=303x404 at 0x215C66AD070>:  78%|▊| 29/37 [00:00<00:00, 45.10 Samples/s]\u001b[A\n",
      "Processing <PIL.Image.Image image mode=RGB size=303x404 at 0x215C66ADF70>:  81%|▊| 30/37 [00:00<00:00, 45.10 Samples/s]\u001b[A\n",
      "Processing <PIL.Image.Image image mode=RGB size=303x404 at 0x215C66AD9A0>:  84%|▊| 31/37 [00:00<00:00, 45.10 Samples/s]\u001b[A\n",
      "Processing <PIL.Image.Image image mode=RGB size=303x404 at 0x215C66EBF70>:  86%|▊| 32/37 [00:00<00:00, 45.10 Samples/s]\u001b[A\n",
      "Processing <PIL.Image.Image image mode=RGB size=303x404 at 0x215C66ADAC0>:  89%|▉| 33/37 [00:00<00:00, 45.10 Samples/s]\u001b[A\n",
      "Processing <PIL.Image.Image image mode=RGB size=303x404 at 0x215C66BDBB0>:  92%|▉| 34/37 [00:00<00:00, 45.10 Samples/s]\u001b[A\n",
      "Processing <PIL.Image.Image image mode=RGB size=303x404 at 0x215C66E2C40>:  95%|▉| 35/37 [00:00<00:00, 45.10 Samples/s]\u001b[A\n",
      "Processing <PIL.Image.Image image mode=RGB size=303x404 at 0x215C66ADD00>: 100%|█| 37/37 [00:00<00:00, 45.52 Samples/s]\u001b[A\n",
      " 84%|████████████████████████████████████████████████████████████████████▉             | 42/50 [00:52<00:11,  1.38s/it]"
     ]
    },
    {
     "name": "stdout",
     "output_type": "stream",
     "text": [
      "Initialised with 102 image(s) found.\n",
      "Output directory set to BarkVN-50/BarkVN-50_mendeley/Spondias mombin L/output."
     ]
    },
    {
     "name": "stderr",
     "output_type": "stream",
     "text": [
      "\n",
      "Processing:   0%|                                                                         | 0/102 [00:00<?, ? Images/s]\u001b[A\n",
      "                                                                                                                       \u001b[A"
     ]
    },
    {
     "name": "stdout",
     "output_type": "stream",
     "text": [
      "102 ground truth image(s) found.\n"
     ]
    },
    {
     "name": "stderr",
     "output_type": "stream",
     "text": [
      "\n",
      "Executing Pipeline:   0%|                                                                 | 0/31 [00:00<?, ? Samples/s]\u001b[A\n",
      "Processing <PIL.Image.Image image mode=RGB size=303x404 at 0x215C66ADFD0>:   0%|          | 0/31 [00:00<?, ? Samples/s]\u001b[A\n",
      "Processing <PIL.Image.Image image mode=RGB size=303x404 at 0x215C66EB0D0>:   3%|  | 1/31 [00:00<00:03,  9.93 Samples/s]\u001b[A\n",
      "Processing <PIL.Image.Image image mode=RGB size=303x404 at 0x215C66EB0D0>:   6%|▏ | 2/31 [00:00<00:01, 19.47 Samples/s]\u001b[A\n",
      "Processing <PIL.Image.Image image mode=RGB size=303x404 at 0x215C66EB640>:   6%|▏ | 2/31 [00:00<00:01, 19.47 Samples/s]\u001b[A\n",
      "Processing <PIL.Image.Image image mode=RGB size=303x404 at 0x215C66C8460>:  10%|▏ | 3/31 [00:00<00:01, 19.47 Samples/s]\u001b[A\n",
      "Processing <PIL.Image.Image image mode=RGB size=303x404 at 0x215C66D6F10>:  13%|▎ | 4/31 [00:00<00:01, 19.47 Samples/s]\u001b[A\n",
      "Processing <PIL.Image.Image image mode=RGB size=303x404 at 0x215C66D68E0>:  16%|▎ | 5/31 [00:00<00:01, 19.47 Samples/s]\u001b[A\n",
      "Processing <PIL.Image.Image image mode=RGB size=303x404 at 0x215C66F0D90>:  19%|▍ | 6/31 [00:00<00:01, 19.47 Samples/s]\u001b[A\n",
      "Processing <PIL.Image.Image image mode=RGB size=303x404 at 0x215C66EB4F0>:  23%|▍ | 7/31 [00:00<00:01, 19.47 Samples/s]\u001b[A\n",
      "Processing <PIL.Image.Image image mode=RGB size=303x404 at 0x215C66D6E80>:  26%|▌ | 8/31 [00:00<00:01, 19.47 Samples/s]\u001b[A\n",
      "Processing <PIL.Image.Image image mode=RGB size=303x404 at 0x215C66F00A0>:  29%|▌ | 9/31 [00:00<00:01, 19.47 Samples/s]\u001b[A\n",
      "Processing <PIL.Image.Image image mode=RGB size=303x404 at 0x215C66AD850>:  32%|▎| 10/31 [00:00<00:01, 19.47 Samples/s]\u001b[A\n",
      "Processing <PIL.Image.Image image mode=RGB size=303x404 at 0x215C66ADE80>:  35%|▎| 11/31 [00:00<00:01, 19.47 Samples/s]\u001b[A\n",
      "Processing <PIL.Image.Image image mode=RGB size=303x404 at 0x215C668AF70>:  39%|▍| 12/31 [00:00<00:00, 19.47 Samples/s]\u001b[A\n",
      "Processing <PIL.Image.Image image mode=RGB size=303x404 at 0x215C66E2130>:  42%|▍| 13/31 [00:00<00:00, 19.47 Samples/s]\u001b[A\n",
      "Processing <PIL.Image.Image image mode=RGB size=303x404 at 0x215C66BD8E0>:  45%|▍| 14/31 [00:00<00:00, 19.47 Samples/s]\u001b[A\n",
      "Processing <PIL.Image.Image image mode=RGB size=303x404 at 0x215C66BD8E0>:  48%|▍| 15/31 [00:00<00:00, 78.86 Samples/s]\u001b[A\n",
      "Processing <PIL.Image.Image image mode=RGB size=303x404 at 0x215C66AD220>:  48%|▍| 15/31 [00:00<00:00, 78.86 Samples/s]\u001b[A\n",
      "Processing <PIL.Image.Image image mode=RGB size=303x404 at 0x215C66C8310>:  52%|▌| 16/31 [00:00<00:00, 78.86 Samples/s]\u001b[A\n",
      "Processing <PIL.Image.Image image mode=RGB size=303x404 at 0x215C66714F0>:  55%|▌| 17/31 [00:00<00:00, 78.86 Samples/s]\u001b[A\n",
      "Processing <PIL.Image.Image image mode=RGB size=303x404 at 0x215C6671A60>:  58%|▌| 18/31 [00:00<00:00, 78.86 Samples/s]\u001b[A\n",
      "Processing <PIL.Image.Image image mode=RGB size=303x404 at 0x215C66E2940>:  61%|▌| 19/31 [00:00<00:00, 78.86 Samples/s]\u001b[A\n",
      "Processing <PIL.Image.Image image mode=RGB size=303x404 at 0x215C66BDEE0>:  65%|▋| 20/31 [00:00<00:00, 78.86 Samples/s]\u001b[A\n",
      "Processing <PIL.Image.Image image mode=RGB size=303x404 at 0x215C66EBE20>:  68%|▋| 21/31 [00:00<00:00, 78.86 Samples/s]\u001b[A\n",
      "Processing <PIL.Image.Image image mode=RGB size=303x404 at 0x215C66E2760>:  71%|▋| 22/31 [00:00<00:00, 78.86 Samples/s]\u001b[A\n",
      "Processing <PIL.Image.Image image mode=RGB size=303x404 at 0x215C66F0250>:  74%|▋| 23/31 [00:00<00:00, 78.86 Samples/s]\u001b[A\n",
      "Processing <PIL.Image.Image image mode=RGB size=303x404 at 0x215C668A0A0>:  77%|▊| 24/31 [00:00<00:00, 78.86 Samples/s]\u001b[A\n",
      "Processing <PIL.Image.Image image mode=RGB size=303x404 at 0x215C66C8F10>:  81%|▊| 25/31 [00:00<00:00, 78.86 Samples/s]\u001b[A\n",
      "Processing <PIL.Image.Image image mode=RGB size=303x404 at 0x215C66EB0D0>:  84%|▊| 26/31 [00:00<00:00, 78.86 Samples/s]\u001b[A\n",
      "Processing <PIL.Image.Image image mode=RGB size=303x404 at 0x215C66EB760>:  87%|▊| 27/31 [00:00<00:00, 78.86 Samples/s]\u001b[A\n",
      "Processing <PIL.Image.Image image mode=RGB size=303x404 at 0x215C66E2220>:  90%|▉| 28/31 [00:00<00:00, 78.86 Samples/s]\u001b[A\n",
      "Processing <PIL.Image.Image image mode=RGB size=303x404 at 0x215C66EBC70>:  94%|▉| 29/31 [00:00<00:00, 78.86 Samples/s]\u001b[A\n",
      "Processing <PIL.Image.Image image mode=RGB size=303x404 at 0x215C66E2D00>: 100%|█| 31/31 [00:00<00:00, 102.58 Samples/s\u001b[A\n",
      " 86%|██████████████████████████████████████████████████████████████████████▌           | 43/50 [00:53<00:09,  1.31s/it]"
     ]
    },
    {
     "name": "stdout",
     "output_type": "stream",
     "text": [
      "Initialised with 109 image(s) found.\n",
      "Output directory set to BarkVN-50/BarkVN-50_mendeley/Syzygium nervosum/output."
     ]
    },
    {
     "name": "stderr",
     "output_type": "stream",
     "text": [
      "\n",
      "Processing:   0%|                                                                         | 0/109 [00:00<?, ? Images/s]\u001b[A\n",
      "                                                                                                                       \u001b[A"
     ]
    },
    {
     "name": "stdout",
     "output_type": "stream",
     "text": [
      "109 ground truth image(s) found.\n"
     ]
    },
    {
     "name": "stderr",
     "output_type": "stream",
     "text": [
      "\n",
      "Executing Pipeline:   0%|                                                                 | 0/26 [00:00<?, ? Samples/s]\u001b[A\n",
      "Processing <PIL.Image.Image image mode=RGB size=303x404 at 0x215C66BDA00>:   0%|          | 0/26 [00:00<?, ? Samples/s]\u001b[A\n",
      "Processing <PIL.Image.Image image mode=RGB size=303x404 at 0x215C66BDA00>:   4%|  | 1/26 [00:00<00:02,  8.95 Samples/s]\u001b[A\n",
      "Processing <PIL.Image.Image image mode=RGB size=303x404 at 0x215C668AEE0>:   4%|  | 1/26 [00:00<00:02,  8.95 Samples/s]\u001b[A\n",
      "Processing <PIL.Image.Image image mode=RGB size=303x404 at 0x215C668AB80>:   8%|▏ | 2/26 [00:00<00:02,  8.95 Samples/s]\u001b[A\n",
      "Processing <PIL.Image.Image image mode=RGB size=303x404 at 0x215C66C8250>:  12%|▏ | 3/26 [00:00<00:02,  8.95 Samples/s]\u001b[A\n",
      "Processing <PIL.Image.Image image mode=RGB size=303x404 at 0x215C66C85E0>:  15%|▎ | 4/26 [00:00<00:02,  8.95 Samples/s]\u001b[A\n",
      "Processing <PIL.Image.Image image mode=RGB size=303x404 at 0x215C66D6850>:  19%|▍ | 5/26 [00:00<00:02,  8.95 Samples/s]\u001b[A\n",
      "Processing <PIL.Image.Image image mode=RGB size=303x404 at 0x215C6671790>:  23%|▍ | 6/26 [00:00<00:02,  8.95 Samples/s]\u001b[A\n",
      "Processing <PIL.Image.Image image mode=RGB size=303x404 at 0x215C66717F0>:  27%|▌ | 7/26 [00:00<00:02,  8.95 Samples/s]\u001b[A\n",
      "Processing <PIL.Image.Image image mode=RGB size=303x404 at 0x215C66AD9D0>:  31%|▌ | 8/26 [00:00<00:02,  8.95 Samples/s]\u001b[A\n",
      "Processing <PIL.Image.Image image mode=RGB size=303x404 at 0x215C66F0E20>:  35%|▋ | 9/26 [00:00<00:01,  8.95 Samples/s]\u001b[A\n",
      "Processing <PIL.Image.Image image mode=RGB size=303x404 at 0x215C66717F0>:  38%|▍| 10/26 [00:00<00:01,  8.95 Samples/s]\u001b[A\n",
      "Processing <PIL.Image.Image image mode=RGB size=303x404 at 0x215C66EB340>:  42%|▍| 11/26 [00:00<00:01,  8.95 Samples/s]\u001b[A\n",
      "Processing <PIL.Image.Image image mode=RGB size=303x404 at 0x215C66EB340>:  46%|▍| 12/26 [00:00<00:00, 60.35 Samples/s]\u001b[A\n",
      "Processing <PIL.Image.Image image mode=RGB size=303x404 at 0x215C6671E80>:  46%|▍| 12/26 [00:00<00:00, 60.35 Samples/s]\u001b[A\n",
      "Processing <PIL.Image.Image image mode=RGB size=303x404 at 0x215C66EB190>:  50%|▌| 13/26 [00:00<00:00, 60.35 Samples/s]\u001b[A\n",
      "Processing <PIL.Image.Image image mode=RGB size=303x404 at 0x215C66C8E50>:  54%|▌| 14/26 [00:00<00:00, 60.35 Samples/s]\u001b[A\n",
      "Processing <PIL.Image.Image image mode=RGB size=303x404 at 0x215C66EBFD0>:  58%|▌| 15/26 [00:00<00:00, 60.35 Samples/s]\u001b[A\n",
      "Processing <PIL.Image.Image image mode=RGB size=303x404 at 0x215C668AE20>:  62%|▌| 16/26 [00:00<00:00, 60.35 Samples/s]\u001b[A\n",
      "Processing <PIL.Image.Image image mode=RGB size=303x404 at 0x215C6671B20>:  65%|▋| 17/26 [00:00<00:00, 60.35 Samples/s]\u001b[A\n",
      "Processing <PIL.Image.Image image mode=RGB size=303x404 at 0x215C66AD520>:  69%|▋| 18/26 [00:00<00:00, 60.35 Samples/s]\u001b[A\n",
      "Processing <PIL.Image.Image image mode=RGB size=303x404 at 0x215C66AD070>:  73%|▋| 19/26 [00:00<00:00, 60.35 Samples/s]\u001b[A\n",
      "Processing <PIL.Image.Image image mode=RGB size=303x404 at 0x215C66EB910>:  77%|▊| 20/26 [00:00<00:00, 60.35 Samples/s]\u001b[A\n",
      "Processing <PIL.Image.Image image mode=RGB size=303x404 at 0x215C66D6C10>:  81%|▊| 21/26 [00:00<00:00, 60.35 Samples/s]\u001b[A\n",
      "Processing <PIL.Image.Image image mode=RGB size=303x404 at 0x215C66EB550>:  85%|▊| 22/26 [00:00<00:00, 60.35 Samples/s]\u001b[A\n",
      "Processing <PIL.Image.Image image mode=RGB size=303x404 at 0x215C66EB730>:  88%|▉| 23/26 [00:00<00:00, 60.35 Samples/s]\u001b[A\n",
      "Processing <PIL.Image.Image image mode=RGB size=303x404 at 0x215C668AE50>:  92%|▉| 24/26 [00:00<00:00, 60.35 Samples/s]\u001b[A\n",
      "Processing <PIL.Image.Image image mode=RGB size=303x404 at 0x215C66EB610>: 100%|█| 26/26 [00:00<00:00, 79.00 Samples/s]\u001b[A\n",
      " 88%|████████████████████████████████████████████████████████████████████████▏         | 44/50 [00:54<00:07,  1.18s/it]"
     ]
    },
    {
     "name": "stdout",
     "output_type": "stream",
     "text": [
      "Initialised with 103 image(s) found.\n",
      "Output directory set to BarkVN-50/BarkVN-50_mendeley/Tamarindus indica/output."
     ]
    },
    {
     "name": "stderr",
     "output_type": "stream",
     "text": [
      "\n",
      "Processing:   0%|                                                                         | 0/103 [00:00<?, ? Images/s]\u001b[A\n",
      "                                                                                                                       \u001b[A"
     ]
    },
    {
     "name": "stdout",
     "output_type": "stream",
     "text": [
      "103 ground truth image(s) found.\n"
     ]
    },
    {
     "name": "stderr",
     "output_type": "stream",
     "text": [
      "\n",
      "Executing Pipeline:   0%|                                                                 | 0/30 [00:00<?, ? Samples/s]\u001b[A\n",
      "Processing <PIL.Image.Image image mode=RGB size=303x404 at 0x215C66ADE50>:   0%|          | 0/30 [00:00<?, ? Samples/s]\u001b[A\n",
      "Processing <PIL.Image.Image image mode=RGB size=303x404 at 0x215C66ADE50>:   3%|  | 1/30 [00:00<00:06,  4.23 Samples/s]\u001b[A\n",
      "Processing <PIL.Image.Image image mode=RGB size=303x404 at 0x215C668AA60>:   3%|  | 1/30 [00:00<00:06,  4.23 Samples/s]\u001b[A\n",
      "Processing <PIL.Image.Image image mode=RGB size=303x404 at 0x215C66C8D60>:   7%|▏ | 2/30 [00:00<00:06,  4.23 Samples/s]\u001b[A\n",
      "Processing <PIL.Image.Image image mode=RGB size=303x404 at 0x215C66C8310>:  10%|▏ | 3/30 [00:00<00:06,  4.23 Samples/s]\u001b[A\n",
      "Processing <PIL.Image.Image image mode=RGB size=303x404 at 0x215C66AD8E0>:  13%|▎ | 4/30 [00:00<00:06,  4.23 Samples/s]\u001b[A\n",
      "Processing <PIL.Image.Image image mode=RGB size=303x404 at 0x215C66BD550>:  17%|▎ | 5/30 [00:00<00:05,  4.23 Samples/s]\u001b[A\n",
      "Processing <PIL.Image.Image image mode=RGB size=303x404 at 0x215C66E2A00>:  20%|▍ | 6/30 [00:00<00:05,  4.23 Samples/s]\u001b[A\n",
      "Processing <PIL.Image.Image image mode=RGB size=303x404 at 0x215C66D6880>:  23%|▍ | 7/30 [00:00<00:05,  4.23 Samples/s]\u001b[A\n",
      "Processing <PIL.Image.Image image mode=RGB size=303x404 at 0x215C66BDC70>:  27%|▌ | 8/30 [00:00<00:05,  4.23 Samples/s]\u001b[A\n",
      "Processing <PIL.Image.Image image mode=RGB size=303x404 at 0x215C66EBB50>:  30%|▌ | 9/30 [00:00<00:04,  4.23 Samples/s]\u001b[A\n",
      "Processing <PIL.Image.Image image mode=RGB size=303x404 at 0x215C668A040>:  33%|▎| 10/30 [00:00<00:04,  4.23 Samples/s]\u001b[A\n",
      "Processing <PIL.Image.Image image mode=RGB size=303x404 at 0x215C668A040>:  37%|▎| 11/30 [00:00<00:00, 33.54 Samples/s]\u001b[A\n",
      "Processing <PIL.Image.Image image mode=RGB size=303x404 at 0x215C668AA00>:  37%|▎| 11/30 [00:00<00:00, 33.54 Samples/s]\u001b[A\n",
      "Processing <PIL.Image.Image image mode=RGB size=303x404 at 0x215C66BDCA0>:  40%|▍| 12/30 [00:00<00:00, 33.54 Samples/s]\u001b[A\n",
      "Processing <PIL.Image.Image image mode=RGB size=303x404 at 0x215C668AEB0>:  43%|▍| 13/30 [00:00<00:00, 33.54 Samples/s]\u001b[A\n",
      "Processing <PIL.Image.Image image mode=RGB size=303x404 at 0x215C668A040>:  47%|▍| 14/30 [00:00<00:00, 33.54 Samples/s]\u001b[A\n",
      "Processing <PIL.Image.Image image mode=RGB size=303x404 at 0x215C66EB760>:  50%|▌| 15/30 [00:00<00:00, 33.54 Samples/s]\u001b[A\n",
      "Processing <PIL.Image.Image image mode=RGB size=303x404 at 0x215C66EB760>:  53%|▌| 16/30 [00:00<00:00, 36.84 Samples/s]\u001b[A\n",
      "Processing <PIL.Image.Image image mode=RGB size=303x404 at 0x215C66BD9D0>:  53%|▌| 16/30 [00:00<00:00, 36.84 Samples/s]\u001b[A\n",
      "Processing <PIL.Image.Image image mode=RGB size=303x404 at 0x215C66BDEB0>:  57%|▌| 17/30 [00:00<00:00, 36.84 Samples/s]\u001b[A\n",
      "Processing <PIL.Image.Image image mode=RGB size=303x404 at 0x215C668AC40>:  60%|▌| 18/30 [00:00<00:00, 36.84 Samples/s]\u001b[A\n",
      "Processing <PIL.Image.Image image mode=RGB size=303x404 at 0x215C66AD070>:  63%|▋| 19/30 [00:00<00:00, 36.84 Samples/s]\u001b[A\n",
      "Processing <PIL.Image.Image image mode=RGB size=303x404 at 0x215C66EB760>:  67%|▋| 20/30 [00:00<00:00, 36.84 Samples/s]\u001b[A\n",
      "Processing <PIL.Image.Image image mode=RGB size=303x404 at 0x215C66AD040>:  70%|▋| 21/30 [00:00<00:00, 36.84 Samples/s]\u001b[A\n",
      "Processing <PIL.Image.Image image mode=RGB size=303x404 at 0x215C668A9D0>:  73%|▋| 22/30 [00:00<00:00, 36.84 Samples/s]\u001b[A\n",
      "Processing <PIL.Image.Image image mode=RGB size=303x404 at 0x215C66ADCA0>:  77%|▊| 23/30 [00:00<00:00, 36.84 Samples/s]\u001b[A\n",
      "Processing <PIL.Image.Image image mode=RGB size=303x404 at 0x215C66ADCA0>:  80%|▊| 24/30 [00:00<00:00, 45.38 Samples/s]\u001b[A\n",
      "Processing <PIL.Image.Image image mode=RGB size=303x404 at 0x215C66BD250>:  80%|▊| 24/30 [00:00<00:00, 45.38 Samples/s]\u001b[A\n",
      "Processing <PIL.Image.Image image mode=RGB size=303x404 at 0x215C66ADFD0>:  83%|▊| 25/30 [00:00<00:00, 45.38 Samples/s]\u001b[A\n",
      "Processing <PIL.Image.Image image mode=RGB size=303x404 at 0x215C66ADE80>:  87%|▊| 26/30 [00:00<00:00, 45.38 Samples/s]\u001b[A\n",
      "Processing <PIL.Image.Image image mode=RGB size=303x404 at 0x215C668ACA0>:  90%|▉| 27/30 [00:00<00:00, 45.38 Samples/s]\u001b[A\n",
      "Processing <PIL.Image.Image image mode=RGB size=303x404 at 0x215C66AD520>:  93%|▉| 28/30 [00:00<00:00, 45.38 Samples/s]\u001b[A\n",
      "Processing <PIL.Image.Image image mode=RGB size=303x404 at 0x215C668AC40>:  97%|▉| 29/30 [00:00<00:00, 45.38 Samples/s]\u001b[A\n",
      "Processing <PIL.Image.Image image mode=RGB size=303x404 at 0x215C668AC40>: 100%|█| 30/30 [00:00<00:00, 39.89 Samples/s]\u001b[A\n",
      " 90%|█████████████████████████████████████████████████████████████████████████▊        | 45/50 [00:56<00:06,  1.36s/it]"
     ]
    },
    {
     "name": "stdout",
     "output_type": "stream",
     "text": [
      "Initialised with 102 image(s) found.\n",
      "Output directory set to BarkVN-50/BarkVN-50_mendeley/Tectona grandis/output."
     ]
    },
    {
     "name": "stderr",
     "output_type": "stream",
     "text": [
      "\n",
      "Processing:   0%|                                                                         | 0/102 [00:00<?, ? Images/s]\u001b[A\n",
      "                                                                                                                       \u001b[A"
     ]
    },
    {
     "name": "stdout",
     "output_type": "stream",
     "text": [
      "102 ground truth image(s) found.\n"
     ]
    },
    {
     "name": "stderr",
     "output_type": "stream",
     "text": [
      "\n",
      "Executing Pipeline:   0%|                                                                 | 0/31 [00:00<?, ? Samples/s]\u001b[A\n",
      "Processing <PIL.Image.Image image mode=RGB size=303x404 at 0x215C6671190>:   0%|          | 0/31 [00:00<?, ? Samples/s]\u001b[A\n",
      "Processing <PIL.Image.Image image mode=RGB size=303x404 at 0x215C6671190>:   3%|  | 1/31 [00:00<00:05,  5.86 Samples/s]\u001b[A\n",
      "Processing <PIL.Image.Image image mode=RGB size=303x404 at 0x215C66D6940>:   3%|  | 1/31 [00:00<00:05,  5.86 Samples/s]\u001b[A\n",
      "Processing <PIL.Image.Image image mode=RGB size=303x404 at 0x215C66D6730>:   6%|▏ | 2/31 [00:00<00:04,  5.86 Samples/s]\u001b[A\n",
      "Processing <PIL.Image.Image image mode=RGB size=303x404 at 0x215C66EBBB0>:  10%|▏ | 3/31 [00:00<00:04,  5.86 Samples/s]\u001b[A\n",
      "Processing <PIL.Image.Image image mode=RGB size=303x404 at 0x215C66BD6D0>:  13%|▎ | 4/31 [00:00<00:04,  5.86 Samples/s]\u001b[A\n",
      "Processing <PIL.Image.Image image mode=RGB size=303x404 at 0x215C66BD6D0>:  16%|▎ | 5/31 [00:00<00:01, 21.35 Samples/s]\u001b[A\n",
      "Processing <PIL.Image.Image image mode=RGB size=303x404 at 0x215C66D6C40>:  16%|▎ | 5/31 [00:00<00:01, 21.35 Samples/s]\u001b[A\n",
      "Processing <PIL.Image.Image image mode=RGB size=303x404 at 0x215C66EB1C0>:  19%|▍ | 6/31 [00:00<00:01, 21.35 Samples/s]\u001b[A\n",
      "Processing <PIL.Image.Image image mode=RGB size=303x404 at 0x215C66C8B80>:  23%|▍ | 7/31 [00:00<00:01, 21.35 Samples/s]\u001b[A\n",
      "Processing <PIL.Image.Image image mode=RGB size=303x404 at 0x215C66719D0>:  26%|▌ | 8/31 [00:00<00:01, 21.35 Samples/s]\u001b[A\n",
      "Processing <PIL.Image.Image image mode=RGB size=303x404 at 0x215C66C8670>:  29%|▌ | 9/31 [00:00<00:01, 21.35 Samples/s]\u001b[A\n",
      "Processing <PIL.Image.Image image mode=RGB size=303x404 at 0x215C66E23D0>:  32%|▎| 10/31 [00:00<00:00, 21.35 Samples/s]\u001b[A\n",
      "Processing <PIL.Image.Image image mode=RGB size=303x404 at 0x215C66EB100>:  35%|▎| 11/31 [00:00<00:00, 21.35 Samples/s]\u001b[A\n",
      "Processing <PIL.Image.Image image mode=RGB size=303x404 at 0x215C66EB100>:  39%|▍| 12/31 [00:00<00:00, 36.01 Samples/s]\u001b[A\n",
      "Processing <PIL.Image.Image image mode=RGB size=303x404 at 0x215C66BD790>:  39%|▍| 12/31 [00:00<00:00, 36.01 Samples/s]\u001b[A\n",
      "Processing <PIL.Image.Image image mode=RGB size=303x404 at 0x215C66E2040>:  42%|▍| 13/31 [00:00<00:00, 36.01 Samples/s]\u001b[A\n",
      "Processing <PIL.Image.Image image mode=RGB size=303x404 at 0x215C6671190>:  45%|▍| 14/31 [00:00<00:00, 36.01 Samples/s]\u001b[A\n",
      "Processing <PIL.Image.Image image mode=RGB size=303x404 at 0x215C6671A30>:  48%|▍| 15/31 [00:00<00:00, 36.01 Samples/s]\u001b[A\n",
      "Processing <PIL.Image.Image image mode=RGB size=303x404 at 0x215C66BD100>:  52%|▌| 16/31 [00:00<00:00, 36.01 Samples/s]\u001b[A\n",
      "Processing <PIL.Image.Image image mode=RGB size=303x404 at 0x215C66BD100>:  55%|▌| 17/31 [00:00<00:00, 37.47 Samples/s]\u001b[A\n",
      "Processing <PIL.Image.Image image mode=RGB size=303x404 at 0x215C66D6C70>:  55%|▌| 17/31 [00:00<00:00, 37.47 Samples/s]\u001b[A\n",
      "Processing <PIL.Image.Image image mode=RGB size=303x404 at 0x215C66D6640>:  58%|▌| 18/31 [00:00<00:00, 37.47 Samples/s]\u001b[A\n",
      "Processing <PIL.Image.Image image mode=RGB size=303x404 at 0x215C66D65B0>:  61%|▌| 19/31 [00:00<00:00, 37.47 Samples/s]\u001b[A\n",
      "Processing <PIL.Image.Image image mode=RGB size=303x404 at 0x215C66D6A60>:  65%|▋| 20/31 [00:00<00:00, 37.47 Samples/s]\u001b[A\n",
      "Processing <PIL.Image.Image image mode=RGB size=303x404 at 0x215C668A070>:  68%|▋| 21/31 [00:00<00:00, 37.47 Samples/s]\u001b[A\n",
      "Processing <PIL.Image.Image image mode=RGB size=303x404 at 0x215C66EB2B0>:  71%|▋| 22/31 [00:00<00:00, 37.47 Samples/s]\u001b[A\n",
      "Processing <PIL.Image.Image image mode=RGB size=303x404 at 0x215C66D6E80>:  74%|▋| 23/31 [00:00<00:00, 37.47 Samples/s]\u001b[A\n",
      "Processing <PIL.Image.Image image mode=RGB size=303x404 at 0x215C6671B50>:  77%|▊| 24/31 [00:00<00:00, 37.47 Samples/s]\u001b[A\n",
      "Processing <PIL.Image.Image image mode=RGB size=303x404 at 0x215C6671B50>:  81%|▊| 25/31 [00:00<00:00, 50.17 Samples/s]\u001b[A\n",
      "Processing <PIL.Image.Image image mode=RGB size=303x404 at 0x215C66ADE50>:  81%|▊| 25/31 [00:00<00:00, 50.17 Samples/s]\u001b[A\n",
      "Processing <PIL.Image.Image image mode=RGB size=303x404 at 0x215C668AB20>:  84%|▊| 26/31 [00:00<00:00, 50.17 Samples/s]\u001b[A\n",
      "Processing <PIL.Image.Image image mode=RGB size=303x404 at 0x215C66D6850>:  87%|▊| 27/31 [00:00<00:00, 50.17 Samples/s]\u001b[A\n",
      "Processing <PIL.Image.Image image mode=RGB size=303x404 at 0x215C66D6EE0>:  90%|▉| 28/31 [00:00<00:00, 50.17 Samples/s]\u001b[A\n",
      "Processing <PIL.Image.Image image mode=RGB size=303x404 at 0x215C66D6910>:  94%|▉| 29/31 [00:00<00:00, 50.17 Samples/s]\u001b[A\n",
      "Processing <PIL.Image.Image image mode=RGB size=303x404 at 0x215C66D6C70>: 100%|█| 31/31 [00:00<00:00, 45.91 Samples/s]\u001b[A\n",
      " 92%|███████████████████████████████████████████████████████████████████████████▍      | 46/50 [00:57<00:05,  1.46s/it]"
     ]
    },
    {
     "name": "stdout",
     "output_type": "stream",
     "text": [
      "Initialised with 113 image(s) found.\n",
      "Output directory set to BarkVN-50/BarkVN-50_mendeley/Terminalia catappa/output."
     ]
    },
    {
     "name": "stderr",
     "output_type": "stream",
     "text": [
      "\n",
      "Processing:   0%|                                                                         | 0/113 [00:00<?, ? Images/s]\u001b[A\n",
      "                                                                                                                       \u001b[A"
     ]
    },
    {
     "name": "stdout",
     "output_type": "stream",
     "text": [
      "113 ground truth image(s) found.\n"
     ]
    },
    {
     "name": "stderr",
     "output_type": "stream",
     "text": [
      "\n",
      "Executing Pipeline:   0%|                                                                 | 0/24 [00:00<?, ? Samples/s]\u001b[A\n",
      "Processing <PIL.Image.Image image mode=RGB size=303x404 at 0x215C66AD400>:   0%|          | 0/24 [00:00<?, ? Samples/s]\u001b[A\n",
      "Processing <PIL.Image.Image image mode=RGB size=303x404 at 0x215C66AD400>:   4%|  | 1/24 [00:00<00:02,  8.64 Samples/s]\u001b[A\n",
      "Processing <PIL.Image.Image image mode=RGB size=303x404 at 0x215C66AD910>:   4%|  | 1/24 [00:00<00:02,  8.64 Samples/s]\u001b[A\n",
      "Processing <PIL.Image.Image image mode=RGB size=303x404 at 0x215C66BD820>:   8%|▏ | 2/24 [00:00<00:02,  8.64 Samples/s]\u001b[A\n",
      "Processing <PIL.Image.Image image mode=RGB size=303x404 at 0x215C66BDA00>:  12%|▎ | 3/24 [00:00<00:02,  8.64 Samples/s]\u001b[A\n",
      "Processing <PIL.Image.Image image mode=RGB size=303x404 at 0x215C66ADCA0>:  17%|▎ | 4/24 [00:00<00:02,  8.64 Samples/s]\u001b[A\n",
      "Processing <PIL.Image.Image image mode=RGB size=303x404 at 0x215C66BD130>:  21%|▍ | 5/24 [00:00<00:02,  8.64 Samples/s]\u001b[A\n",
      "Processing <PIL.Image.Image image mode=RGB size=303x404 at 0x215C66ADA30>:  25%|▌ | 6/24 [00:00<00:02,  8.64 Samples/s]\u001b[A\n",
      "Processing <PIL.Image.Image image mode=RGB size=303x404 at 0x215C66C8D30>:  29%|▌ | 7/24 [00:00<00:01,  8.64 Samples/s]\u001b[A\n",
      "Processing <PIL.Image.Image image mode=RGB size=303x404 at 0x215C66E2AC0>:  33%|▋ | 8/24 [00:00<00:01,  8.64 Samples/s]\u001b[A\n",
      "Processing <PIL.Image.Image image mode=RGB size=303x404 at 0x215C6671AF0>:  38%|▊ | 9/24 [00:00<00:01,  8.64 Samples/s]\u001b[A\n",
      "Processing <PIL.Image.Image image mode=RGB size=303x404 at 0x215C6671AF0>:  42%|▍| 10/24 [00:00<00:00, 52.52 Samples/s]\u001b[A\n",
      "Processing <PIL.Image.Image image mode=RGB size=303x404 at 0x215C66BDEB0>:  42%|▍| 10/24 [00:00<00:00, 52.52 Samples/s]\u001b[A\n",
      "Processing <PIL.Image.Image image mode=RGB size=303x404 at 0x215C66C8490>:  46%|▍| 11/24 [00:00<00:00, 52.52 Samples/s]\u001b[A\n",
      "Processing <PIL.Image.Image image mode=RGB size=303x404 at 0x215C66BDF10>:  50%|▌| 12/24 [00:00<00:00, 52.52 Samples/s]\u001b[A\n",
      "Processing <PIL.Image.Image image mode=RGB size=303x404 at 0x215C66BDCA0>:  54%|▌| 13/24 [00:00<00:00, 52.52 Samples/s]\u001b[A\n",
      "Processing <PIL.Image.Image image mode=RGB size=303x404 at 0x215C66EB370>:  58%|▌| 14/24 [00:00<00:00, 52.52 Samples/s]\u001b[A\n",
      "Processing <PIL.Image.Image image mode=RGB size=303x404 at 0x215C66EB610>:  62%|▋| 15/24 [00:00<00:00, 52.52 Samples/s]\u001b[A\n",
      "Processing <PIL.Image.Image image mode=RGB size=303x404 at 0x215C66C8580>:  67%|▋| 16/24 [00:00<00:00, 52.52 Samples/s]\u001b[A\n",
      "Processing <PIL.Image.Image image mode=RGB size=303x404 at 0x215C6671CA0>:  71%|▋| 17/24 [00:00<00:00, 52.52 Samples/s]\u001b[A\n",
      "Processing <PIL.Image.Image image mode=RGB size=303x404 at 0x215C668AD90>:  75%|▊| 18/24 [00:00<00:00, 52.52 Samples/s]\u001b[A\n",
      "Processing <PIL.Image.Image image mode=RGB size=303x404 at 0x215C66BD310>:  79%|▊| 19/24 [00:00<00:00, 52.52 Samples/s]\u001b[A\n",
      "Processing <PIL.Image.Image image mode=RGB size=303x404 at 0x215C66BDAC0>:  83%|▊| 20/24 [00:00<00:00, 52.52 Samples/s]\u001b[A\n",
      "Processing <PIL.Image.Image image mode=RGB size=303x404 at 0x215C6671D90>:  88%|▉| 21/24 [00:00<00:00, 52.52 Samples/s]\u001b[A\n",
      "Processing <PIL.Image.Image image mode=RGB size=303x404 at 0x215C6671130>:  92%|▉| 22/24 [00:00<00:00, 52.52 Samples/s]\u001b[A\n",
      "Processing <PIL.Image.Image image mode=RGB size=303x404 at 0x215C6671A30>: 100%|█| 24/24 [00:00<00:00, 87.83 Samples/s]\u001b[A\n",
      " 94%|█████████████████████████████████████████████████████████████████████████████     | 47/50 [00:58<00:03,  1.28s/it]"
     ]
    },
    {
     "name": "stdout",
     "output_type": "stream",
     "text": [
      "Initialised with 152 image(s) found.\n",
      "Output directory set to BarkVN-50/BarkVN-50_mendeley/Veitchia merrilli/output."
     ]
    },
    {
     "name": "stderr",
     "output_type": "stream",
     "text": [
      "\n",
      "Processing:   0%|                                                                         | 0/152 [00:00<?, ? Images/s]\u001b[A\n",
      "                                                                                                                       \u001b[A"
     ]
    },
    {
     "name": "stdout",
     "output_type": "stream",
     "text": [
      "152 ground truth image(s) found.\n"
     ]
    },
    {
     "name": "stderr",
     "output_type": "stream",
     "text": [
      "\n",
      "Executing Pipeline: 0 Samples [00:00, ? Samples/s]\u001b[A\n",
      " 96%|██████████████████████████████████████████████████████████████████████████████▋   | 48/50 [00:59<00:02,  1.23s/it]"
     ]
    },
    {
     "name": "stdout",
     "output_type": "stream",
     "text": [
      "Initialised with 97 image(s) found.\n",
      "Output directory set to BarkVN-50/BarkVN-50_mendeley/Wrightia/output."
     ]
    },
    {
     "name": "stderr",
     "output_type": "stream",
     "text": [
      "\n",
      "Processing:   0%|                                                                          | 0/97 [00:00<?, ? Images/s]\u001b[A\n",
      " 98%|████████████████████████████████████████████████████████████████████████████████▎ | 49/50 [01:00<00:01,  1.12s/it]\u001b[A"
     ]
    },
    {
     "name": "stdout",
     "output_type": "stream",
     "text": [
      "97 ground truth image(s) found.\n",
      "Initialised with 100 image(s) found.\n",
      "Output directory set to BarkVN-50/BarkVN-50_mendeley/Wrightia religiosa/output."
     ]
    },
    {
     "name": "stderr",
     "output_type": "stream",
     "text": [
      "\n",
      "Processing:   0%|                                                                         | 0/100 [00:00<?, ? Images/s]\u001b[A\n",
      "                                                                                                                       \u001b[A"
     ]
    },
    {
     "name": "stdout",
     "output_type": "stream",
     "text": [
      "100 ground truth image(s) found.\n"
     ]
    },
    {
     "name": "stderr",
     "output_type": "stream",
     "text": [
      "\n",
      "Executing Pipeline:   0%|                                                                 | 0/33 [00:00<?, ? Samples/s]\u001b[A\n",
      "Processing <PIL.Image.Image image mode=RGB size=303x404 at 0x215C668A9A0>:   0%|          | 0/33 [00:00<?, ? Samples/s]\u001b[A\n",
      "Processing <PIL.Image.Image image mode=RGB size=303x404 at 0x215C668A9A0>:   3%|  | 1/33 [00:00<00:06,  4.71 Samples/s]\u001b[A\n",
      "Processing <PIL.Image.Image image mode=RGB size=303x404 at 0x215C66CF1C0>:   3%|  | 1/33 [00:00<00:06,  4.71 Samples/s]\u001b[A\n",
      "Processing <PIL.Image.Image image mode=RGB size=303x404 at 0x215C66C8E50>:   6%|  | 2/33 [00:00<00:06,  4.71 Samples/s]\u001b[A\n",
      "Processing <PIL.Image.Image image mode=RGB size=303x404 at 0x215C66C8280>:   9%|▏ | 3/33 [00:00<00:06,  4.71 Samples/s]\u001b[A\n",
      "Processing <PIL.Image.Image image mode=RGB size=303x404 at 0x215C668A040>:  12%|▏ | 4/33 [00:00<00:06,  4.71 Samples/s]\u001b[A\n",
      "Processing <PIL.Image.Image image mode=RGB size=303x404 at 0x215C66AD1C0>:  15%|▎ | 5/33 [00:00<00:05,  4.71 Samples/s]\u001b[A\n",
      "Processing <PIL.Image.Image image mode=RGB size=303x404 at 0x215C668ADF0>:  18%|▎ | 6/33 [00:00<00:05,  4.71 Samples/s]\u001b[A\n",
      "Processing <PIL.Image.Image image mode=RGB size=303x404 at 0x215C66E22E0>:  21%|▍ | 7/33 [00:00<00:05,  4.71 Samples/s]\u001b[A\n",
      "Processing <PIL.Image.Image image mode=RGB size=303x404 at 0x215C66AD040>:  24%|▍ | 8/33 [00:00<00:05,  4.71 Samples/s]\u001b[A\n",
      "Processing <PIL.Image.Image image mode=RGB size=303x404 at 0x215C66D62E0>:  27%|▌ | 9/33 [00:00<00:05,  4.71 Samples/s]\u001b[A\n",
      "Processing <PIL.Image.Image image mode=RGB size=303x404 at 0x215C66D62E0>:  30%|▎| 10/33 [00:00<00:00, 35.61 Samples/s]\u001b[A\n",
      "Processing <PIL.Image.Image image mode=RGB size=303x404 at 0x215C66D6160>:  30%|▎| 10/33 [00:00<00:00, 35.61 Samples/s]\u001b[A\n",
      "Processing <PIL.Image.Image image mode=RGB size=303x404 at 0x215C66E2FD0>:  33%|▎| 11/33 [00:00<00:00, 35.61 Samples/s]\u001b[A\n",
      "Processing <PIL.Image.Image image mode=RGB size=303x404 at 0x215C66E2CD0>:  36%|▎| 12/33 [00:00<00:00, 35.61 Samples/s]\u001b[A\n",
      "Processing <PIL.Image.Image image mode=RGB size=303x404 at 0x215C66D6040>:  39%|▍| 13/33 [00:00<00:00, 35.61 Samples/s]\u001b[A\n",
      "Processing <PIL.Image.Image image mode=RGB size=303x404 at 0x215C668AEB0>:  42%|▍| 14/33 [00:00<00:00, 35.61 Samples/s]\u001b[A\n",
      "Processing <PIL.Image.Image image mode=RGB size=303x404 at 0x215C668AEB0>:  45%|▍| 15/33 [00:00<00:00, 33.10 Samples/s]\u001b[A\n",
      "Processing <PIL.Image.Image image mode=RGB size=303x404 at 0x215C66AD490>:  45%|▍| 15/33 [00:00<00:00, 33.10 Samples/s]\u001b[A\n",
      "Processing <PIL.Image.Image image mode=RGB size=303x404 at 0x215C66E20D0>:  48%|▍| 16/33 [00:00<00:00, 33.10 Samples/s]\u001b[A\n",
      "Processing <PIL.Image.Image image mode=RGB size=303x404 at 0x215C66E21F0>:  52%|▌| 17/33 [00:00<00:00, 33.10 Samples/s]\u001b[A\n",
      "Processing <PIL.Image.Image image mode=RGB size=303x404 at 0x215C66AD040>:  55%|▌| 18/33 [00:00<00:00, 33.10 Samples/s]\u001b[A\n",
      "Processing <PIL.Image.Image image mode=RGB size=303x404 at 0x215C66D61F0>:  58%|▌| 19/33 [00:00<00:00, 33.10 Samples/s]\u001b[A\n",
      "Processing <PIL.Image.Image image mode=RGB size=303x404 at 0x215C66E2D00>:  61%|▌| 20/33 [00:00<00:00, 33.10 Samples/s]\u001b[A\n",
      "Processing <PIL.Image.Image image mode=RGB size=303x404 at 0x215C668AE50>:  64%|▋| 21/33 [00:00<00:00, 33.10 Samples/s]\u001b[A\n",
      "Processing <PIL.Image.Image image mode=RGB size=303x404 at 0x215C66ADE20>:  67%|▋| 22/33 [00:00<00:00, 33.10 Samples/s]\u001b[A\n",
      "Processing <PIL.Image.Image image mode=RGB size=303x404 at 0x215C66ADE20>:  70%|▋| 23/33 [00:00<00:00, 44.28 Samples/s]\u001b[A\n",
      "Processing <PIL.Image.Image image mode=RGB size=303x404 at 0x215C66F04C0>:  70%|▋| 23/33 [00:00<00:00, 44.28 Samples/s]\u001b[A\n",
      "Processing <PIL.Image.Image image mode=RGB size=303x404 at 0x215C66F06D0>:  73%|▋| 24/33 [00:00<00:00, 44.28 Samples/s]\u001b[A\n",
      "Processing <PIL.Image.Image image mode=RGB size=303x404 at 0x215C66F0370>:  76%|▊| 25/33 [00:00<00:00, 44.28 Samples/s]\u001b[A\n",
      "Processing <PIL.Image.Image image mode=RGB size=303x404 at 0x215C66F09D0>:  79%|▊| 26/33 [00:00<00:00, 44.28 Samples/s]\u001b[A\n",
      "Processing <PIL.Image.Image image mode=RGB size=303x404 at 0x215C66F0400>:  82%|▊| 27/33 [00:00<00:00, 44.28 Samples/s]\u001b[A\n",
      "Processing <PIL.Image.Image image mode=RGB size=303x404 at 0x215C66F0400>:  85%|▊| 28/33 [00:00<00:00, 44.07 Samples/s]\u001b[A\n",
      "Processing <PIL.Image.Image image mode=RGB size=303x404 at 0x215C66F0F10>:  85%|▊| 28/33 [00:00<00:00, 44.07 Samples/s]\u001b[A\n",
      "Processing <PIL.Image.Image image mode=RGB size=303x404 at 0x215C66F0F70>:  88%|▉| 29/33 [00:00<00:00, 44.07 Samples/s]\u001b[A\n",
      "Processing <PIL.Image.Image image mode=RGB size=303x404 at 0x215C66F0A30>:  91%|▉| 30/33 [00:00<00:00, 44.07 Samples/s]\u001b[A\n",
      "Processing <PIL.Image.Image image mode=RGB size=303x404 at 0x215C66F0CD0>:  94%|▉| 31/33 [00:00<00:00, 44.07 Samples/s]\u001b[A\n",
      "Processing <PIL.Image.Image image mode=RGB size=303x404 at 0x215C66F0BE0>: 100%|█| 33/33 [00:00<00:00, 42.75 Samples/s]\u001b[A\n",
      "100%|██████████████████████████████████████████████████████████████████████████████████| 50/50 [01:02<00:00,  1.24s/it]\n"
     ]
    }
   ],
   "source": [
    "for folder in tqdm(os.listdir(\"BarkVN-50/BarkVN-50_mendeley/\")):\n",
    "        value_of_label = dict_labels[folder] #dict_labels is the dictionary whose key:value pairs are classes:numbers representing them\n",
    "        p = Augmentor.Pipeline(\"BarkVN-50/BarkVN-50_mendeley/\" + folder + '/') # An output folder will be created for each class\n",
    "        # Point to a directory containing ground truth data.\n",
    "        # Images with the same file names will be added as ground truth data\n",
    "        # and augmented in parallel to the original data.\n",
    "        p.ground_truth(\"BarkVN-50/BarkVN-50_mendeley/\" + folder + '/')\n",
    "        # Adding operations to the pipeline as normal:\n",
    "        p.rotate(probability=1, max_left_rotation=5, max_right_rotation=5)\n",
    "        p.flip_left_right(probability=0.5)\n",
    "        p.zoom_random(probability=0.5, percentage_area=0.8)\n",
    "        p.flip_top_bottom(probability=0.5)\n",
    "        if train_imgs_per_class[folder] < avg_class:\n",
    "            p.sample(100-train_imgs_per_class[folder])\n",
    "        "
   ]
  },
  {
   "cell_type": "markdown",
   "metadata": {},
   "source": [
    "**Reference for the augmentation technique:** https://github.com/mdbloice/Augmentor/blob/master/notebooks/Per_Class_Augmentation_Strategy.ipynb"
   ]
  },
  {
   "cell_type": "markdown",
   "metadata": {},
   "source": [
    "#### Moving augmented images from output folders to the original class folders"
   ]
  },
  {
   "cell_type": "code",
   "execution_count": 21,
   "metadata": {
    "scrolled": true
   },
   "outputs": [
    {
     "name": "stderr",
     "output_type": "stream",
     "text": [
      "100%|██████████████████████████████████████████████████████████████████████████████████| 50/50 [00:33<00:00,  1.50it/s]\n"
     ]
    }
   ],
   "source": [
    "import shutil\n",
    "import os\n",
    "import glob\n",
    "count = 0\n",
    "for folder in tqdm(os.listdir(\"BarkVN-50/BarkVN-50_mendeley/\")): \n",
    "    ## path to source directory\n",
    "    files = os.listdir(\"BarkVN-50/BarkVN-50_mendeley/\" + folder + \"/output\")\n",
    "    for image in files:\n",
    "        image = cv2.imread(\"BarkVN-50/BarkVN-50_mendeley/\" + folder + \"/output/\" + image)\n",
    "        count +=1\n",
    "        # moving images from output folders to respective image class folder\n",
    "        cv2.imwrite(\"BarkVN-50/BarkVN-50_mendeley/\" + folder + \"/\"+'IMG_AUG_{}.JPG'.format(count), image, [int(cv2.IMWRITE_JPEG_QUALITY), 95]) \n",
    "    count=0\n",
    "    "
   ]
  },
  {
   "cell_type": "markdown",
   "metadata": {},
   "source": [
    "#### Deleting the output folders"
   ]
  },
  {
   "cell_type": "code",
   "execution_count": 22,
   "metadata": {},
   "outputs": [
    {
     "name": "stderr",
     "output_type": "stream",
     "text": [
      "100%|██████████████████████████████████████████████████████████████████████████████████| 50/50 [00:01<00:00, 49.07it/s]\n"
     ]
    }
   ],
   "source": [
    "for folder in tqdm(os.listdir(\"BarkVN-50/BarkVN-50_mendeley/\")): \n",
    "# Remove the Directory\n",
    "    path = \"BarkVN-50/BarkVN-50_mendeley/\" + folder + \"/output\"\n",
    "    shutil.rmtree(path)"
   ]
  },
  {
   "cell_type": "markdown",
   "metadata": {},
   "source": [
    "**Creating custom function to load the dataset**"
   ]
  },
  {
   "cell_type": "code",
   "execution_count": 23,
   "metadata": {},
   "outputs": [],
   "source": [
    "def dataset(path): #put path till the highest directory level\n",
    "    images = []\n",
    "    labels = []\n",
    "    for folder in tqdm(os.listdir(path)):\n",
    "        value_of_label = dict_labels[folder] #dict_labels is the dictionary whose key:value pairs are classes:numbers representing them\n",
    "        for file in (os.listdir(os.path.join(path, folder))):\n",
    "            path_of_file = os.path.join(os.path.join(path, folder), file)\n",
    "\n",
    "            image = cv2.imread(path_of_file)\n",
    "            image = cv2.cvtColor(image, cv2.COLOR_BGR2RGB)\n",
    "            image = cv2.resize(image, (150, 150))\n",
    "            images.append(image)\n",
    "            labels.append(value_of_label)\n",
    "\n",
    "    images = np.array(images, dtype = 'float32')/255.0\n",
    "    labels = np.array(labels)\n",
    "\n",
    "    return images, labels\n"
   ]
  },
  {
   "cell_type": "markdown",
   "metadata": {},
   "source": [
    "### Loading the dataset using the dataset function"
   ]
  },
  {
   "cell_type": "code",
   "execution_count": 24,
   "metadata": {},
   "outputs": [
    {
     "name": "stderr",
     "output_type": "stream",
     "text": [
      "100%|██████████████████████████████████████████████████████████████████████████████████| 50/50 [00:41<00:00,  1.20it/s]\n"
     ]
    }
   ],
   "source": [
    "images, labels = dataset('BarkVN-50/BarkVN-50_mendeley/')    # Loading the dataset\n",
    "images, labels = shuffle(images, labels, random_state=0)"
   ]
  },
  {
   "cell_type": "code",
   "execution_count": 25,
   "metadata": {},
   "outputs": [],
   "source": [
    "labels = keras.utils.to_categorical(labels, 50) # Converting labels to (_, 50) shape for model training"
   ]
  },
  {
   "cell_type": "markdown",
   "metadata": {},
   "source": [
    "###  Splitting the dataset into train and validation sets"
   ]
  },
  {
   "cell_type": "code",
   "execution_count": 26,
   "metadata": {},
   "outputs": [],
   "source": [
    "from sklearn.model_selection import train_test_split"
   ]
  },
  {
   "cell_type": "code",
   "execution_count": 27,
   "metadata": {},
   "outputs": [],
   "source": [
    "x_train, x_val, y_train, y_val = train_test_split(images, labels, test_size=0.3, random_state=42)"
   ]
  },
  {
   "cell_type": "code",
   "execution_count": 28,
   "metadata": {},
   "outputs": [
    {
     "name": "stdout",
     "output_type": "stream",
     "text": [
      "(5691, 150, 150, 3)\n",
      "(2439, 150, 150, 3)\n",
      "(5691, 50)\n",
      "(2439, 50)\n"
     ]
    }
   ],
   "source": [
    "print( x_train.shape)\n",
    "print(x_val.shape)\n",
    "print(y_train.shape)\n",
    "print(y_val.shape)"
   ]
  },
  {
   "cell_type": "code",
   "execution_count": 29,
   "metadata": {},
   "outputs": [
    {
     "name": "stdout",
     "output_type": "stream",
     "text": [
      "0.474525\n",
      "0.45490196\n"
     ]
    }
   ],
   "source": [
    "print(np.mean(x_train))\n",
    "print(np.median(x_train))"
   ]
  },
  {
   "cell_type": "code",
   "execution_count": 30,
   "metadata": {},
   "outputs": [
    {
     "name": "stdout",
     "output_type": "stream",
     "text": [
      "0.4739313\n",
      "0.45490196\n"
     ]
    }
   ],
   "source": [
    "print(np.mean(x_val))\n",
    "print(np.median(x_val))"
   ]
  },
  {
   "cell_type": "markdown",
   "metadata": {},
   "source": [
    "#### We can observe that both training and validation dataset are quite well distributed."
   ]
  },
  {
   "cell_type": "markdown",
   "metadata": {},
   "source": [
    "## Model Building"
   ]
  },
  {
   "cell_type": "code",
   "execution_count": 14,
   "metadata": {},
   "outputs": [],
   "source": [
    "base_model = keras.applications.ResNet101V2(include_top=False, input_shape=(150,150,3), weights=\"imagenet\")  # Transfer learning\n",
    "base_model.trainable = False   # Setting the training of resnet layers to false to fit our data"
   ]
  },
  {
   "cell_type": "code",
   "execution_count": 24,
   "metadata": {},
   "outputs": [],
   "source": [
    "model_2= keras.Sequential([\n",
    "    base_model,\n",
    "    keras.layers.GlobalAveragePooling2D(),\n",
    "    keras.layers.Dropout(0.3),\n",
    "    keras.layers.Dense(50, activation='softmax')\n",
    "])"
   ]
  },
  {
   "cell_type": "code",
   "execution_count": 25,
   "metadata": {},
   "outputs": [
    {
     "name": "stdout",
     "output_type": "stream",
     "text": [
      "Model: \"sequential_1\"\n",
      "_________________________________________________________________\n",
      " Layer (type)                Output Shape              Param #   \n",
      "=================================================================\n",
      " resnet101v2 (Functional)    (None, 5, 5, 2048)        42626560  \n",
      "                                                                 \n",
      " global_average_pooling2d (G  (None, 2048)             0         \n",
      " lobalAveragePooling2D)                                          \n",
      "                                                                 \n",
      " dropout_2 (Dropout)         (None, 2048)              0         \n",
      "                                                                 \n",
      " dense_4 (Dense)             (None, 50)                102450    \n",
      "                                                                 \n",
      "=================================================================\n",
      "Total params: 42,729,010\n",
      "Trainable params: 102,450\n",
      "Non-trainable params: 42,626,560\n",
      "_________________________________________________________________\n"
     ]
    }
   ],
   "source": [
    "model_2.summary()"
   ]
  },
  {
   "cell_type": "code",
   "execution_count": 78,
   "metadata": {},
   "outputs": [],
   "source": [
    "model_2.compile(optimizer='adam', loss='categorical_crossentropy', metrics=['accuracy'])"
   ]
  },
  {
   "cell_type": "code",
   "execution_count": 79,
   "metadata": {
    "scrolled": true
   },
   "outputs": [
    {
     "name": "stdout",
     "output_type": "stream",
     "text": [
      "Epoch 1/20\n",
      "178/178 [==============================] - 1127s 6s/step - loss: 1.9476 - accuracy: 0.5120 - val_loss: 1.0369 - val_accuracy: 0.7331\n",
      "Epoch 2/20\n",
      "178/178 [==============================] - 673s 4s/step - loss: 0.8277 - accuracy: 0.7900 - val_loss: 0.7558 - val_accuracy: 0.8089\n",
      "Epoch 3/20\n",
      "178/178 [==============================] - 639s 4s/step - loss: 0.5837 - accuracy: 0.8545 - val_loss: 0.6244 - val_accuracy: 0.8434\n",
      "Epoch 4/20\n",
      "178/178 [==============================] - 614s 3s/step - loss: 0.4479 - accuracy: 0.8923 - val_loss: 0.5639 - val_accuracy: 0.8573\n",
      "Epoch 5/20\n",
      "178/178 [==============================] - 615s 3s/step - loss: 0.3656 - accuracy: 0.9188 - val_loss: 0.5238 - val_accuracy: 0.8692\n",
      "Epoch 6/20\n",
      "178/178 [==============================] - 615s 3s/step - loss: 0.3078 - accuracy: 0.9318 - val_loss: 0.4784 - val_accuracy: 0.8848\n",
      "Epoch 7/20\n",
      "178/178 [==============================] - 617s 3s/step - loss: 0.2617 - accuracy: 0.9436 - val_loss: 0.4668 - val_accuracy: 0.8868\n",
      "Epoch 8/20\n",
      "178/178 [==============================] - 619s 3s/step - loss: 0.2333 - accuracy: 0.9501 - val_loss: 0.4298 - val_accuracy: 0.8934\n",
      "Epoch 9/20\n",
      "178/178 [==============================] - 618s 3s/step - loss: 0.2048 - accuracy: 0.9596 - val_loss: 0.4291 - val_accuracy: 0.8954\n",
      "Epoch 10/20\n",
      "178/178 [==============================] - 618s 3s/step - loss: 0.1883 - accuracy: 0.9633 - val_loss: 0.4132 - val_accuracy: 0.8938\n",
      "Epoch 11/20\n",
      "178/178 [==============================] - 616s 3s/step - loss: 0.1650 - accuracy: 0.9707 - val_loss: 0.4030 - val_accuracy: 0.8979\n",
      "Epoch 12/20\n",
      "178/178 [==============================] - 617s 3s/step - loss: 0.1457 - accuracy: 0.9756 - val_loss: 0.4145 - val_accuracy: 0.8967\n",
      "Epoch 13/20\n",
      "178/178 [==============================] - 617s 3s/step - loss: 0.1428 - accuracy: 0.9731 - val_loss: 0.3958 - val_accuracy: 0.9073\n",
      "Epoch 14/20\n",
      "178/178 [==============================] - 616s 3s/step - loss: 0.1334 - accuracy: 0.9736 - val_loss: 0.3946 - val_accuracy: 0.8983\n",
      "Epoch 15/20\n",
      "178/178 [==============================] - 618s 3s/step - loss: 0.1202 - accuracy: 0.9794 - val_loss: 0.3804 - val_accuracy: 0.9049\n",
      "Epoch 16/20\n",
      "178/178 [==============================] - 616s 3s/step - loss: 0.1094 - accuracy: 0.9837 - val_loss: 0.3866 - val_accuracy: 0.9073\n",
      "Epoch 17/20\n",
      "178/178 [==============================] - 613s 3s/step - loss: 0.1026 - accuracy: 0.9819 - val_loss: 0.3867 - val_accuracy: 0.9036\n",
      "Epoch 18/20\n",
      "178/178 [==============================] - 615s 3s/step - loss: 0.0955 - accuracy: 0.9828 - val_loss: 0.3824 - val_accuracy: 0.9057\n",
      "Epoch 19/20\n",
      "178/178 [==============================] - 615s 3s/step - loss: 0.0864 - accuracy: 0.9870 - val_loss: 0.3846 - val_accuracy: 0.9049\n",
      "Epoch 20/20\n",
      "178/178 [==============================] - 613s 3s/step - loss: 0.0854 - accuracy: 0.9859 - val_loss: 0.3872 - val_accuracy: 0.9049\n"
     ]
    }
   ],
   "source": [
    "history_2 = model_2.fit(x_train, y_train, epochs = 20, batch_size = 32, validation_data = (x_val, y_val))"
   ]
  },
  {
   "cell_type": "code",
   "execution_count": 80,
   "metadata": {},
   "outputs": [
    {
     "name": "stdout",
     "output_type": "stream",
     "text": [
      "77/77 [==============================] - 184s 2s/step - loss: 0.3872 - accuracy: 0.9049\n",
      "Loss = 0.626278817653656\n",
      "Valiadtion Accuracy = 0.8720787167549133\n"
     ]
    }
   ],
   "source": [
    "preds_2 = model_2.evaluate(x_val, y_val, batch_size=32)\n",
    "print (\"Loss = \" + str(preds[0]))\n",
    "print (\"Valiadtion Accuracy = \" + str(preds[1]))"
   ]
  },
  {
   "cell_type": "code",
   "execution_count": 81,
   "metadata": {},
   "outputs": [
    {
     "data": {
      "image/png": "[encoded data removed]",
      "text/plain": [
       "<Figure size 576x576 with 2 Axes>"
      ]
     },
     "metadata": {
      "needs_background": "light"
     },
     "output_type": "display_data"
    }
   ],
   "source": [
    "acc = [0.] + history_2.history['accuracy']\n",
    "val_acc = [0.] + history_2.history['val_accuracy']\n",
    "\n",
    "loss = history_2.history['loss']\n",
    "val_loss = history_2.history['val_loss']\n",
    "\n",
    "plt.figure(figsize=(8, 8))\n",
    "plt.subplot(2, 1, 1)\n",
    "plt.plot(acc, label='Training Accuracy')\n",
    "plt.plot(val_acc, label='Validation Accuracy')\n",
    "plt.legend(loc='lower right')\n",
    "plt.ylabel('Accuracy')\n",
    "plt.ylim([min(plt.ylim()),1])\n",
    "plt.title('Training and Validation Accuracy')\n",
    "\n",
    "plt.subplot(2, 1, 2)\n",
    "plt.plot(loss, label='Training Loss')\n",
    "plt.plot(val_loss, label='Validation Loss')\n",
    "plt.legend(loc='upper right')\n",
    "plt.ylabel('Cross Entropy')\n",
    "plt.ylim([0,1.0])\n",
    "plt.title('Training and Validation Loss')\n",
    "plt.xlabel('epoch')\n",
    "plt.show()"
   ]
  },
  {
   "cell_type": "markdown",
   "metadata": {},
   "source": [
    "#### Model 2 performs better than model 1, so we will choose model 2 as our final model."
   ]
  },
  {
   "cell_type": "markdown",
   "metadata": {},
   "source": [
    "### Classification report"
   ]
  },
  {
   "cell_type": "code",
   "execution_count": 102,
   "metadata": {},
   "outputs": [
    {
     "name": "stdout",
     "output_type": "stream",
     "text": [
      "77/77 [==============================] - 191s 2s/step\n"
     ]
    }
   ],
   "source": [
    "pred=model_2.predict(x_val) \n",
    "outcomes=np.argmax(pred,axis=1)"
   ]
  },
  {
   "cell_type": "code",
   "execution_count": 99,
   "metadata": {},
   "outputs": [],
   "source": [
    "from sklearn.metrics import classification_report"
   ]
  },
  {
   "cell_type": "code",
   "execution_count": 103,
   "metadata": {},
   "outputs": [
    {
     "name": "stdout",
     "output_type": "stream",
     "text": [
      "                           precision    recall  f1-score   support\n",
      "\n",
      "                   Acacia       0.95      0.98      0.96        56\n",
      "  Adenanthera microsperma       0.87      0.92      0.89        49\n",
      "          Adenium species       1.00      1.00      1.00        43\n",
      "   Anacardium occidentale       0.94      0.96      0.95        68\n",
      "          Annona squamosa       0.96      0.92      0.94        52\n",
      "       Artocarpus altilis       1.00      1.00      1.00        50\n",
      " Artocarpus heterophyllus       0.94      0.88      0.91        57\n",
      "  Barringtonia acutangula       0.89      0.96      0.92        49\n",
      "          Cananga odorata       0.96      0.81      0.88        57\n",
      "            Carica papaya       1.00      0.97      0.98        65\n",
      "  Casuarina equisetifolia       0.88      0.94      0.91        48\n",
      "                   Cedrus       0.96      0.98      0.97        52\n",
      "    Chrysophyllum cainino       0.96      1.00      0.98        51\n",
      "     Citrus aurantiifolia       0.98      0.95      0.97        44\n",
      "           Citrus grandis       0.98      0.91      0.94        46\n",
      "           Cocos nucifera       1.00      1.00      1.00        50\n",
      "        Dalbergia oliveri       0.89      0.64      0.74        50\n",
      "            Delonix regia       0.75      0.78      0.76        60\n",
      "     Dipterocarpus alatus       0.83      0.65      0.73        46\n",
      "          Erythrina fusca       0.88      0.80      0.84        45\n",
      "               Eucalyptus       0.95      0.98      0.96        53\n",
      "         Ficus microcarpa       0.96      0.98      0.97        46\n",
      "           Ficus racemosa       0.90      0.97      0.93        29\n",
      "     Gmelina arborea Roxb       1.00      0.94      0.97        51\n",
      "       Hevea brasiliensis       0.95      0.86      0.90        49\n",
      "                    Hopea       0.63      0.78      0.70        41\n",
      "       Khaya senegalensis       1.00      1.00      1.00        25\n",
      "Khaya senegalensis A.Juss       0.84      0.94      0.89        54\n",
      "   Lagerstroemia speciosa       0.80      0.90      0.85        49\n",
      "            Magnolia alba       0.76      1.00      0.87        39\n",
      "                Mangifera       0.94      0.89      0.92        56\n",
      "                Melaleuca       0.83      0.78      0.80        58\n",
      "          Melia azedarach       0.93      1.00      0.96        39\n",
      "                     Musa       0.98      1.00      0.99        46\n",
      "      Nephelium lappaceum       0.88      0.83      0.85        42\n",
      "                   Persea       0.96      0.96      0.96        52\n",
      "    Polyalthia longifolia       0.85      0.78      0.81        50\n",
      "                  Prunnus       0.88      0.96      0.92        55\n",
      "          Prunus salicina       0.96      0.85      0.90        55\n",
      "          Psidium guajava       0.98      1.00      0.99        46\n",
      "  Pterocarpus macrocarpus       0.81      0.94      0.87        50\n",
      "             Senna siamea       0.73      0.81      0.77        47\n",
      "        Spondias mombin L       0.94      1.00      0.97        45\n",
      "        Syzygium nervosum       0.98      1.00      0.99        47\n",
      "        Tamarindus indica       0.90      0.88      0.89        40\n",
      "          Tectona grandis       0.75      0.73      0.74        60\n",
      "       Terminalia catappa       0.80      0.71      0.75        51\n",
      "        Veitchia merrilli       1.00      1.00      1.00        49\n",
      "                 Wrightia       0.96      0.87      0.92        31\n",
      "       Wrightia religiosa       0.96      0.98      0.97        46\n",
      "\n",
      "                 accuracy                           0.90      2439\n",
      "                macro avg       0.91      0.91      0.91      2439\n",
      "             weighted avg       0.91      0.90      0.90      2439\n",
      "\n"
     ]
    }
   ],
   "source": [
    "print(classification_report(np.where(y_val == 1)[1], outcomes, target_names=class_names))"
   ]
  },
  {
   "cell_type": "markdown",
   "metadata": {},
   "source": [
    "#### We can observe that our model performs well on average."
   ]
  }
 ],
 "metadata": {
  "kernelspec": {
   "display_name": "Python 3 (ipykernel)",
   "language": "python",
   "name": "python3"
  },
  "language_info": {
   "codemirror_mode": {
    "name": "ipython",
    "version": 3
   },
   "file_extension": ".py",
   "mimetype": "text/x-python",
   "name": "python",
   "nbconvert_exporter": "python",
   "pygments_lexer": "ipython3",
   "version": "3.9.12"
  }
 },
 "nbformat": 4,
 "nbformat_minor": 4
}
